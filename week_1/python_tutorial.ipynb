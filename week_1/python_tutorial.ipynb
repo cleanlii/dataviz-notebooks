{
 "cells": [
  {
   "cell_type": "markdown",
   "id": "d5fa90d9-e4f5-4e90-9658-1be7f70f3f81",
   "metadata": {},
   "source": [
    "# Python Tutorial\n",
    "\n",
    "[![Open In Colab](https://colab.research.google.com/assets/colab-badge.svg)](https://colab.research.google.com/github/shinchu/dataviz-notebooks/blob/main/week_1/python_tutorial.ipynb)\n",
    "\n",
    "公式の[Python Tutorial](https://docs.python.org/3/tutorial/)を進めてみましょう。すでに基礎は身につけているので、興味がある項目を試してみてください。"
   ]
  },
  {
   "cell_type": "code",
   "execution_count": 1,
   "id": "f3f8522f-3ab8-4212-b931-476439d54166",
   "metadata": {},
   "outputs": [],
   "source": [
    "# your code goes here"
   ]
  }
 ],
 "metadata": {
  "kernelspec": {
   "display_name": "Python 3 (ipykernel)",
   "language": "python",
   "name": "python3"
  },
  "language_info": {
   "codemirror_mode": {
    "name": "ipython",
    "version": 3
   },
   "file_extension": ".py",
   "mimetype": "text/x-python",
   "name": "python",
   "nbconvert_exporter": "python",
   "pygments_lexer": "ipython3",
   "version": "3.10.0"
  }
 },
 "nbformat": 4,
 "nbformat_minor": 5
}
