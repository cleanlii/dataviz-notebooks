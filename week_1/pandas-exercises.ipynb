{
 "cells": [
  {
   "cell_type": "markdown",
   "id": "1ce2014f",
   "metadata": {},
   "source": [
    "# pandasの練習\n",
    "\n",
    "[![Open In Colab](https://colab.research.google.com/assets/colab-badge.svg)](https://colab.research.google.com/github/shinchu/dataviz-notebooks/blob/main/week_1/pandas-exercises.ipynb)"
   ]
  },
  {
   "cell_type": "markdown",
   "id": "b975bbbd",
   "metadata": {},
   "source": [
    "練習問題は、[gotty21/basic_pandas-64-knocks](https://github.com/gotty21/basic_pandas-64-knocks)を参考に作成しました。"
   ]
  },
  {
   "cell_type": "markdown",
   "id": "ba75c96e",
   "metadata": {},
   "source": [
    "## 事前準備"
   ]
  },
  {
   "cell_type": "code",
   "execution_count": null,
   "id": "fb76c5e7",
   "metadata": {},
   "outputs": [],
   "source": [
    "import pandas as pd\n",
    "\n",
    "def initialize(flag=0):\n",
    "    if flag == 0: return pd.read_csv(\"\")"
   ]
  }
 ],
 "metadata": {
  "kernelspec": {
   "display_name": "Python 3 (ipykernel)",
   "language": "python",
   "name": "python3"
  },
  "language_info": {
   "codemirror_mode": {
    "name": "ipython",
    "version": 3
   },
   "file_extension": ".py",
   "mimetype": "text/x-python",
   "name": "python",
   "nbconvert_exporter": "python",
   "pygments_lexer": "ipython3",
   "version": "3.10.0"
  }
 },
 "nbformat": 4,
 "nbformat_minor": 5
}
