{
 "cells": [
  {
   "cell_type": "markdown",
   "id": "7e594f0a",
   "metadata": {},
   "source": [
    "# Introduction to pandas\n",
    "\n",
    "[![Open In Colab](https://colab.research.google.com/assets/colab-badge.svg)](https://colab.research.google.com/github/shinchu/dataviz-notebooks/blob/main/week_1/intro-to-pandas.ipynb)"
   ]
  },
  {
   "cell_type": "markdown",
   "id": "71690afd",
   "metadata": {},
   "source": [
    "## データ処理で使うライブラリ"
   ]
  },
  {
   "cell_type": "markdown",
   "id": "bf18fee8",
   "metadata": {},
   "source": [
    "### NumPy\n",
    "\n",
    "Pythonを利用して科学計算を行うための基本的なライブラリです。配列の計算を行うための関数が含まれています。"
   ]
  },
  {
   "cell_type": "code",
   "execution_count": 2,
   "id": "3edb87c8",
   "metadata": {},
   "outputs": [],
   "source": [
    "import numpy as np"
   ]
  },
  {
   "cell_type": "markdown",
   "id": "f9bf76d9",
   "metadata": {},
   "source": [
    "### pandas\n",
    "\n",
    "表形式のデータを高速に処理することができるライブラリです。\n",
    "主な機能として、\n",
    "\n",
    "* CSVファイルの読み書き\n",
    "* 統計量の算出\n",
    "* 並べ替え\n",
    "* データの選択\n",
    "* 条件指定による選択\n",
    "* 欠損値の除去／補間\n",
    "\n",
    "があります。\n",
    "\n",
    "pandasにはデータ処理に便利なデータ構造と関数が含まれています。特にDataFrameオブジェクトは、2次元の表形式でデータを保持することができて取り扱いに便利なので、よく使われます。"
   ]
  },
  {
   "cell_type": "code",
   "execution_count": 3,
   "id": "c691d233",
   "metadata": {},
   "outputs": [],
   "source": [
    "import pandas as pd"
   ]
  },
  {
   "cell_type": "markdown",
   "id": "ba0e00e3",
   "metadata": {},
   "source": [
    "## pandasの基本"
   ]
  },
  {
   "cell_type": "markdown",
   "id": "05d00c39",
   "metadata": {},
   "source": [
    "###  データ形式"
   ]
  },
  {
   "cell_type": "markdown",
   "id": "88ce11ff",
   "metadata": {},
   "source": [
    "#### Series\n",
    "\n",
    "* pandasのデータ構造\n",
    "* 1次元のリストの値とインデックスが付いたオブジェクト\n",
    "* 特別に指定しない限りは、0からインデックスが付与される"
   ]
  },
  {
   "cell_type": "code",
   "execution_count": 4,
   "id": "acdd6e54",
   "metadata": {},
   "outputs": [],
   "source": [
    "sample_series = pd.Series([1, 2, 3])"
   ]
  },
  {
   "cell_type": "code",
   "execution_count": 5,
   "id": "563a6d9e",
   "metadata": {},
   "outputs": [
    {
     "data": {
      "text/plain": [
       "0    1\n",
       "1    2\n",
       "2    3\n",
       "dtype: int64"
      ]
     },
     "execution_count": 5,
     "metadata": {},
     "output_type": "execute_result"
    }
   ],
   "source": [
    "sample_series"
   ]
  },
  {
   "cell_type": "code",
   "execution_count": 6,
   "id": "4cc07eeb",
   "metadata": {},
   "outputs": [
    {
     "data": {
      "text/plain": [
       "pandas.core.series.Series"
      ]
     },
     "execution_count": 6,
     "metadata": {},
     "output_type": "execute_result"
    }
   ],
   "source": [
    "type(sample_series)"
   ]
  },
  {
   "cell_type": "markdown",
   "id": "f3a7c4d3",
   "metadata": {},
   "source": [
    "#### DataFrame\n",
    "\n",
    "* pandasのデータ構造\n",
    "* データ分析に使うデータはDataFrameとして扱うことが多い\n",
    "* Seriesの集合体で、行と列からなる"
   ]
  },
  {
   "cell_type": "code",
   "execution_count": 16,
   "id": "30a51c6e",
   "metadata": {},
   "outputs": [],
   "source": [
    "sample_df = pd.DataFrame({\n",
    "    \"名前\": [\"David\", \"Eliza\", \"Fred\"],\n",
    "    \"点数\": [90, 87, 68]\n",
    "})"
   ]
  },
  {
   "cell_type": "code",
   "execution_count": 17,
   "id": "1b927902",
   "metadata": {},
   "outputs": [
    {
     "data": {
      "text/html": [
       "<div>\n",
       "<style scoped>\n",
       "    .dataframe tbody tr th:only-of-type {\n",
       "        vertical-align: middle;\n",
       "    }\n",
       "\n",
       "    .dataframe tbody tr th {\n",
       "        vertical-align: top;\n",
       "    }\n",
       "\n",
       "    .dataframe thead th {\n",
       "        text-align: right;\n",
       "    }\n",
       "</style>\n",
       "<table border=\"1\" class=\"dataframe\">\n",
       "  <thead>\n",
       "    <tr style=\"text-align: right;\">\n",
       "      <th></th>\n",
       "      <th>名前</th>\n",
       "      <th>点数</th>\n",
       "    </tr>\n",
       "  </thead>\n",
       "  <tbody>\n",
       "    <tr>\n",
       "      <th>0</th>\n",
       "      <td>David</td>\n",
       "      <td>90</td>\n",
       "    </tr>\n",
       "    <tr>\n",
       "      <th>1</th>\n",
       "      <td>Eliza</td>\n",
       "      <td>87</td>\n",
       "    </tr>\n",
       "    <tr>\n",
       "      <th>2</th>\n",
       "      <td>Fred</td>\n",
       "      <td>68</td>\n",
       "    </tr>\n",
       "  </tbody>\n",
       "</table>\n",
       "</div>"
      ],
      "text/plain": [
       "      名前  点数\n",
       "0  David  90\n",
       "1  Eliza  87\n",
       "2   Fred  68"
      ]
     },
     "execution_count": 17,
     "metadata": {},
     "output_type": "execute_result"
    }
   ],
   "source": [
    "sample_df"
   ]
  },
  {
   "cell_type": "code",
   "execution_count": 18,
   "id": "6c4da25c",
   "metadata": {},
   "outputs": [
    {
     "data": {
      "text/plain": [
       "pandas.core.frame.DataFrame"
      ]
     },
     "execution_count": 18,
     "metadata": {},
     "output_type": "execute_result"
    }
   ],
   "source": [
    "type(sample_df)"
   ]
  },
  {
   "cell_type": "markdown",
   "id": "72da5ed6",
   "metadata": {},
   "source": [
    "### 基本的な操作"
   ]
  },
  {
   "cell_type": "markdown",
   "id": "c8e1a0a1",
   "metadata": {},
   "source": [
    "#### CSVファイルを読み込む\n",
    "\n",
    "`pd.read_csv()`でカンマ区切りのファイルを読み込みます。区切り文字を指定することで、タブ区切りなどのファイルも読み込むことができます。\n",
    "\n",
    "今回はURLから読み込みますが、PC上に保存されているローカルファイルもパスを指定することで、同じ要領で読み込めます。\n",
    "\n",
    "Google Driveに保存されているファイルを読み込むこともできます。ぜひ方法を調べてみてください。"
   ]
  },
  {
   "cell_type": "code",
   "execution_count": 14,
   "id": "47c74ff0",
   "metadata": {},
   "outputs": [],
   "source": [
    "new_data = pd.read_csv(\"https://raw.githubusercontent.com/shinchu/dataviz-notebooks/main/data/read_sample.csv\")"
   ]
  },
  {
   "cell_type": "code",
   "execution_count": 15,
   "id": "4dc2e337",
   "metadata": {},
   "outputs": [
    {
     "data": {
      "text/html": [
       "<div>\n",
       "<style scoped>\n",
       "    .dataframe tbody tr th:only-of-type {\n",
       "        vertical-align: middle;\n",
       "    }\n",
       "\n",
       "    .dataframe tbody tr th {\n",
       "        vertical-align: top;\n",
       "    }\n",
       "\n",
       "    .dataframe thead th {\n",
       "        text-align: right;\n",
       "    }\n",
       "</style>\n",
       "<table border=\"1\" class=\"dataframe\">\n",
       "  <thead>\n",
       "    <tr style=\"text-align: right;\">\n",
       "      <th></th>\n",
       "      <th>名前</th>\n",
       "      <th>点数</th>\n",
       "    </tr>\n",
       "  </thead>\n",
       "  <tbody>\n",
       "    <tr>\n",
       "      <th>0</th>\n",
       "      <td>Alice</td>\n",
       "      <td>77</td>\n",
       "    </tr>\n",
       "    <tr>\n",
       "      <th>1</th>\n",
       "      <td>Bob</td>\n",
       "      <td>59</td>\n",
       "    </tr>\n",
       "    <tr>\n",
       "      <th>2</th>\n",
       "      <td>Charlie</td>\n",
       "      <td>87</td>\n",
       "    </tr>\n",
       "  </tbody>\n",
       "</table>\n",
       "</div>"
      ],
      "text/plain": [
       "        名前  点数\n",
       "0    Alice  77\n",
       "1      Bob  59\n",
       "2  Charlie  87"
      ]
     },
     "execution_count": 15,
     "metadata": {},
     "output_type": "execute_result"
    }
   ],
   "source": [
    "new_data"
   ]
  },
  {
   "cell_type": "markdown",
   "id": "0edfda72",
   "metadata": {},
   "source": [
    "#### CSVファイルとして保存する"
   ]
  },
  {
   "cell_type": "markdown",
   "id": "6eccde2e",
   "metadata": {},
   "source": [
    "`DataFrame.to_csv()`でデータフレームをカンマ区切りのファイルとして保存できます。\n",
    "\n",
    "`sep=\"\\t\"`とすると、タブ区切りで保存できます。"
   ]
  },
  {
   "cell_type": "code",
   "execution_count": 20,
   "id": "2709e5b5",
   "metadata": {},
   "outputs": [],
   "source": [
    "sample_df.to_csv(\"sample_df.csv\", index=False, header=True, sep=\",\")"
   ]
  },
  {
   "cell_type": "code",
   "execution_count": null,
   "id": "913bff60",
   "metadata": {},
   "outputs": [],
   "source": [
    "# Colabからファイルをダウンロードする\n",
    "\n",
    "from google.colab import files\n",
    "\n",
    "files.download(\"sample_df.csv\")"
   ]
  },
  {
   "cell_type": "markdown",
   "id": "e02fb1a9",
   "metadata": {},
   "source": [
    "### データフレームを扱う"
   ]
  },
  {
   "cell_type": "markdown",
   "id": "6415a9f9",
   "metadata": {},
   "source": [
    "Titanic datasetを使って、pandasの使い方を学びましょう。\n",
    "\n",
    "これは、1912年に北大西洋で氷山に衝突して沈没したタイタニック号の乗客の生存状況に関するデータセットです。"
   ]
  },
  {
   "cell_type": "code",
   "execution_count": 9,
   "id": "6494664d",
   "metadata": {},
   "outputs": [],
   "source": [
    "# ライブラリのインポート\n",
    "\n",
    "import pandas as pd\n",
    "import numpy as np"
   ]
  },
  {
   "cell_type": "code",
   "execution_count": 22,
   "id": "9c8292a5",
   "metadata": {},
   "outputs": [],
   "source": [
    "# データの読み込み\n",
    "titanic = pd.read_csv(\"https://raw.githubusercontent.com/mwaskom/seaborn-data/master/titanic.csv\")"
   ]
  },
  {
   "cell_type": "code",
   "execution_count": 23,
   "id": "53dedf06",
   "metadata": {},
   "outputs": [
    {
     "data": {
      "text/html": [
       "<div>\n",
       "<style scoped>\n",
       "    .dataframe tbody tr th:only-of-type {\n",
       "        vertical-align: middle;\n",
       "    }\n",
       "\n",
       "    .dataframe tbody tr th {\n",
       "        vertical-align: top;\n",
       "    }\n",
       "\n",
       "    .dataframe thead th {\n",
       "        text-align: right;\n",
       "    }\n",
       "</style>\n",
       "<table border=\"1\" class=\"dataframe\">\n",
       "  <thead>\n",
       "    <tr style=\"text-align: right;\">\n",
       "      <th></th>\n",
       "      <th>survived</th>\n",
       "      <th>pclass</th>\n",
       "      <th>sex</th>\n",
       "      <th>age</th>\n",
       "      <th>sibsp</th>\n",
       "      <th>parch</th>\n",
       "      <th>fare</th>\n",
       "      <th>embarked</th>\n",
       "      <th>class</th>\n",
       "      <th>who</th>\n",
       "      <th>adult_male</th>\n",
       "      <th>deck</th>\n",
       "      <th>embark_town</th>\n",
       "      <th>alive</th>\n",
       "      <th>alone</th>\n",
       "    </tr>\n",
       "  </thead>\n",
       "  <tbody>\n",
       "    <tr>\n",
       "      <th>0</th>\n",
       "      <td>0</td>\n",
       "      <td>3</td>\n",
       "      <td>male</td>\n",
       "      <td>22.0</td>\n",
       "      <td>1</td>\n",
       "      <td>0</td>\n",
       "      <td>7.2500</td>\n",
       "      <td>S</td>\n",
       "      <td>Third</td>\n",
       "      <td>man</td>\n",
       "      <td>True</td>\n",
       "      <td>NaN</td>\n",
       "      <td>Southampton</td>\n",
       "      <td>no</td>\n",
       "      <td>False</td>\n",
       "    </tr>\n",
       "    <tr>\n",
       "      <th>1</th>\n",
       "      <td>1</td>\n",
       "      <td>1</td>\n",
       "      <td>female</td>\n",
       "      <td>38.0</td>\n",
       "      <td>1</td>\n",
       "      <td>0</td>\n",
       "      <td>71.2833</td>\n",
       "      <td>C</td>\n",
       "      <td>First</td>\n",
       "      <td>woman</td>\n",
       "      <td>False</td>\n",
       "      <td>C</td>\n",
       "      <td>Cherbourg</td>\n",
       "      <td>yes</td>\n",
       "      <td>False</td>\n",
       "    </tr>\n",
       "    <tr>\n",
       "      <th>2</th>\n",
       "      <td>1</td>\n",
       "      <td>3</td>\n",
       "      <td>female</td>\n",
       "      <td>26.0</td>\n",
       "      <td>0</td>\n",
       "      <td>0</td>\n",
       "      <td>7.9250</td>\n",
       "      <td>S</td>\n",
       "      <td>Third</td>\n",
       "      <td>woman</td>\n",
       "      <td>False</td>\n",
       "      <td>NaN</td>\n",
       "      <td>Southampton</td>\n",
       "      <td>yes</td>\n",
       "      <td>True</td>\n",
       "    </tr>\n",
       "    <tr>\n",
       "      <th>3</th>\n",
       "      <td>1</td>\n",
       "      <td>1</td>\n",
       "      <td>female</td>\n",
       "      <td>35.0</td>\n",
       "      <td>1</td>\n",
       "      <td>0</td>\n",
       "      <td>53.1000</td>\n",
       "      <td>S</td>\n",
       "      <td>First</td>\n",
       "      <td>woman</td>\n",
       "      <td>False</td>\n",
       "      <td>C</td>\n",
       "      <td>Southampton</td>\n",
       "      <td>yes</td>\n",
       "      <td>False</td>\n",
       "    </tr>\n",
       "    <tr>\n",
       "      <th>4</th>\n",
       "      <td>0</td>\n",
       "      <td>3</td>\n",
       "      <td>male</td>\n",
       "      <td>35.0</td>\n",
       "      <td>0</td>\n",
       "      <td>0</td>\n",
       "      <td>8.0500</td>\n",
       "      <td>S</td>\n",
       "      <td>Third</td>\n",
       "      <td>man</td>\n",
       "      <td>True</td>\n",
       "      <td>NaN</td>\n",
       "      <td>Southampton</td>\n",
       "      <td>no</td>\n",
       "      <td>True</td>\n",
       "    </tr>\n",
       "    <tr>\n",
       "      <th>...</th>\n",
       "      <td>...</td>\n",
       "      <td>...</td>\n",
       "      <td>...</td>\n",
       "      <td>...</td>\n",
       "      <td>...</td>\n",
       "      <td>...</td>\n",
       "      <td>...</td>\n",
       "      <td>...</td>\n",
       "      <td>...</td>\n",
       "      <td>...</td>\n",
       "      <td>...</td>\n",
       "      <td>...</td>\n",
       "      <td>...</td>\n",
       "      <td>...</td>\n",
       "      <td>...</td>\n",
       "    </tr>\n",
       "    <tr>\n",
       "      <th>886</th>\n",
       "      <td>0</td>\n",
       "      <td>2</td>\n",
       "      <td>male</td>\n",
       "      <td>27.0</td>\n",
       "      <td>0</td>\n",
       "      <td>0</td>\n",
       "      <td>13.0000</td>\n",
       "      <td>S</td>\n",
       "      <td>Second</td>\n",
       "      <td>man</td>\n",
       "      <td>True</td>\n",
       "      <td>NaN</td>\n",
       "      <td>Southampton</td>\n",
       "      <td>no</td>\n",
       "      <td>True</td>\n",
       "    </tr>\n",
       "    <tr>\n",
       "      <th>887</th>\n",
       "      <td>1</td>\n",
       "      <td>1</td>\n",
       "      <td>female</td>\n",
       "      <td>19.0</td>\n",
       "      <td>0</td>\n",
       "      <td>0</td>\n",
       "      <td>30.0000</td>\n",
       "      <td>S</td>\n",
       "      <td>First</td>\n",
       "      <td>woman</td>\n",
       "      <td>False</td>\n",
       "      <td>B</td>\n",
       "      <td>Southampton</td>\n",
       "      <td>yes</td>\n",
       "      <td>True</td>\n",
       "    </tr>\n",
       "    <tr>\n",
       "      <th>888</th>\n",
       "      <td>0</td>\n",
       "      <td>3</td>\n",
       "      <td>female</td>\n",
       "      <td>NaN</td>\n",
       "      <td>1</td>\n",
       "      <td>2</td>\n",
       "      <td>23.4500</td>\n",
       "      <td>S</td>\n",
       "      <td>Third</td>\n",
       "      <td>woman</td>\n",
       "      <td>False</td>\n",
       "      <td>NaN</td>\n",
       "      <td>Southampton</td>\n",
       "      <td>no</td>\n",
       "      <td>False</td>\n",
       "    </tr>\n",
       "    <tr>\n",
       "      <th>889</th>\n",
       "      <td>1</td>\n",
       "      <td>1</td>\n",
       "      <td>male</td>\n",
       "      <td>26.0</td>\n",
       "      <td>0</td>\n",
       "      <td>0</td>\n",
       "      <td>30.0000</td>\n",
       "      <td>C</td>\n",
       "      <td>First</td>\n",
       "      <td>man</td>\n",
       "      <td>True</td>\n",
       "      <td>C</td>\n",
       "      <td>Cherbourg</td>\n",
       "      <td>yes</td>\n",
       "      <td>True</td>\n",
       "    </tr>\n",
       "    <tr>\n",
       "      <th>890</th>\n",
       "      <td>0</td>\n",
       "      <td>3</td>\n",
       "      <td>male</td>\n",
       "      <td>32.0</td>\n",
       "      <td>0</td>\n",
       "      <td>0</td>\n",
       "      <td>7.7500</td>\n",
       "      <td>Q</td>\n",
       "      <td>Third</td>\n",
       "      <td>man</td>\n",
       "      <td>True</td>\n",
       "      <td>NaN</td>\n",
       "      <td>Queenstown</td>\n",
       "      <td>no</td>\n",
       "      <td>True</td>\n",
       "    </tr>\n",
       "  </tbody>\n",
       "</table>\n",
       "<p>891 rows × 15 columns</p>\n",
       "</div>"
      ],
      "text/plain": [
       "     survived  pclass     sex   age  sibsp  parch     fare embarked   class  \\\n",
       "0           0       3    male  22.0      1      0   7.2500        S   Third   \n",
       "1           1       1  female  38.0      1      0  71.2833        C   First   \n",
       "2           1       3  female  26.0      0      0   7.9250        S   Third   \n",
       "3           1       1  female  35.0      1      0  53.1000        S   First   \n",
       "4           0       3    male  35.0      0      0   8.0500        S   Third   \n",
       "..        ...     ...     ...   ...    ...    ...      ...      ...     ...   \n",
       "886         0       2    male  27.0      0      0  13.0000        S  Second   \n",
       "887         1       1  female  19.0      0      0  30.0000        S   First   \n",
       "888         0       3  female   NaN      1      2  23.4500        S   Third   \n",
       "889         1       1    male  26.0      0      0  30.0000        C   First   \n",
       "890         0       3    male  32.0      0      0   7.7500        Q   Third   \n",
       "\n",
       "       who  adult_male deck  embark_town alive  alone  \n",
       "0      man        True  NaN  Southampton    no  False  \n",
       "1    woman       False    C    Cherbourg   yes  False  \n",
       "2    woman       False  NaN  Southampton   yes   True  \n",
       "3    woman       False    C  Southampton   yes  False  \n",
       "4      man        True  NaN  Southampton    no   True  \n",
       "..     ...         ...  ...          ...   ...    ...  \n",
       "886    man        True  NaN  Southampton    no   True  \n",
       "887  woman       False    B  Southampton   yes   True  \n",
       "888  woman       False  NaN  Southampton    no  False  \n",
       "889    man        True    C    Cherbourg   yes   True  \n",
       "890    man        True  NaN   Queenstown    no   True  \n",
       "\n",
       "[891 rows x 15 columns]"
      ]
     },
     "execution_count": 23,
     "metadata": {},
     "output_type": "execute_result"
    }
   ],
   "source": [
    "# データの確認\n",
    "titanic"
   ]
  },
  {
   "cell_type": "markdown",
   "id": "8c3e6958",
   "metadata": {},
   "source": [
    "このデータセットには、891データ（行）、15属性（列）が含まれていることが分かります。\n",
    "\n",
    "15の属性が意味するところは、下記の通りです。\n",
    "各属性の意味はの、データ取得時に整理しておきましょう。\n",
    "\n",
    "オープンデータであれば、カラム情報は通常公開されています。\n",
    "ログを取得したり、スクレイピングをしたりして自分で作成するデータの場合は、データ仕様書も作ってください。"
   ]
  },
  {
   "cell_type": "markdown",
   "id": "788a8acd",
   "metadata": {},
   "source": [
    "||||\n",
    "|---|---|---|\n",
    "|survived|生存フラグ|||\n",
    "|pclass|客室等級||\n"
   ]
  },
  {
   "cell_type": "markdown",
   "id": "da17a9fa",
   "metadata": {},
   "source": [
    "#### 1行目の要素を取得する\n",
    "\n",
    "\n",
    "pandasでは、整数の位置インデックスを参照できます。位置インデックスは0から始まる整数です。参照する場合は、`iloc`属性を利用します。"
   ]
  },
  {
   "cell_type": "code",
   "execution_count": 24,
   "id": "0f7360c0",
   "metadata": {},
   "outputs": [
    {
     "data": {
      "text/plain": [
       "survived                 0\n",
       "pclass                   3\n",
       "sex                   male\n",
       "age                   22.0\n",
       "sibsp                    1\n",
       "parch                    0\n",
       "fare                  7.25\n",
       "embarked                 S\n",
       "class                Third\n",
       "who                    man\n",
       "adult_male            True\n",
       "deck                   NaN\n",
       "embark_town    Southampton\n",
       "alive                   no\n",
       "alone                False\n",
       "Name: 0, dtype: object"
      ]
     },
     "execution_count": 24,
     "metadata": {},
     "output_type": "execute_result"
    }
   ],
   "source": [
    "titanic.iloc[0]"
   ]
  },
  {
   "cell_type": "code",
   "execution_count": 25,
   "id": "bb33b6e9",
   "metadata": {},
   "outputs": [],
   "source": [
    "# 3行目の要素を取得してみましょう\n",
    " \n"
   ]
  },
  {
   "cell_type": "markdown",
   "id": "8ba418c5",
   "metadata": {},
   "source": [
    "#### 特定の列（カラム）を取得する\n",
    "\n",
    "取得したいカラム名を指定することで、特定のカラムをシリーズ形式で抽出できます。"
   ]
  },
  {
   "cell_type": "code",
   "execution_count": 26,
   "id": "128635d5",
   "metadata": {},
   "outputs": [],
   "source": [
    "titanic_class = titanic[\"class\"]"
   ]
  },
  {
   "cell_type": "code",
   "execution_count": 27,
   "id": "dc581de5",
   "metadata": {},
   "outputs": [
    {
     "data": {
      "text/plain": [
       "0       Third\n",
       "1       First\n",
       "2       Third\n",
       "3       First\n",
       "4       Third\n",
       "        ...  \n",
       "886    Second\n",
       "887     First\n",
       "888     Third\n",
       "889     First\n",
       "890     Third\n",
       "Name: class, Length: 891, dtype: object"
      ]
     },
     "execution_count": 27,
     "metadata": {},
     "output_type": "execute_result"
    }
   ],
   "source": [
    "titanic_class"
   ]
  },
  {
   "cell_type": "code",
   "execution_count": null,
   "id": "c74be85a",
   "metadata": {},
   "outputs": [],
   "source": [
    "# 乗船地を示すカラムを取得してみましょう\n",
    "\n"
   ]
  },
  {
   "cell_type": "code",
   "execution_count": null,
   "id": "ed09ba65",
   "metadata": {},
   "outputs": [],
   "source": []
  }
 ],
 "metadata": {
  "kernelspec": {
   "display_name": "Python 3 (ipykernel)",
   "language": "python",
   "name": "python3"
  },
  "language_info": {
   "codemirror_mode": {
    "name": "ipython",
    "version": 3
   },
   "file_extension": ".py",
   "mimetype": "text/x-python",
   "name": "python",
   "nbconvert_exporter": "python",
   "pygments_lexer": "ipython3",
   "version": "3.10.0"
  }
 },
 "nbformat": 4,
 "nbformat_minor": 5
}
