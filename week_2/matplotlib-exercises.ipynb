{
 "cells": [
  {
   "cell_type": "markdown",
   "id": "1ef48da6",
   "metadata": {},
   "source": [
    "# Matplotlibの練習"
   ]
  },
  {
   "cell_type": "markdown",
   "id": "5c6aaf7e",
   "metadata": {},
   "source": [
    "Matplotlibを使って、演習1で作った2つの整然データの可視化をしてみましょう。"
   ]
  },
  {
   "cell_type": "code",
   "execution_count": 1,
   "id": "0ece5185",
   "metadata": {},
   "outputs": [],
   "source": [
    "covid_data = \"https://covid19.mhlw.go.jp/public/opendata/newly_confirmed_cases_daily.csv\""
   ]
  },
  {
   "cell_type": "code",
   "execution_count": 2,
   "id": "27fb5b2f",
   "metadata": {},
   "outputs": [],
   "source": [
    "population_data = \"https://raw.githubusercontent.com/JaehyunSong/RBook/master/Data/Population2015.csv\""
   ]
  },
  {
   "cell_type": "markdown",
   "id": "6988b436",
   "metadata": {},
   "source": [
    "## 整然データにする"
   ]
  },
  {
   "cell_type": "markdown",
   "id": "d7f863dc",
   "metadata": {},
   "source": [
    "## 可視化する"
   ]
  }
 ],
 "metadata": {
  "kernelspec": {
   "display_name": "Python 3 (ipykernel)",
   "language": "python",
   "name": "python3"
  },
  "language_info": {
   "codemirror_mode": {
    "name": "ipython",
    "version": 3
   },
   "file_extension": ".py",
   "mimetype": "text/x-python",
   "name": "python",
   "nbconvert_exporter": "python",
   "pygments_lexer": "ipython3",
   "version": "3.10.0"
  }
 },
 "nbformat": 4,
 "nbformat_minor": 5
}
