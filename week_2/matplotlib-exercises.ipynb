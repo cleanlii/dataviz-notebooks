{
 "cells": [
  {
   "cell_type": "markdown",
   "id": "1ef48da6",
   "metadata": {},
   "source": [
    "# Matplotlibの練習\n",
    "\n",
    "[![Open In Colab](https://colab.research.google.com/assets/colab-badge.svg)](https://colab.research.google.com/github/shinchu/dataviz-notebooks/blob/main/week_2/matplotlib-exercises.ipynb)"
   ]
  },
  {
   "cell_type": "markdown",
   "id": "5c6aaf7e",
   "metadata": {},
   "source": [
    "Matplotlibを使って、演習1で作った2つの整然データの可視化をしてみましょう。"
   ]
  },
  {
   "cell_type": "code",
   "execution_count": null,
   "id": "e6f7cca7",
   "metadata": {},
   "outputs": [],
   "source": [
    "import pandas as pd\n",
    "import matplotlib as mpl\n",
    "import matplotlib.pyplot as plt\n",
    "## If necessary, import other libraries here\n",
    "\n",
    "\n"
   ]
  },
  {
   "cell_type": "code",
   "execution_count": null,
   "id": "0ece5185",
   "metadata": {},
   "outputs": [],
   "source": [
    "covid_data = \"https://covid19.mhlw.go.jp/public/opendata/newly_confirmed_cases_daily.csv\""
   ]
  },
  {
   "cell_type": "code",
   "execution_count": null,
   "id": "f534d854",
   "metadata": {},
   "outputs": [],
   "source": [
    "df_covid = pd.read_csv(covid_data)\n",
    "df_covid"
   ]
  },
  {
   "cell_type": "code",
   "execution_count": null,
   "id": "27fb5b2f",
   "metadata": {},
   "outputs": [],
   "source": [
    "population_data = \"https://raw.githubusercontent.com/JaehyunSong/RBook/master/Data/Population2015.csv\""
   ]
  },
  {
   "cell_type": "code",
   "execution_count": null,
   "id": "2a777d24",
   "metadata": {},
   "outputs": [],
   "source": [
    "df_pop = pd.read_csv(population_data)\n",
    "df_pop"
   ]
  },
  {
   "cell_type": "markdown",
   "id": "6988b436",
   "metadata": {},
   "source": [
    "## 整然データにする"
   ]
  },
  {
   "cell_type": "markdown",
   "id": "d7f863dc",
   "metadata": {},
   "source": [
    "## 可視化する"
   ]
  }
 ],
 "metadata": {
  "kernelspec": {
   "display_name": "Python 3.8.1 64-bit ('3.8.1')",
   "language": "python",
   "name": "python3"
  },
  "language_info": {
   "codemirror_mode": {
    "name": "ipython",
    "version": 3
   },
   "file_extension": ".py",
   "mimetype": "text/x-python",
   "name": "python",
   "nbconvert_exporter": "python",
   "pygments_lexer": "ipython3",
   "version": "3.8.1"
  },
  "vscode": {
   "interpreter": {
    "hash": "b1e65045f1ae96e0640580b26940ed94a750a055d879b6076c56c078e11e4ff1"
   }
  }
 },
 "nbformat": 4,
 "nbformat_minor": 5
}
