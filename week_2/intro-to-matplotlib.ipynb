{
 "cells": [
  {
   "cell_type": "markdown",
   "id": "05535abd",
   "metadata": {},
   "source": [
    "# Introduction to Visualizaiton Libraries\n",
    "\n",
    "[![Open In Colab](https://colab.research.google.com/assets/colab-badge.svg)](https://colab.research.google.com/github/shinchu/dataviz-notebooks/blob/main/week_2/intro-to-matplotlib.ipynb)"
   ]
  },
  {
   "cell_type": "markdown",
   "id": "f93c55e8",
   "metadata": {},
   "source": [
    "## Pythonの主要な可視化ライブラリ\n",
    "\n",
    "* [matplotlib](https://matplotlib.org/): 最も広く使われている。かなり細かいところまで調整できるので、論文に載せる図はこれで作ることが多い。\n",
    "* [seaborn](https://seaborn.pydata.org/): matplotlibのラッパー。matplotlibのデザインをデフォルトでいい感じにしてくれる。細かい調整は内部のmatplotlibにアクセスして行う。\n",
    "* [plotly](https://plotly.com/python/): インタラクティブな図を作ることができる。さっと使う分にはとても便利。\n",
    "* [altair](https://altair-viz.github.io/): 宣言型統計可視化ライブラリ。データと視覚記号の関係を宣言することで図を作ることができる。\n",
    "* ...\n",
    "\n",
    "※ 宣言型（declarative）: 何をするか（what）を書く\n",
    "\n",
    "※ 命令型（imperetive）: どうするか（how）を書く"
   ]
  },
  {
   "cell_type": "markdown",
   "id": "7c349705",
   "metadata": {},
   "source": [
    "本講義では、matplotlibとaltairを主に扱います。手軽にインタラクティブな図を作れるplotlyも少し紹介します。"
   ]
  },
  {
   "cell_type": "markdown",
   "id": "9feb634a",
   "metadata": {},
   "source": [
    "# Matplotlib"
   ]
  },
  {
   "cell_type": "code",
   "execution_count": null,
   "id": "68b6932a",
   "metadata": {},
   "outputs": [],
   "source": [
    "import matplotlib as mpl\n",
    "import matplotlib.pyplot as plt\n",
    "import numpy as np"
   ]
  },
  {
   "cell_type": "code",
   "execution_count": null,
   "id": "709d5bca",
   "metadata": {},
   "outputs": [],
   "source": [
    "fig, ax = plt.subplots()  # Create a figure containing a single axes.\n",
    "ax.plot([1, 2, 3, 4], [1, 4, 2, 3]);  # Plot some data on the axes."
   ]
  },
  {
   "cell_type": "markdown",
   "id": "37830063",
   "metadata": {},
   "source": [
    "matplotlibでは，グラフの要素ごとにさまざまな指定をすることができる．それぞれの要素の名前は下図を参考．\n",
    "\n",
    "\n",
    "<img src= \"img/matplotlib.png\" width = \"400\"> "
   ]
  },
  {
   "cell_type": "markdown",
   "id": "a2bb27d8",
   "metadata": {},
   "source": [
    "基本的には，Figureという枠の中に，Axesを配置する形です．グラフの作成では，axにグラフが書かれます．一つのFigureの中に複数のAxesを配置することができます．例えば，以下の図のように，3つのaxを表示できます．<br>\n",
    "Figure.add_subplot(nrows, ncols, index)をつかいます．nrows，ncols，indexは位置と大きさを決める変数です。Figureを、縦nrows分割・横ncols分割した上で，index番目の位置に配置されたAxesが表示されます。グラフを1つしか作らないときは(1, 1, 1)でよいです．"
   ]
  },
  {
   "cell_type": "code",
   "execution_count": null,
   "id": "d9888a94",
   "metadata": {},
   "outputs": [],
   "source": [
    "fig = plt.figure(facecolor='gray')\n",
    "ax1 = fig.add_subplot(1, 1, 1)  "
   ]
  },
  {
   "cell_type": "code",
   "execution_count": null,
   "id": "5f886660",
   "metadata": {},
   "outputs": [],
   "source": [
    "fig = plt.figure(facecolor='gray')\n",
    "ax1 = fig.add_subplot(2, 2, 1)  # 2行2列の1番目\n",
    "ax2 = fig.add_subplot(2, 3, 4)  # 2行3列の4番目\n",
    "ax3 = fig.add_subplot(1, 3, 3)  # 1行3列の3番目"
   ]
  },
  {
   "cell_type": "markdown",
   "id": "9a87d770",
   "metadata": {},
   "source": [
    "## 色々な図を描いてみましょう"
   ]
  },
  {
   "cell_type": "code",
   "execution_count": null,
   "id": "e2f41602",
   "metadata": {},
   "outputs": [],
   "source": [
    "np.random.seed(19680801)  # seed the random number generator.\n",
    "data = {'a': np.arange(50),\n",
    "        'c': np.random.randint(0, 50, 50),\n",
    "        'd': np.random.randn(50)}\n",
    "data['b'] = data['a'] + 10 * np.random.randn(50)\n",
    "data['d'] = np.abs(data['d']) * 100\n",
    "\n",
    "fig, ax = plt.subplots(figsize=(5, 2.7))\n",
    "ax.scatter('a', 'b', c='c', s='d', data=data)\n",
    "ax.set_xlabel('entry a')\n",
    "ax.set_ylabel('entry b');"
   ]
  },
  {
   "cell_type": "code",
   "execution_count": null,
   "id": "205b6b1d",
   "metadata": {},
   "outputs": [],
   "source": [
    "x = np.linspace(0, 2, 100)  # Sample data.\n",
    "\n",
    "# Note that even in the OO-style, we use `.pyplot.figure` to create the Figure.\n",
    "fig, ax = plt.subplots(figsize=(5, 2.7))\n",
    "ax.plot(x, x, label='linear')  # Plot some data on the axes.\n",
    "ax.plot(x, x**2, label='quadratic')  # Plot more data on the axes...\n",
    "ax.plot(x, x**3, label='cubic')  # ... and some more.\n",
    "ax.set_xlabel('x label')  # Add an x-label to the axes.\n",
    "ax.set_ylabel('y label')  # Add a y-label to the axes.\n",
    "ax.set_title(\"Simple Plot\")  # Add a title to the axes.\n",
    "ax.legend();  # Add a legend."
   ]
  },
  {
   "cell_type": "markdown",
   "id": "2db93488",
   "metadata": {},
   "source": [
    "pyplotスタイル"
   ]
  },
  {
   "cell_type": "code",
   "execution_count": null,
   "id": "061259da",
   "metadata": {},
   "outputs": [],
   "source": [
    "x = np.linspace(0, 2, 100)  # Sample data.\n",
    "\n",
    "plt.figure(figsize=(5, 2.7), layout='constrained')\n",
    "plt.plot(x, x, label='linear')  # Plot some data on the (implicit) axes.\n",
    "plt.plot(x, x**2, label='quadratic')  # etc.\n",
    "plt.plot(x, x**3, label='cubic')\n",
    "plt.xlabel('x label')\n",
    "plt.ylabel('y label')\n",
    "plt.title(\"Simple Plot\")\n",
    "plt.legend();"
   ]
  },
  {
   "cell_type": "code",
   "execution_count": null,
   "id": "e107cd56",
   "metadata": {},
   "outputs": [],
   "source": [
    "data1, data2, data3, data4 = np.random.randn(4, 100)  # make 4 random data sets\n",
    "fig, ax = plt.subplots(figsize=(5, 2.7))\n",
    "x = np.arange(len(data1))\n",
    "ax.plot(x, np.cumsum(data1), color='blue', linewidth=3, linestyle='--')\n",
    "l, = ax.plot(x, np.cumsum(data2), color='orange', linewidth=2)\n",
    "l.set_linestyle(':');"
   ]
  },
  {
   "cell_type": "code",
   "execution_count": null,
   "id": "b9503f97",
   "metadata": {},
   "outputs": [],
   "source": [
    "def my_plotter(ax, data1, data2, param_dict):\n",
    "    \"\"\"\n",
    "    A helper function to make a graph.\n",
    "    \"\"\"\n",
    "    out = ax.plot(data1, data2, **param_dict)\n",
    "    return out\n",
    "\n",
    "fig, (ax1, ax2) = plt.subplots(1, 2, figsize=(5, 2.7))\n",
    "my_plotter(ax1, data1, data2, {'marker': 'x'})\n",
    "my_plotter(ax2, data3, data4, {'marker': 'o'});"
   ]
  },
  {
   "cell_type": "code",
   "execution_count": null,
   "id": "ea566c13",
   "metadata": {},
   "outputs": [],
   "source": [
    "X, Y = np.meshgrid(np.linspace(-3, 3, 128), np.linspace(-3, 3, 128))\n",
    "Z = (1 - X/2 + X**5 + Y**3) * np.exp(-X**2 - Y**2)\n",
    "\n",
    "fig, axs = plt.subplots(2, 2, layout='constrained')\n",
    "pc = axs[0, 0].pcolormesh(X, Y, Z, vmin=-1, vmax=1, cmap='RdBu_r')\n",
    "fig.colorbar(pc, ax=axs[0, 0])\n",
    "axs[0, 0].set_title('pcolormesh()')\n",
    "\n",
    "co = axs[0, 1].contourf(X, Y, Z, levels=np.linspace(-1.25, 1.25, 11))\n",
    "fig.colorbar(co, ax=axs[0, 1])\n",
    "axs[0, 1].set_title('contourf()')\n",
    "\n",
    "pc = axs[1, 0].imshow(Z**2 * 100, cmap='plasma',\n",
    "                          norm=mpl.colors.LogNorm(vmin=0.01, vmax=100))\n",
    "fig.colorbar(pc, ax=axs[1, 0], extend='both')\n",
    "axs[1, 0].set_title('imshow() with LogNorm()')\n",
    "\n",
    "pc = axs[1, 1].scatter(data1, data2, c=data3, cmap='RdBu_r')\n",
    "fig.colorbar(pc, ax=axs[1, 1], extend='both')\n",
    "axs[1, 1].set_title('scatter()')"
   ]
  },
  {
   "cell_type": "markdown",
   "id": "4c6bcba1",
   "metadata": {},
   "source": [
    "### matplotlibを読み込みましょう"
   ]
  },
  {
   "cell_type": "code",
   "execution_count": null,
   "id": "4059f675",
   "metadata": {},
   "outputs": [],
   "source": [
    "import matplotlib as mpl\n",
    "import matplotlib.pyplot as plt\n",
    "import pandas as pd\n",
    "pd.set_option('display.max_rows', 300)"
   ]
  },
  {
   "cell_type": "markdown",
   "id": "0c52e71a",
   "metadata": {},
   "source": [
    "### データ読み込み\n",
    "\n",
    "* Pandasデータフレームを利用してデータの読み込みを行う\n",
    "* データセット、URL、直接入力などでデータを与えることができる\n",
    "* この時、データフレームの形が[Tidy data](http://vita.had.co.nz/papers/tidy-data.html)であることが望ましい（Tidy dataになっていない時は事前に形を整える）\n",
    "    * Tidy dataでは、各変数が列、各観測値が行、各観測単位がテーブルとなっている\n",
    "    * このような形を維持することでデータの操作、モデル化、視覚化が容易となる"
   ]
  },
  {
   "cell_type": "markdown",
   "id": "1b1736b6",
   "metadata": {},
   "source": [
    "#### データセットから読み込む"
   ]
  },
  {
   "cell_type": "code",
   "execution_count": null,
   "id": "6db2fd7a",
   "metadata": {},
   "outputs": [],
   "source": [
    "from vega_datasets import data\n",
    "cars = data.cars()\n",
    "cars.head()"
   ]
  },
  {
   "cell_type": "markdown",
   "id": "5f435c66",
   "metadata": {},
   "source": [
    "#### 直接入力\n",
    "ここでは、都市と月の平均降雨量（`precip`），人口(`pop`)を含む簡単なデータフレームを扱う。"
   ]
  },
  {
   "cell_type": "code",
   "execution_count": null,
   "id": "7408a445",
   "metadata": {},
   "outputs": [],
   "source": [
    "df = pd.DataFrame({\n",
    "    'city': ['city1', 'city2', 'city3', 'city4'],\n",
    "    'pop': [4, 8, 12, 15],\n",
    "    'precip': [2.68, 0.87, 5.31, 3.94]\n",
    "})\n",
    "\n",
    "df"
   ]
  },
  {
   "cell_type": "markdown",
   "id": "83b200aa",
   "metadata": {},
   "source": [
    "## さまざまなグラフ\n",
    "### 縦棒グラブ"
   ]
  },
  {
   "cell_type": "code",
   "execution_count": null,
   "id": "19435303",
   "metadata": {},
   "outputs": [],
   "source": [
    "df.plot(x='city', y='precip', kind=\"bar\")"
   ]
  },
  {
   "cell_type": "markdown",
   "id": "9d210a4c",
   "metadata": {},
   "source": [
    "### 横棒グラフ"
   ]
  },
  {
   "cell_type": "code",
   "execution_count": null,
   "id": "2e4a2eaf",
   "metadata": {},
   "outputs": [],
   "source": [
    "df.plot(x='city', y='precip', kind=\"barh\")"
   ]
  },
  {
   "cell_type": "markdown",
   "id": "70bb75a1",
   "metadata": {},
   "source": [
    "### 折れ線グラフ"
   ]
  },
  {
   "cell_type": "code",
   "execution_count": null,
   "id": "cfa31c4d",
   "metadata": {},
   "outputs": [],
   "source": [
    "df.plot(x='city', y='precip', kind=\"line\")"
   ]
  },
  {
   "cell_type": "markdown",
   "id": "8c9778c5",
   "metadata": {},
   "source": [
    "### 散布図"
   ]
  },
  {
   "cell_type": "code",
   "execution_count": null,
   "id": "9ad20fbd",
   "metadata": {},
   "outputs": [],
   "source": [
    "df.plot(x='pop', y='precip', kind=\"scatter\")"
   ]
  },
  {
   "cell_type": "code",
   "execution_count": null,
   "id": "ad930fca",
   "metadata": {},
   "outputs": [],
   "source": [
    "df.plot(y='pop', kind=\"pie\")"
   ]
  },
  {
   "cell_type": "markdown",
   "id": "285e1e5c",
   "metadata": {},
   "source": [
    "## 散布図と折れ線グラフを用いて視覚化を変えていきましょう．"
   ]
  },
  {
   "cell_type": "code",
   "execution_count": null,
   "id": "f79321a7",
   "metadata": {},
   "outputs": [],
   "source": [
    "cars"
   ]
  },
  {
   "cell_type": "code",
   "execution_count": null,
   "id": "d0e230ec",
   "metadata": {},
   "outputs": [],
   "source": [
    "cars.plot()"
   ]
  },
  {
   "cell_type": "markdown",
   "id": "ff03248a",
   "metadata": {},
   "source": [
    "### 散布図"
   ]
  },
  {
   "cell_type": "code",
   "execution_count": null,
   "id": "fc3b1668",
   "metadata": {},
   "outputs": [],
   "source": [
    "cars.plot(x='Year', y='Miles_per_Gallon', kind=\"scatter\", marker=\"o\", color = \"green\")"
   ]
  },
  {
   "cell_type": "markdown",
   "id": "61d898be",
   "metadata": {},
   "source": [
    "【演習】markerにはさまざまな形を指定できます．色(color)も変更できます．\n",
    "赤字で * を使ってグラフを書いてみましょう．"
   ]
  },
  {
   "cell_type": "code",
   "execution_count": null,
   "id": "1efb79be",
   "metadata": {},
   "outputs": [],
   "source": [
    "# Your code goes here"
   ]
  },
  {
   "cell_type": "markdown",
   "id": "69ac2b57",
   "metadata": {},
   "source": [
    "### 折れ線グラフ"
   ]
  },
  {
   "cell_type": "code",
   "execution_count": null,
   "id": "49346590",
   "metadata": {},
   "outputs": [],
   "source": [
    "smpdf = pd.DataFrame({\n",
    "    'num': [1, 2, 3, 4, 5, 6, 7, 8, 9, 10],\n",
    "    'fib': [1, 1, 2, 4, 5, 8, 13, 21, 34, 55],\n",
    "    'sqr': [1, 4, 9, 16, 25, 36, 49, 64, 81, 100]\n",
    "})\n",
    "smpdf"
   ]
  },
  {
   "cell_type": "code",
   "execution_count": null,
   "id": "d1ec0616",
   "metadata": {},
   "outputs": [],
   "source": [
    "smpdf.plot(x='num', y='sqr', kind=\"line\", marker=\"o\", color = \"green\")"
   ]
  },
  {
   "cell_type": "code",
   "execution_count": null,
   "id": "a1ea5da5",
   "metadata": {},
   "outputs": [],
   "source": [
    "smpdf.plot(x='num', y=['sqr','fib'], kind=\"line\", marker=\"s\", linestyle = \"--\", color = [\"green\", \"red\"])"
   ]
  },
  {
   "cell_type": "markdown",
   "id": "59f834aa",
   "metadata": {},
   "source": [
    "このままでは，ライン等の提示を自由に変えることができません．別の方法を使って可視化してみましょう．"
   ]
  },
  {
   "cell_type": "code",
   "execution_count": null,
   "id": "ca5db96a",
   "metadata": {},
   "outputs": [],
   "source": [
    "fig = plt.figure(facecolor=\"white\")\n",
    "ax = fig.add_subplot(111, xlabel=\"xlabel\", ylabel='ylabel') \n",
    "\n",
    "# 　ax.plot(x軸のデータ, y軸のデータ,  marker=\"hogehoge\" マーカーの形, color=\"hogehoge\" 色, label=\"hogehoge\"ラベルの名前 , linestyle = \"hogehoge\"線のスタイル, linewidth=hogehoge 線の太さ)\n",
    "ax.plot(smpdf['num'], smpdf['fib'],  marker=\"o\", color=\"blue\", label=\"blue\", linestyle = \"--\", linewidth=0.5)\n",
    "ax.plot(smpdf['num'], smpdf['sqr'],  marker=\"o\", color=\"green\", label=\"green\", linestyle = \"-.\", linewidth=1)\n",
    "\n",
    "ax.legend()"
   ]
  },
  {
   "cell_type": "markdown",
   "id": "5ca640c6",
   "metadata": {},
   "source": [
    "【演習】<br>\n",
    "・xlabel, ylabelを好きな文字に変更してみましょう<br>\n",
    "・線の色と太さ，マーカーの形状を変更してみましょう．"
   ]
  },
  {
   "cell_type": "code",
   "execution_count": null,
   "id": "20f8f800",
   "metadata": {},
   "outputs": [],
   "source": [
    "# Your code goes here"
   ]
  },
  {
   "cell_type": "markdown",
   "id": "82dac4d1",
   "metadata": {},
   "source": [
    "## 参考\n",
    "\n",
    "* https://matplotlib.org/stable/plot_types/index.html\n",
    "* https://qiita.com/nkay/items/d1eb91e33b9d6469ef51#31-%E6%8A%98%E3%82%8C%E7%B7%9A%E3%82%B0%E3%83%A9%E3%83%95axesplot"
   ]
  }
 ],
 "metadata": {
  "kernelspec": {
   "display_name": "Python 3 (ipykernel)",
   "language": "python",
   "name": "python3"
  },
  "language_info": {
   "codemirror_mode": {
    "name": "ipython",
    "version": 3
   },
   "file_extension": ".py",
   "mimetype": "text/x-python",
   "name": "python",
   "nbconvert_exporter": "python",
   "pygments_lexer": "ipython3",
   "version": "3.8.1"
  },
  "vscode": {
   "interpreter": {
    "hash": "b1e65045f1ae96e0640580b26940ed94a750a055d879b6076c56c078e11e4ff1"
   }
  }
 },
 "nbformat": 4,
 "nbformat_minor": 5
}
