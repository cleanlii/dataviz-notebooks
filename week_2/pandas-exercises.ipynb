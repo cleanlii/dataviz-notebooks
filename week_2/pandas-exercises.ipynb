{
 "cells": [
  {
   "cell_type": "markdown",
   "id": "1ce2014f",
   "metadata": {},
   "source": [
    "# pandasの練習\n",
    "\n",
    "[![Open In Colab](https://colab.research.google.com/assets/colab-badge.svg)](https://colab.research.google.com/github/shinchu/dataviz-notebooks/blob/main/week_1/pandas-exercises.ipynb)"
   ]
  },
  {
   "cell_type": "markdown",
   "id": "b975bbbd",
   "metadata": {},
   "source": [
    "練習問題は、[gotty21/basic_pandas-64-knocks](https://github.com/gotty21/basic_pandas-64-knocks)をから抜粋しました。\n",
    "\n",
    "講義で習っていない部分は、公式ドキュメントを調べてみてください。\n",
    "\n",
    "* [10 minutes to pandas](https://pandas.pydata.org/docs/user_guide/10min.html)\n",
    "* [pandas documentation](https://pandas.pydata.org/docs/index.html)"
   ]
  },
  {
   "cell_type": "markdown",
   "id": "696241aa",
   "metadata": {},
   "source": [
    "## 事前準備\n",
    "\n",
    "データフレームを初期化するための関数`initialize()`を作ります。作業前にこの2つのセルを実行しましょう。\n",
    "\n",
    "`openpyxl`はExcelファイルの読み込みに必要です。必要に応じてインストールしてください。"
   ]
  },
  {
   "cell_type": "code",
   "execution_count": null,
   "id": "c423312a",
   "metadata": {},
   "outputs": [],
   "source": [
    "!pip install openpyxl"
   ]
  },
  {
   "cell_type": "code",
   "execution_count": 1,
   "id": "ce977eda",
   "metadata": {},
   "outputs": [],
   "source": [
    "import pandas as pd\n",
    "\n",
    "def initialize(flag=0):\n",
    "    if flag == 0:\n",
    "        return pd.read_csv(\"https://raw.githubusercontent.com/shinchu/dataviz-notebooks/main/data/week_1/main.csv\")\n",
    "    if flag == 1:\n",
    "        return pd.read_csv(\"https://raw.githubusercontent.com/shinchu/dataviz-notebooks/main/data/week_1/add.csv\")\n",
    "    if flag == 2:\n",
    "        return pd.read_excel(\"https://github.com/shinchu/dataviz-notebooks/blob/main/data/week_1/data.xlsx?raw=true\")\n",
    "    else:\n",
    "        print(\"Please specify numbers between 0 to 2.\")\n",
    "        return None"
   ]
  },
  {
   "cell_type": "markdown",
   "id": "22c29118",
   "metadata": {},
   "source": [
    "## データの読み込み・確認"
   ]
  },
  {
   "cell_type": "markdown",
   "id": "1987f54c",
   "metadata": {},
   "source": [
    "### pandasインポート"
   ]
  },
  {
   "cell_type": "code",
   "execution_count": 5,
   "id": "5e414fbb",
   "metadata": {},
   "outputs": [],
   "source": [
    "# pandasをpdという名でインポート"
   ]
  },
  {
   "cell_type": "markdown",
   "id": "4b6ce1e1",
   "metadata": {},
   "source": [
    "### csvファイルの読み込み"
   ]
  },
  {
   "cell_type": "code",
   "execution_count": 7,
   "id": "d26c2c24",
   "metadata": {},
   "outputs": [],
   "source": [
    "# URL: https://raw.githubusercontent.com/shinchu/dataviz-notebooks/main/data/week_1/main.csv\n",
    "# 上記URLからmain.csvを読み込んでデータフレームを作成し、dfという変数に格納\n",
    "\n",
    "\n",
    "# URL: https://raw.githubusercontent.com/shinchu/dataviz-notebooks/main/data/week_1/add.csv\n",
    "# 上記URLからadd.csvを読み込んでデータフレームを作成し、addという変数に格納\n"
   ]
  },
  {
   "cell_type": "markdown",
   "id": "dfdf9f03",
   "metadata": {},
   "source": [
    "### DataFrameのサイズの確認"
   ]
  },
  {
   "cell_type": "code",
   "execution_count": 8,
   "id": "d0d5d727",
   "metadata": {},
   "outputs": [],
   "source": [
    "# dfのサイズを表示\n",
    "df = initialize(0)"
   ]
  },
  {
   "cell_type": "markdown",
   "id": "11db54d6",
   "metadata": {},
   "source": [
    "### DataFrameのレコード数の確認"
   ]
  },
  {
   "cell_type": "code",
   "execution_count": null,
   "id": "61952204",
   "metadata": {},
   "outputs": [],
   "source": [
    "# dfのレコード数を出力\n",
    "df = initialize(0)"
   ]
  },
  {
   "cell_type": "markdown",
   "id": "544f0663",
   "metadata": {},
   "source": [
    "## ラベル"
   ]
  },
  {
   "cell_type": "markdown",
   "id": "b650bb9b",
   "metadata": {},
   "source": [
    "### DataFrameのカラム名の取得"
   ]
  },
  {
   "cell_type": "code",
   "execution_count": 9,
   "id": "48b9e3aa",
   "metadata": {},
   "outputs": [],
   "source": [
    "# dfのcolumn名をlist形式で取得\n",
    "df = initialize(0)"
   ]
  },
  {
   "cell_type": "markdown",
   "id": "2ac32e5d",
   "metadata": {},
   "source": [
    "### DataFrameのカラム名の一部を変更"
   ]
  },
  {
   "cell_type": "code",
   "execution_count": null,
   "id": "336c6ecc",
   "metadata": {},
   "outputs": [],
   "source": [
    "# カラム名CODE_GENDERをGENDERに変更する\n",
    "df = initialize(0)"
   ]
  },
  {
   "cell_type": "markdown",
   "id": "e06fa372",
   "metadata": {},
   "source": [
    "### DataFrameのカラム名をすべて変更"
   ]
  },
  {
   "cell_type": "code",
   "execution_count": 10,
   "id": "6a50c84f",
   "metadata": {},
   "outputs": [],
   "source": [
    "# column名をno1～no11というstr型の名前にすべて変更する\n",
    "# ヒント：リスト内包表記を使用すると簡単\n",
    "df = initialize(0)"
   ]
  },
  {
   "cell_type": "markdown",
   "id": "6cb0e568",
   "metadata": {},
   "source": [
    "## 各列のデータの確認"
   ]
  },
  {
   "cell_type": "markdown",
   "id": "890f3573",
   "metadata": {},
   "source": [
    "###  任意の列のユニーク（一意）な要素を確認"
   ]
  },
  {
   "cell_type": "code",
   "execution_count": null,
   "id": "88b52b2b",
   "metadata": {},
   "outputs": [],
   "source": [
    "# dfのCODE_GENDER列のユニークな要素を確認\n",
    "df = initialize(0)"
   ]
  },
  {
   "cell_type": "markdown",
   "id": "9f221198",
   "metadata": {},
   "source": [
    "### 各列のユニークな要素の数を確認"
   ]
  },
  {
   "cell_type": "code",
   "execution_count": null,
   "id": "bfe67949",
   "metadata": {},
   "outputs": [],
   "source": [
    "# dfの各列のユニークな要素の数を出力\n",
    "df = initialize(0)  # 初期化"
   ]
  },
  {
   "cell_type": "markdown",
   "id": "310b7305",
   "metadata": {},
   "source": [
    "### 任意の列のユニークな要素の数とその出現回数を確認"
   ]
  },
  {
   "cell_type": "code",
   "execution_count": null,
   "id": "a81b9e83",
   "metadata": {},
   "outputs": [],
   "source": [
    "# dfのCNT_CHILDREN列の要素と出現回数の確認\n",
    "df = initialize(0)  # 初期化"
   ]
  },
  {
   "cell_type": "markdown",
   "id": "1e22284d",
   "metadata": {},
   "source": [
    "## データの取り出し"
   ]
  },
  {
   "cell_type": "markdown",
   "id": "2462e9ab",
   "metadata": {},
   "source": [
    "### 任意の１つの列の取り出し"
   ]
  },
  {
   "cell_type": "code",
   "execution_count": null,
   "id": "b673a877",
   "metadata": {},
   "outputs": [],
   "source": [
    "# dfのTARGETの列のみ表示\n",
    "df = initialize(0)"
   ]
  },
  {
   "cell_type": "code",
   "execution_count": null,
   "id": "78f0c361",
   "metadata": {},
   "outputs": [],
   "source": [
    "# dfの左から3番目の列のみ表示\n",
    "df = initialize(0) "
   ]
  },
  {
   "cell_type": "markdown",
   "id": "93952e8b",
   "metadata": {},
   "source": [
    "### 複数の列の取り出し"
   ]
  },
  {
   "cell_type": "code",
   "execution_count": null,
   "id": "6e94f508",
   "metadata": {},
   "outputs": [],
   "source": [
    "# dfのTARGET列とCODE_GENDER列のみ表示\n",
    "df = initialize(0) "
   ]
  },
  {
   "cell_type": "code",
   "execution_count": null,
   "id": "4e7ad28c",
   "metadata": {},
   "outputs": [],
   "source": [
    "# dfのTARGET列とCODE_GENDER列までの列を表示\n",
    "df = initialize(0) "
   ]
  },
  {
   "cell_type": "markdown",
   "id": "8431ad57",
   "metadata": {},
   "source": [
    "### 条件検索"
   ]
  },
  {
   "cell_type": "code",
   "execution_count": null,
   "id": "e35c4c5d",
   "metadata": {},
   "outputs": [],
   "source": [
    "# CODE_GENDER列が'F'かつAMT_INCOME_TOTAL列が500000以上のデータポイントを表示\n",
    "df = initialize(0)"
   ]
  },
  {
   "cell_type": "markdown",
   "id": "ef2545b4",
   "metadata": {},
   "source": [
    "## ソート"
   ]
  },
  {
   "cell_type": "markdown",
   "id": "eaf53352",
   "metadata": {},
   "source": [
    "### 任意の一列で昇順ソート"
   ]
  },
  {
   "cell_type": "code",
   "execution_count": null,
   "id": "1e6e5621",
   "metadata": {},
   "outputs": [],
   "source": [
    "# dfのAMT_INCOME_TOTALの列で昇順ソートして表示\n",
    "df = initialize(0)"
   ]
  },
  {
   "cell_type": "markdown",
   "id": "2465d788",
   "metadata": {},
   "source": [
    "### 任意の一列で降順ソート\n"
   ]
  },
  {
   "cell_type": "code",
   "execution_count": null,
   "id": "6acedf51",
   "metadata": {},
   "outputs": [],
   "source": [
    "# dfのAMT_INCOME_TOTALの列で降順ソート表示\n",
    "df = initialize(0)"
   ]
  },
  {
   "cell_type": "markdown",
   "id": "4cbf3e86",
   "metadata": {},
   "source": [
    "## 統計量"
   ]
  },
  {
   "cell_type": "markdown",
   "id": "cea7b81e",
   "metadata": {},
   "source": [
    "### 基本統計量"
   ]
  },
  {
   "cell_type": "code",
   "execution_count": null,
   "id": "6829cd97",
   "metadata": {},
   "outputs": [],
   "source": [
    "# dfのAMT_INCOME_TOTAL列の平均、中央値、合計、最大値、最小値、最頻値をそれぞれ出力\n",
    "df = initialize(0)"
   ]
  },
  {
   "cell_type": "markdown",
   "id": "130a7854",
   "metadata": {},
   "source": [
    "### 要約統計量"
   ]
  },
  {
   "cell_type": "code",
   "execution_count": null,
   "id": "5d22651b",
   "metadata": {},
   "outputs": [],
   "source": [
    "# dfのAMT_INCOME_TOTAL列の要約統計量を出力\n",
    "df = initialize(0)"
   ]
  },
  {
   "cell_type": "markdown",
   "id": "c8e88501",
   "metadata": {},
   "source": [
    "### groupby"
   ]
  },
  {
   "cell_type": "code",
   "execution_count": null,
   "id": "31d1bc74",
   "metadata": {},
   "outputs": [],
   "source": [
    "# dfのCODE_GENDERで集約して、それぞれのAMT_INCOME_TOTALの最大値を出力\n",
    "df = initialize(0) "
   ]
  },
  {
   "cell_type": "code",
   "execution_count": null,
   "id": "7d404f5e",
   "metadata": {},
   "outputs": [],
   "source": [
    "# dfのCODE_GENDERでグルーピング\n",
    "# さらにCODE_GENDER毎にNAME_CONTRACT_TYPEでグルーピング\n",
    "# 各グループ内の平均と分散を出力\n",
    "# さらに出力を見やすくするためにindexをリセットする\n",
    "df = initialize(0) "
   ]
  },
  {
   "cell_type": "markdown",
   "id": "23799f5a",
   "metadata": {},
   "source": [
    "## ファイル出力"
   ]
  },
  {
   "cell_type": "markdown",
   "id": "4e483b86",
   "metadata": {},
   "source": [
    "### csvファイルに出力"
   ]
  },
  {
   "cell_type": "code",
   "execution_count": null,
   "id": "b8591620",
   "metadata": {},
   "outputs": [],
   "source": [
    "# dfを行番号、列番号を削除してoutput.csvという名前で出力\n",
    "df = initialize(0) "
   ]
  }
 ],
 "metadata": {
  "kernelspec": {
   "display_name": "Python 3 (ipykernel)",
   "language": "python",
   "name": "python3"
  },
  "language_info": {
   "codemirror_mode": {
    "name": "ipython",
    "version": 3
   },
   "file_extension": ".py",
   "mimetype": "text/x-python",
   "name": "python",
   "nbconvert_exporter": "python",
   "pygments_lexer": "ipython3",
   "version": "3.10.0"
  }
 },
 "nbformat": 4,
 "nbformat_minor": 5
}
