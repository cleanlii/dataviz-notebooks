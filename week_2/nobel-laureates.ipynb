{
 "cells": [
  {
   "cell_type": "markdown",
   "id": "1831e245",
   "metadata": {},
   "source": [
    "# データ可視化のプロセス：ノーベル賞受賞者のデータ\n",
    "\n",
    "Wikipediaからスクレイピングしてきたノーベル賞受賞者のデータを使って、データ可視化の6ステップをたどります。"
   ]
  },
  {
   "cell_type": "code",
   "execution_count": null,
   "id": "e5ed6e4c",
   "metadata": {},
   "outputs": [],
   "source": [
    "# ライブラリをロードする\n",
    "import pandas as pd"
   ]
  },
  {
   "cell_type": "markdown",
   "id": "64ed515e",
   "metadata": {},
   "source": [
    "## データの取得\n",
    "\n",
    "スクレイピングはこの講義のスコープを超えるので、手元にすでにスクレイピング済みのデータがあると仮定します。\n",
    "\n",
    "PythonによるWebスクレイピングに有用なライブラリとして、下記があります。\n",
    "\n",
    "* [requests](https://requests-docs-ja.readthedocs.io/en/latest/): HTTP通信用のライブラリ\n",
    "* [BeautifulSoup](https://www.crummy.com/software/BeautifulSoup/bs4/doc/): XMLパース用のライブラリ\n",
    "* [Scrapy](https://scrapy.org/): スクレイピング、クローリング用のフレームワーク"
   ]
  },
  {
   "cell_type": "code",
   "execution_count": null,
   "id": "2afc41e8",
   "metadata": {},
   "outputs": [],
   "source": [
    "# ファイルを読み込む\n",
    "\n"
   ]
  },
  {
   "cell_type": "markdown",
   "id": "5851ec3a",
   "metadata": {},
   "source": [
    "## データの"
   ]
  },
  {
   "cell_type": "code",
   "execution_count": null,
   "id": "80bbcb04",
   "metadata": {},
   "outputs": [],
   "source": []
  }
 ],
 "metadata": {
  "kernelspec": {
   "display_name": "Python 3 (ipykernel)",
   "language": "python",
   "name": "python3"
  },
  "language_info": {
   "codemirror_mode": {
    "name": "ipython",
    "version": 3
   },
   "file_extension": ".py",
   "mimetype": "text/x-python",
   "name": "python",
   "nbconvert_exporter": "python",
   "pygments_lexer": "ipython3",
   "version": "3.10.0"
  }
 },
 "nbformat": 4,
 "nbformat_minor": 5
}
