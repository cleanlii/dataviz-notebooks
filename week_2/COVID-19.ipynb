{
 "cells": [
  {
   "cell_type": "markdown",
   "id": "7523858f",
   "metadata": {},
   "source": [
    "# COVID-19の感染者数"
   ]
  },
  {
   "cell_type": "markdown",
   "id": "50633707",
   "metadata": {},
   "source": [
    "## 問いの設定"
   ]
  },
  {
   "cell_type": "markdown",
   "id": "1ecd65ac",
   "metadata": {},
   "source": [
    "あなたは、東京都のコロナ対策の担当者です。感染の広がりの状況を分析して、対策案を検討する様に指示されています。\n",
    "1. 現在コロナの感染はどの程度広がっているのか\n",
    "2. 今後どの程度広がることが想定されるのか\n",
    "3. 医療提供体制との関連はどうか"
   ]
  },
  {
   "cell_type": "markdown",
   "id": "6ed9ada2",
   "metadata": {},
   "source": [
    "## データの取得"
   ]
  },
  {
   "cell_type": "markdown",
   "id": "2045368e",
   "metadata": {},
   "source": [
    "1. (1)と(2)については、現在と過去のコロナの症例数を確認する必要がある\n",
    "2. 東京都内の医療提供体制の状況を把握する必要がある\n",
    "3. すべての病院の病床の空き数をリアルタイムにカウントすることは難しいので、行政が簡単に取得できるデータが良い\n",
    "\n",
    "東京都が持っているデータがあるので、これを使う。  \n",
    "[https://portal.data.metro.tokyo.lg.jp/1097/](https://portal.data.metro.tokyo.lg.jp/1097/)\n",
    "\n",
    "* 東京都 新型コロナウイルス感染症検査陽性者の状況\n",
    "* 東京都 #7119における発熱等相談件数\n",
    "* 東京都 新型コロナウイルス感染症検査の陽性率・検査人数\n",
    "* 東京都 救急医療の東京ルールの適用件数\n",
    "* 東京都 新型コロナウイルス感染症入院患者数\n",
    "* 東京都 新型コロナウイルス感染症重症患者数\n",
    "* 東京都 新型コロナウイルス感染症発症日別による陽性者数の推移\n",
    "* 東京都 新型コロナウイルス感染症確定日別による陽性者数の推移\n",
    "* 東京都 新型コロナウイルス感染症陽性者数（区市町村別）\n",
    "* 東京都 新型コロナウイルス感染症検査実施件数\n",
    "* 東京都 新型コロナ受診相談窓口相談件数\n",
    "* 東京都 新型コロナコールセンター相談件数\n",
    "* 東京都 新型コロナウイルス陽性患者発表詳細\n",
    "\n",
    "のデータがある。\n",
    "\n",
    "まずは現在と過去のコロナの症例数を確認したいので、１つ目のデータを入手してみる。"
   ]
  },
  {
   "cell_type": "code",
   "execution_count": 4,
   "id": "dc757691",
   "metadata": {},
   "outputs": [],
   "source": [
    "# ライブラリの読み込み\n",
    "import pandas as pd"
   ]
  },
  {
   "cell_type": "code",
   "execution_count": 8,
   "id": "d8e69d3a",
   "metadata": {},
   "outputs": [],
   "source": [
    "# データの読み込み\n",
    "\n",
    "url = \"https://data.stopcovid19.metro.tokyo.lg.jp/130001_tokyo_covid19_details_testing_positive_cases.csv\"\n",
    "df = pd.read_csv(url)"
   ]
  },
  {
   "cell_type": "code",
   "execution_count": 9,
   "id": "64016530",
   "metadata": {},
   "outputs": [
    {
     "data": {
      "text/plain": [
       "(936, 13)"
      ]
     },
     "execution_count": 9,
     "metadata": {},
     "output_type": "execute_result"
    }
   ],
   "source": [
    "# データの検査\n",
    "\n",
    "df.shape"
   ]
  },
  {
   "cell_type": "code",
   "execution_count": 11,
   "id": "7543b07c",
   "metadata": {},
   "outputs": [
    {
     "data": {
      "text/html": [
       "<div>\n",
       "<style scoped>\n",
       "    .dataframe tbody tr th:only-of-type {\n",
       "        vertical-align: middle;\n",
       "    }\n",
       "\n",
       "    .dataframe tbody tr th {\n",
       "        vertical-align: top;\n",
       "    }\n",
       "\n",
       "    .dataframe thead th {\n",
       "        text-align: right;\n",
       "    }\n",
       "</style>\n",
       "<table border=\"1\" class=\"dataframe\">\n",
       "  <thead>\n",
       "    <tr style=\"text-align: right;\">\n",
       "      <th></th>\n",
       "      <th>全国地方公共団体コード</th>\n",
       "      <th>都道府県名</th>\n",
       "      <th>市区町村名</th>\n",
       "      <th>公表_年月日</th>\n",
       "      <th>陽性者数（累計）</th>\n",
       "      <th>入院中</th>\n",
       "      <th>軽症・中等症</th>\n",
       "      <th>重症</th>\n",
       "      <th>宿泊療養</th>\n",
       "      <th>自宅療養</th>\n",
       "      <th>調整中</th>\n",
       "      <th>死亡</th>\n",
       "      <th>退院</th>\n",
       "    </tr>\n",
       "  </thead>\n",
       "  <tbody>\n",
       "    <tr>\n",
       "      <th>0</th>\n",
       "      <td>130001</td>\n",
       "      <td>東京都</td>\n",
       "      <td>NaN</td>\n",
       "      <td>2020-02-28</td>\n",
       "      <td>37</td>\n",
       "      <td>21</td>\n",
       "      <td>16</td>\n",
       "      <td>5</td>\n",
       "      <td>NaN</td>\n",
       "      <td>NaN</td>\n",
       "      <td>NaN</td>\n",
       "      <td>1</td>\n",
       "      <td>15</td>\n",
       "    </tr>\n",
       "    <tr>\n",
       "      <th>1</th>\n",
       "      <td>130001</td>\n",
       "      <td>東京都</td>\n",
       "      <td>NaN</td>\n",
       "      <td>2020-02-29</td>\n",
       "      <td>37</td>\n",
       "      <td>21</td>\n",
       "      <td>16</td>\n",
       "      <td>5</td>\n",
       "      <td>NaN</td>\n",
       "      <td>NaN</td>\n",
       "      <td>NaN</td>\n",
       "      <td>1</td>\n",
       "      <td>15</td>\n",
       "    </tr>\n",
       "    <tr>\n",
       "      <th>2</th>\n",
       "      <td>130001</td>\n",
       "      <td>東京都</td>\n",
       "      <td>NaN</td>\n",
       "      <td>2020-03-01</td>\n",
       "      <td>39</td>\n",
       "      <td>23</td>\n",
       "      <td>18</td>\n",
       "      <td>5</td>\n",
       "      <td>NaN</td>\n",
       "      <td>NaN</td>\n",
       "      <td>NaN</td>\n",
       "      <td>1</td>\n",
       "      <td>15</td>\n",
       "    </tr>\n",
       "    <tr>\n",
       "      <th>3</th>\n",
       "      <td>130001</td>\n",
       "      <td>東京都</td>\n",
       "      <td>NaN</td>\n",
       "      <td>2020-03-02</td>\n",
       "      <td>39</td>\n",
       "      <td>23</td>\n",
       "      <td>18</td>\n",
       "      <td>5</td>\n",
       "      <td>NaN</td>\n",
       "      <td>NaN</td>\n",
       "      <td>NaN</td>\n",
       "      <td>1</td>\n",
       "      <td>15</td>\n",
       "    </tr>\n",
       "    <tr>\n",
       "      <th>4</th>\n",
       "      <td>130001</td>\n",
       "      <td>東京都</td>\n",
       "      <td>NaN</td>\n",
       "      <td>2020-03-03</td>\n",
       "      <td>40</td>\n",
       "      <td>22</td>\n",
       "      <td>17</td>\n",
       "      <td>5</td>\n",
       "      <td>NaN</td>\n",
       "      <td>NaN</td>\n",
       "      <td>NaN</td>\n",
       "      <td>1</td>\n",
       "      <td>17</td>\n",
       "    </tr>\n",
       "  </tbody>\n",
       "</table>\n",
       "</div>"
      ],
      "text/plain": [
       "   全国地方公共団体コード 都道府県名  市区町村名      公表_年月日  陽性者数（累計）  入院中  軽症・中等症  重症  宿泊療養  \\\n",
       "0       130001   東京都    NaN  2020-02-28        37   21      16   5   NaN   \n",
       "1       130001   東京都    NaN  2020-02-29        37   21      16   5   NaN   \n",
       "2       130001   東京都    NaN  2020-03-01        39   23      18   5   NaN   \n",
       "3       130001   東京都    NaN  2020-03-02        39   23      18   5   NaN   \n",
       "4       130001   東京都    NaN  2020-03-03        40   22      17   5   NaN   \n",
       "\n",
       "   自宅療養  調整中  死亡  退院  \n",
       "0   NaN  NaN   1  15  \n",
       "1   NaN  NaN   1  15  \n",
       "2   NaN  NaN   1  15  \n",
       "3   NaN  NaN   1  15  \n",
       "4   NaN  NaN   1  17  "
      ]
     },
     "execution_count": 11,
     "metadata": {},
     "output_type": "execute_result"
    }
   ],
   "source": [
    "df.head(5)"
   ]
  },
  {
   "cell_type": "code",
   "execution_count": 13,
   "id": "02ba8f5f",
   "metadata": {},
   "outputs": [
    {
     "data": {
      "text/plain": [
       "全国地方公共団体コード      int64\n",
       "都道府県名           object\n",
       "市区町村名          float64\n",
       "公表_年月日          object\n",
       "陽性者数（累計）         int64\n",
       "入院中              int64\n",
       "軽症・中等症           int64\n",
       "重症               int64\n",
       "宿泊療養           float64\n",
       "自宅療養           float64\n",
       "調整中            float64\n",
       "死亡               int64\n",
       "退院               int64\n",
       "dtype: object"
      ]
     },
     "execution_count": 13,
     "metadata": {},
     "output_type": "execute_result"
    }
   ],
   "source": [
    "df.dtypes"
   ]
  },
  {
   "cell_type": "code",
   "execution_count": 15,
   "id": "7ab189f5",
   "metadata": {},
   "outputs": [
    {
     "data": {
      "text/html": [
       "<div>\n",
       "<style scoped>\n",
       "    .dataframe tbody tr th:only-of-type {\n",
       "        vertical-align: middle;\n",
       "    }\n",
       "\n",
       "    .dataframe tbody tr th {\n",
       "        vertical-align: top;\n",
       "    }\n",
       "\n",
       "    .dataframe thead th {\n",
       "        text-align: right;\n",
       "    }\n",
       "</style>\n",
       "<table border=\"1\" class=\"dataframe\">\n",
       "  <thead>\n",
       "    <tr style=\"text-align: right;\">\n",
       "      <th></th>\n",
       "      <th>全国地方公共団体コード</th>\n",
       "      <th>市区町村名</th>\n",
       "      <th>陽性者数（累計）</th>\n",
       "      <th>入院中</th>\n",
       "      <th>軽症・中等症</th>\n",
       "      <th>重症</th>\n",
       "      <th>宿泊療養</th>\n",
       "      <th>自宅療養</th>\n",
       "      <th>調整中</th>\n",
       "      <th>死亡</th>\n",
       "      <th>退院</th>\n",
       "    </tr>\n",
       "  </thead>\n",
       "  <tbody>\n",
       "    <tr>\n",
       "      <th>count</th>\n",
       "      <td>936.0</td>\n",
       "      <td>0.0</td>\n",
       "      <td>9.360000e+02</td>\n",
       "      <td>936.000000</td>\n",
       "      <td>936.000000</td>\n",
       "      <td>936.000000</td>\n",
       "      <td>862.000000</td>\n",
       "      <td>862.000000</td>\n",
       "      <td>853.000000</td>\n",
       "      <td>936.000000</td>\n",
       "      <td>9.360000e+02</td>\n",
       "    </tr>\n",
       "    <tr>\n",
       "      <th>mean</th>\n",
       "      <td>130001.0</td>\n",
       "      <td>NaN</td>\n",
       "      <td>5.251997e+05</td>\n",
       "      <td>1762.141026</td>\n",
       "      <td>1711.701923</td>\n",
       "      <td>50.439103</td>\n",
       "      <td>1479.958237</td>\n",
       "      <td>19815.987239</td>\n",
       "      <td>13913.623681</td>\n",
       "      <td>2156.584402</td>\n",
       "      <td>4.889889e+05</td>\n",
       "    </tr>\n",
       "    <tr>\n",
       "      <th>std</th>\n",
       "      <td>0.0</td>\n",
       "      <td>NaN</td>\n",
       "      <td>7.504749e+05</td>\n",
       "      <td>1207.745553</td>\n",
       "      <td>1174.918614</td>\n",
       "      <td>55.123027</td>\n",
       "      <td>1682.068794</td>\n",
       "      <td>37889.118677</td>\n",
       "      <td>23648.904215</td>\n",
       "      <td>1658.576422</td>\n",
       "      <td>7.038318e+05</td>\n",
       "    </tr>\n",
       "    <tr>\n",
       "      <th>min</th>\n",
       "      <td>130001.0</td>\n",
       "      <td>NaN</td>\n",
       "      <td>3.700000e+01</td>\n",
       "      <td>21.000000</td>\n",
       "      <td>16.000000</td>\n",
       "      <td>0.000000</td>\n",
       "      <td>18.000000</td>\n",
       "      <td>5.000000</td>\n",
       "      <td>10.000000</td>\n",
       "      <td>1.000000</td>\n",
       "      <td>1.500000e+01</td>\n",
       "    </tr>\n",
       "    <tr>\n",
       "      <th>25%</th>\n",
       "      <td>130001.0</td>\n",
       "      <td>NaN</td>\n",
       "      <td>2.902725e+04</td>\n",
       "      <td>943.750000</td>\n",
       "      <td>920.000000</td>\n",
       "      <td>15.000000</td>\n",
       "      <td>261.500000</td>\n",
       "      <td>412.250000</td>\n",
       "      <td>407.000000</td>\n",
       "      <td>436.000000</td>\n",
       "      <td>2.675175e+04</td>\n",
       "    </tr>\n",
       "    <tr>\n",
       "      <th>50%</th>\n",
       "      <td>130001.0</td>\n",
       "      <td>NaN</td>\n",
       "      <td>1.649435e+05</td>\n",
       "      <td>1524.000000</td>\n",
       "      <td>1482.000000</td>\n",
       "      <td>35.500000</td>\n",
       "      <td>902.000000</td>\n",
       "      <td>1343.500000</td>\n",
       "      <td>1015.000000</td>\n",
       "      <td>2131.000000</td>\n",
       "      <td>1.590965e+05</td>\n",
       "    </tr>\n",
       "    <tr>\n",
       "      <th>75%</th>\n",
       "      <td>130001.0</td>\n",
       "      <td>NaN</td>\n",
       "      <td>5.541288e+05</td>\n",
       "      <td>2549.250000</td>\n",
       "      <td>2480.500000</td>\n",
       "      <td>64.000000</td>\n",
       "      <td>1974.750000</td>\n",
       "      <td>21222.500000</td>\n",
       "      <td>12374.000000</td>\n",
       "      <td>3199.250000</td>\n",
       "      <td>4.350022e+05</td>\n",
       "    </tr>\n",
       "    <tr>\n",
       "      <th>max</th>\n",
       "      <td>130001.0</td>\n",
       "      <td>NaN</td>\n",
       "      <td>3.109168e+06</td>\n",
       "      <td>4459.000000</td>\n",
       "      <td>4423.000000</td>\n",
       "      <td>297.000000</td>\n",
       "      <td>7176.000000</td>\n",
       "      <td>218662.000000</td>\n",
       "      <td>107340.000000</td>\n",
       "      <td>5744.000000</td>\n",
       "      <td>3.035846e+06</td>\n",
       "    </tr>\n",
       "  </tbody>\n",
       "</table>\n",
       "</div>"
      ],
      "text/plain": [
       "       全国地方公共団体コード  市区町村名      陽性者数（累計）          入院中       軽症・中等症          重症  \\\n",
       "count        936.0    0.0  9.360000e+02   936.000000   936.000000  936.000000   \n",
       "mean      130001.0    NaN  5.251997e+05  1762.141026  1711.701923   50.439103   \n",
       "std            0.0    NaN  7.504749e+05  1207.745553  1174.918614   55.123027   \n",
       "min       130001.0    NaN  3.700000e+01    21.000000    16.000000    0.000000   \n",
       "25%       130001.0    NaN  2.902725e+04   943.750000   920.000000   15.000000   \n",
       "50%       130001.0    NaN  1.649435e+05  1524.000000  1482.000000   35.500000   \n",
       "75%       130001.0    NaN  5.541288e+05  2549.250000  2480.500000   64.000000   \n",
       "max       130001.0    NaN  3.109168e+06  4459.000000  4423.000000  297.000000   \n",
       "\n",
       "              宿泊療養           自宅療養            調整中           死亡            退院  \n",
       "count   862.000000     862.000000     853.000000   936.000000  9.360000e+02  \n",
       "mean   1479.958237   19815.987239   13913.623681  2156.584402  4.889889e+05  \n",
       "std    1682.068794   37889.118677   23648.904215  1658.576422  7.038318e+05  \n",
       "min      18.000000       5.000000      10.000000     1.000000  1.500000e+01  \n",
       "25%     261.500000     412.250000     407.000000   436.000000  2.675175e+04  \n",
       "50%     902.000000    1343.500000    1015.000000  2131.000000  1.590965e+05  \n",
       "75%    1974.750000   21222.500000   12374.000000  3199.250000  4.350022e+05  \n",
       "max    7176.000000  218662.000000  107340.000000  5744.000000  3.035846e+06  "
      ]
     },
     "execution_count": 15,
     "metadata": {},
     "output_type": "execute_result"
    }
   ],
   "source": [
    "df.describe()"
   ]
  },
  {
   "cell_type": "markdown",
   "id": "c4557d14",
   "metadata": {},
   "source": [
    "## データの探索"
   ]
  },
  {
   "cell_type": "markdown",
   "id": "dd02e75f",
   "metadata": {},
   "source": [
    "## 仮説の設定"
   ]
  },
  {
   "cell_type": "markdown",
   "id": "d1fb73bb",
   "metadata": {},
   "source": [
    "## データの分析"
   ]
  },
  {
   "cell_type": "markdown",
   "id": "29500415",
   "metadata": {},
   "source": [
    "## データの説明"
   ]
  }
 ],
 "metadata": {
  "kernelspec": {
   "display_name": "Python 3 (ipykernel)",
   "language": "python",
   "name": "python3"
  },
  "language_info": {
   "codemirror_mode": {
    "name": "ipython",
    "version": 3
   },
   "file_extension": ".py",
   "mimetype": "text/x-python",
   "name": "python",
   "nbconvert_exporter": "python",
   "pygments_lexer": "ipython3",
   "version": "3.10.0"
  }
 },
 "nbformat": 4,
 "nbformat_minor": 5
}
