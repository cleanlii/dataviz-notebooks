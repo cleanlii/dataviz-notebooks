{
 "cells": [
  {
   "cell_type": "markdown",
   "id": "b57aba0f",
   "metadata": {},
   "source": [
    "# 最終課題のコード\n",
    "\n",
    "[![Open In Colab](https://colab.research.google.com/assets/colab-badge.svg)](https://colab.research.google.com/github/shinchu/dataviz-notebooks/blob/main/week_6/final-project.ipynb)"
   ]
  },
  {
   "cell_type": "code",
   "execution_count": null,
   "id": "e8a8e39b",
   "metadata": {},
   "outputs": [],
   "source": [
    "# 以下のコードを実行してファイルを読み込みます．ファイル名は英語にしましょう．\n",
    "# hogehogeをファイルの名前に書き換えて，ファイルを読み込みます．\n",
    "import io\n",
    "from google.colab import files\n",
    "uploaded = uploaded = files.upload()\n",
    "df = pd.read_csv(io.BytesIO(uploaded['hogehoge.csv']))"
   ]
  },
  {
   "cell_type": "code",
   "execution_count": null,
   "id": "e7fd9b19",
   "metadata": {},
   "outputs": [],
   "source": [
    "# 日本語が含まれているファイルであれば，エンコーディングに\"shift-jis\"を指定します．encoding=\"shift-jis\"を削除するとエラーになります．\n",
    "# 英語のみのファイルでは， , encoding=\"shift-jis\"　を削除してください\n",
    "rain_data = \"https://www.hogehoge.csv\"\n",
    "df = pd.read_csv(rain_data, encoding=\"shift-jis\")"
   ]
  },
  {
   "cell_type": "code",
   "execution_count": null,
   "id": "b90060ac",
   "metadata": {},
   "outputs": [],
   "source": [
    "df"
   ]
  }
 ],
 "metadata": {
  "kernelspec": {
   "display_name": "Python 3.8.1 64-bit ('3.8.1')",
   "language": "python",
   "name": "python3"
  },
  "language_info": {
   "codemirror_mode": {
    "name": "ipython",
    "version": 3
   },
   "file_extension": ".py",
   "mimetype": "text/x-python",
   "name": "python",
   "nbconvert_exporter": "python",
   "pygments_lexer": "ipython3",
   "version": "3.8.1"
  },
  "vscode": {
   "interpreter": {
    "hash": "b1e65045f1ae96e0640580b26940ed94a750a055d879b6076c56c078e11e4ff1"
   }
  }
 },
 "nbformat": 4,
 "nbformat_minor": 5
}
