{
 "cells": [
  {
   "cell_type": "markdown",
   "id": "4f9ae82c",
   "metadata": {},
   "source": [
    "# APIを使うチュートリアル\n",
    "\n",
    "[![Open In Colab](https://colab.research.google.com/assets/colab-badge.svg)](https://colab.research.google.com/github/shinchu/dataviz-notebooks/blob/main/week_6/api-tutorial.ipynb)\n",
    "\n",
    "緯度経度情報から、都道府県名を取得するチュートリアルです。  \n",
    "今回は、[HeartRails Geo API](https://geoapi.heartrails.com/)を使ってみます。"
   ]
  },
  {
   "cell_type": "code",
   "execution_count": 102,
   "id": "9cbf6ca3",
   "metadata": {},
   "outputs": [],
   "source": [
    "import time\n",
    "import requests\n",
    "from tqdm.notebook import tqdm"
   ]
  },
  {
   "cell_type": "markdown",
   "id": "dc85a349",
   "metadata": {},
   "source": [
    "## ファイルを読み込み、最初の1行を試す"
   ]
  },
  {
   "cell_type": "code",
   "execution_count": 103,
   "id": "e454297f",
   "metadata": {},
   "outputs": [],
   "source": [
    "loc_data = \"https://raw.githubusercontent.com/shinchu/dataviz-notebooks/main/data/week_6/loc_data.txt\""
   ]
  },
  {
   "cell_type": "code",
   "execution_count": 104,
   "id": "724f4b1b",
   "metadata": {},
   "outputs": [],
   "source": [
    "response = requests.get(loc_data)\n",
    "data = response.text\n",
    "lines = data.split(\"\\r\\n\")\n",
    "x, y = lines[0].split()"
   ]
  },
  {
   "cell_type": "code",
   "execution_count": 105,
   "id": "3a039c36",
   "metadata": {},
   "outputs": [],
   "source": [
    "# ローカルのファイルにはこちらを使う\n",
    "# with open(loc_data, \"r\") as f:\n",
    "#     line = f.readline()\n",
    "#     x, y = line.split()"
   ]
  },
  {
   "cell_type": "code",
   "execution_count": 106,
   "id": "804ecdfb",
   "metadata": {},
   "outputs": [
    {
     "name": "stdout",
     "output_type": "stream",
     "text": [
      "142.35792 43.76344\n"
     ]
    }
   ],
   "source": [
    "print(x, y)"
   ]
  },
  {
   "cell_type": "code",
   "execution_count": 107,
   "id": "ee90f34a",
   "metadata": {},
   "outputs": [],
   "source": [
    "API_URL = lambda x, y: f\"https://geoapi.heartrails.com/api/json?method=searchByGeoLocation&x={x}&y={y}\""
   ]
  },
  {
   "cell_type": "code",
   "execution_count": 108,
   "id": "f8f57810",
   "metadata": {},
   "outputs": [],
   "source": [
    "response = requests.get(API_URL(x, y))"
   ]
  },
  {
   "cell_type": "code",
   "execution_count": 109,
   "id": "0de66429",
   "metadata": {},
   "outputs": [
    {
     "data": {
      "text/plain": [
       "{'response': {'location': [{'city': '旭川市',\n",
       "    'city_kana': 'あさひかわし',\n",
       "    'town': '宮下通',\n",
       "    'town_kana': 'みやしたどおり',\n",
       "    'x': '142.360827',\n",
       "    'y': '43.763531',\n",
       "    'distance': 233.92790312264236,\n",
       "    'prefecture': '北海道',\n",
       "    'postal': '0700030'},\n",
       "   {'city': '旭川市',\n",
       "    'city_kana': 'あさひかわし',\n",
       "    'town': '一条通',\n",
       "    'town_kana': '1じょうどおり',\n",
       "    'x': '142.361512',\n",
       "    'y': '43.764919',\n",
       "    'distance': 332.41278094665756,\n",
       "    'prefecture': '北海道',\n",
       "    'postal': '0700031'},\n",
       "   {'city': '旭川市',\n",
       "    'city_kana': 'あさひかわし',\n",
       "    'town': '二条通',\n",
       "    'town_kana': '2じょうどおり',\n",
       "    'x': '142.362116',\n",
       "    'y': '43.766027',\n",
       "    'distance': 443.5385989448891,\n",
       "    'prefecture': '北海道',\n",
       "    'postal': '0700032'},\n",
       "   {'city': '旭川市',\n",
       "    'city_kana': 'あさひかわし',\n",
       "    'town': '神楽一条',\n",
       "    'town_kana': 'かぐら1じょう',\n",
       "    'x': '142.357761',\n",
       "    'y': '43.75925',\n",
       "    'distance': 466.60380724436897,\n",
       "    'prefecture': '北海道',\n",
       "    'postal': '0708001'},\n",
       "   {'city': '旭川市',\n",
       "    'city_kana': 'あさひかわし',\n",
       "    'town': '宮前２条',\n",
       "    'town_kana': 'みやまえ2じょう',\n",
       "    'x': '142.362305',\n",
       "    'y': '43.760388',\n",
       "    'distance': 489.6056430503339,\n",
       "    'prefecture': '北海道',\n",
       "    'postal': '0788392'},\n",
       "   {'city': '旭川市',\n",
       "    'city_kana': 'あさひかわし',\n",
       "    'town': '神楽二条',\n",
       "    'town_kana': 'かぐら2じょう',\n",
       "    'x': '142.353263',\n",
       "    'y': '43.760029',\n",
       "    'distance': 533.2576471651049,\n",
       "    'prefecture': '北海道',\n",
       "    'postal': '0708002'},\n",
       "   {'city': '旭川市',\n",
       "    'city_kana': 'あさひかわし',\n",
       "    'town': '三条通',\n",
       "    'town_kana': '3じょうどおり',\n",
       "    'x': '142.362704',\n",
       "    'y': '43.767101',\n",
       "    'distance': 560.3618604795075,\n",
       "    'prefecture': '北海道',\n",
       "    'postal': '0700033'},\n",
       "   {'city': '旭川市',\n",
       "    'city_kana': 'あさひかわし',\n",
       "    'town': '神楽三条',\n",
       "    'town_kana': 'かぐら3じょう',\n",
       "    'x': '142.352037',\n",
       "    'y': '43.758991',\n",
       "    'distance': 684.8320775212417,\n",
       "    'prefecture': '北海道',\n",
       "    'postal': '0708003'},\n",
       "   {'city': '旭川市',\n",
       "    'city_kana': 'あさひかわし',\n",
       "    'town': '四条通',\n",
       "    'town_kana': '4じょうどおり',\n",
       "    'x': '142.363329',\n",
       "    'y': '43.768208',\n",
       "    'distance': 686.1515621600614,\n",
       "    'prefecture': '北海道',\n",
       "    'postal': '0700034'},\n",
       "   {'city': '旭川市',\n",
       "    'city_kana': 'あさひかわし',\n",
       "    'town': '五条通',\n",
       "    'town_kana': '5じょうどおり',\n",
       "    'x': '142.363917',\n",
       "    'y': '43.769332',\n",
       "    'distance': 814.016930511416,\n",
       "    'prefecture': '北海道',\n",
       "    'postal': '0700035'}]}}"
      ]
     },
     "execution_count": 109,
     "metadata": {},
     "output_type": "execute_result"
    }
   ],
   "source": [
    "response.json()"
   ]
  },
  {
   "cell_type": "code",
   "execution_count": 110,
   "id": "f5070ddd",
   "metadata": {},
   "outputs": [
    {
     "data": {
      "text/plain": [
       "'北海道'"
      ]
     },
     "execution_count": 110,
     "metadata": {},
     "output_type": "execute_result"
    }
   ],
   "source": [
    "prefecture = response.json()[\"response\"][\"location\"][0][\"prefecture\"]\n",
    "prefecture"
   ]
  },
  {
   "cell_type": "markdown",
   "id": "734bff55",
   "metadata": {},
   "source": [
    "## まとめて処理する"
   ]
  },
  {
   "cell_type": "code",
   "execution_count": 111,
   "id": "affc980c",
   "metadata": {},
   "outputs": [
    {
     "data": {
      "application/vnd.jupyter.widget-view+json": {
       "model_id": "e63fd6d2e41443e8925051997b02e0a4",
       "version_major": 2,
       "version_minor": 0
      },
      "text/plain": [
       "  0%|          | 0/23599 [00:00<?, ?it/s]"
      ]
     },
     "metadata": {},
     "output_type": "display_data"
    },
    {
     "name": "stdout",
     "output_type": "stream",
     "text": [
      "142.35792 43.76344\n",
      "https://geoapi.heartrails.com/api/json?method=searchByGeoLocation&x=142.35792&y=43.76344\n",
      "{'response': {'location': [{'city': '旭川市', 'city_kana': 'あさひかわし', 'town': '宮下通', 'town_kana': 'みやしたどおり', 'x': '142.360827', 'y': '43.763531', 'distance': 233.92790312264236, 'prefecture': '北海道', 'postal': '0700030'}, {'city': '旭川市', 'city_kana': 'あさひかわし', 'town': '一条通', 'town_kana': '1じょうどおり', 'x': '142.361512', 'y': '43.764919', 'distance': 332.41278094665756, 'prefecture': '北海道', 'postal': '0700031'}, {'city': '旭川市', 'city_kana': 'あさひかわし', 'town': '二条通', 'town_kana': '2じょうどおり', 'x': '142.362116', 'y': '43.766027', 'distance': 443.5385989448891, 'prefecture': '北海道', 'postal': '0700032'}, {'city': '旭川市', 'city_kana': 'あさひかわし', 'town': '神楽一条', 'town_kana': 'かぐら1じょう', 'x': '142.357761', 'y': '43.75925', 'distance': 466.60380724436897, 'prefecture': '北海道', 'postal': '0708001'}, {'city': '旭川市', 'city_kana': 'あさひかわし', 'town': '宮前２条', 'town_kana': 'みやまえ2じょう', 'x': '142.362305', 'y': '43.760388', 'distance': 489.6056430503339, 'prefecture': '北海道', 'postal': '0788392'}, {'city': '旭川市', 'city_kana': 'あさひかわし', 'town': '神楽二条', 'town_kana': 'かぐら2じょう', 'x': '142.353263', 'y': '43.760029', 'distance': 533.2576471651049, 'prefecture': '北海道', 'postal': '0708002'}, {'city': '旭川市', 'city_kana': 'あさひかわし', 'town': '三条通', 'town_kana': '3じょうどおり', 'x': '142.362704', 'y': '43.767101', 'distance': 560.3618604795075, 'prefecture': '北海道', 'postal': '0700033'}, {'city': '旭川市', 'city_kana': 'あさひかわし', 'town': '神楽三条', 'town_kana': 'かぐら3じょう', 'x': '142.352037', 'y': '43.758991', 'distance': 684.8320775212417, 'prefecture': '北海道', 'postal': '0708003'}, {'city': '旭川市', 'city_kana': 'あさひかわし', 'town': '四条通', 'town_kana': '4じょうどおり', 'x': '142.363329', 'y': '43.768208', 'distance': 686.1515621600614, 'prefecture': '北海道', 'postal': '0700034'}, {'city': '旭川市', 'city_kana': 'あさひかわし', 'town': '五条通', 'town_kana': '5じょうどおり', 'x': '142.363917', 'y': '43.769332', 'distance': 814.016930511416, 'prefecture': '北海道', 'postal': '0700035'}]}}\n",
      "北海道\n",
      "141.96665 43.690955\n",
      "https://geoapi.heartrails.com/api/json?method=searchByGeoLocation&x=142.35792&y=43.76344\n",
      "{'response': {'location': [{'city': '雨竜郡妹背牛町', 'city_kana': 'うりゅうぐんもせうしちょう', 'town': '１区', 'town_kana': '1く', 'x': '141.9633166', 'y': '43.6935463', 'distance': 393.95370851238266, 'prefecture': '北海道', 'postal': '0790501'}]}}\n",
      "北海道\n"
     ]
    },
    {
     "ename": "KeyboardInterrupt",
     "evalue": "",
     "output_type": "error",
     "traceback": [
      "\u001b[0;31m---------------------------------------------------------------------------\u001b[0m",
      "\u001b[0;31mKeyboardInterrupt\u001b[0m                         Traceback (most recent call last)",
      "Cell \u001b[0;32mIn [111], line 10\u001b[0m\n\u001b[1;32m      5\u001b[0m \u001b[38;5;66;03m# ローカルのファイルにはこちらを使い、for文を2つ分インデントする\u001b[39;00m\n\u001b[1;32m      6\u001b[0m \u001b[38;5;66;03m# with open(loc_data, \"r\") as f:\u001b[39;00m\n\u001b[1;32m      7\u001b[0m \u001b[38;5;66;03m#     lines = f.readlines()\u001b[39;00m\n\u001b[1;32m      9\u001b[0m \u001b[38;5;28;01mfor\u001b[39;00m line \u001b[38;5;129;01min\u001b[39;00m tqdm(lines): \u001b[38;5;66;03m# tqdmを使うと、プログレスバーが表示されて進捗がわかりやすい\u001b[39;00m\n\u001b[0;32m---> 10\u001b[0m     \u001b[43mtime\u001b[49m\u001b[38;5;241;43m.\u001b[39;49m\u001b[43msleep\u001b[49m\u001b[43m(\u001b[49m\u001b[38;5;241;43m2\u001b[39;49m\u001b[43m)\u001b[49m \u001b[38;5;66;03m# APIに負担をかけないように、2秒休む\u001b[39;00m\n\u001b[1;32m     11\u001b[0m     x, y \u001b[38;5;241m=\u001b[39m line\u001b[38;5;241m.\u001b[39msplit()\n\u001b[1;32m     12\u001b[0m     \u001b[38;5;28mprint\u001b[39m(x, y)\n",
      "\u001b[0;31mKeyboardInterrupt\u001b[0m: "
     ]
    }
   ],
   "source": [
    "# 保存先ファイルを作る\n",
    "with open(\"./pref_data.txt\", \"w\") as fw:\n",
    "    fw.write(\"\")\n",
    "\n",
    "# ローカルのファイルにはこちらを使い、for文を2つ分インデントする\n",
    "# with open(loc_data, \"r\") as f:\n",
    "#     lines = f.readlines()\n",
    "\n",
    "for line in tqdm(lines): # tqdmを使うと、プログレスバーが表示されて進捗がわかりやすい\n",
    "    time.sleep(2) # APIに負担をかけないように、2秒休む\n",
    "    x, y = line.split()\n",
    "    response = requests.get(API_URL(x, y))\n",
    "    prefecture = response.json()[\"response\"][\"location\"][0][\"prefecture\"]\n",
    "    with open(\"./pref_data.txt\", \"a\") as fw:\n",
    "        fw.write(f\"{prefecture}\\n\") # 県名を一行ずつファイルに出力する"
   ]
  },
  {
   "cell_type": "markdown",
   "id": "76f54dce",
   "metadata": {},
   "source": [
    "これで、`pref_data.txt`というファイルに、APIから取得した都道府県名を保存できました。"
   ]
  }
 ],
 "metadata": {
  "kernelspec": {
   "display_name": "Python 3 (ipykernel)",
   "language": "python",
   "name": "python3"
  },
  "language_info": {
   "codemirror_mode": {
    "name": "ipython",
    "version": 3
   },
   "file_extension": ".py",
   "mimetype": "text/x-python",
   "name": "python",
   "nbconvert_exporter": "python",
   "pygments_lexer": "ipython3",
   "version": "3.10.0"
  }
 },
 "nbformat": 4,
 "nbformat_minor": 5
}
