{
 "cells": [
  {
   "cell_type": "markdown",
   "id": "523005b4",
   "metadata": {},
   "source": [
    "# テキストデータの可視化\n",
    "\n",
    "[![Open In Colab](https://colab.research.google.com/assets/colab-badge.svg)](https://colab.research.google.com/github/shinchu/dataviz-notebooks/blob/main/week_5/intro-to-visualizing-text-data.ipynb)"
   ]
  },
  {
   "cell_type": "markdown",
   "id": "4748ec8f",
   "metadata": {},
   "source": [
    "今回は、[青空文庫](https://www.aozora.gr.jp/)に収録されている、夏目漱石の[『三四郎』](https://www.aozora.gr.jp/cards/000148/card794.html)という作品を使って、テキストデータの可視化を練習します。"
   ]
  },
  {
   "cell_type": "markdown",
   "id": "7bb744af",
   "metadata": {},
   "source": [
    "## 基礎的な解析"
   ]
  },
  {
   "cell_type": "code",
   "execution_count": 1,
   "id": "944becfc",
   "metadata": {},
   "outputs": [
    {
     "name": "stdout",
     "output_type": "stream",
     "text": [
      "Requirement already satisfied: ginza==4.0.6 in /Users/shu/.virtualenvs/datatools/lib/python3.10/site-packages (4.0.6)\n",
      "Requirement already satisfied: ja-ginza==4.0.0 in /Users/shu/.virtualenvs/datatools/lib/python3.10/site-packages (4.0.0)\n",
      "Requirement already satisfied: SudachiDict-core>=20200330 in /Users/shu/.virtualenvs/datatools/lib/python3.10/site-packages (from ginza==4.0.6) (20221021)\n",
      "Requirement already satisfied: spacy<3.0.0,>=2.3.2 in /Users/shu/.virtualenvs/datatools/lib/python3.10/site-packages (from ginza==4.0.6) (2.3.8)\n",
      "Requirement already satisfied: SudachiPy>=0.4.9 in /Users/shu/.virtualenvs/datatools/lib/python3.10/site-packages (from ginza==4.0.6) (0.6.6)\n",
      "Requirement already satisfied: plac<1.2.0,>=0.9.6 in /Users/shu/.virtualenvs/datatools/lib/python3.10/site-packages (from spacy<3.0.0,>=2.3.2->ginza==4.0.6) (1.1.3)\n",
      "Requirement already satisfied: blis<0.8.0,>=0.4.0 in /Users/shu/.virtualenvs/datatools/lib/python3.10/site-packages (from spacy<3.0.0,>=2.3.2->ginza==4.0.6) (0.7.9)\n",
      "Requirement already satisfied: thinc<7.5.0,>=7.4.1 in /Users/shu/.virtualenvs/datatools/lib/python3.10/site-packages (from spacy<3.0.0,>=2.3.2->ginza==4.0.6) (7.4.6)\n",
      "Requirement already satisfied: requests<3.0.0,>=2.13.0 in /Users/shu/.virtualenvs/datatools/lib/python3.10/site-packages (from spacy<3.0.0,>=2.3.2->ginza==4.0.6) (2.28.1)\n",
      "Requirement already satisfied: setuptools in /Users/shu/.virtualenvs/datatools/lib/python3.10/site-packages (from spacy<3.0.0,>=2.3.2->ginza==4.0.6) (65.3.0)\n",
      "Requirement already satisfied: catalogue<1.1.0,>=0.0.7 in /Users/shu/.virtualenvs/datatools/lib/python3.10/site-packages (from spacy<3.0.0,>=2.3.2->ginza==4.0.6) (1.0.2)\n",
      "Requirement already satisfied: numpy>=1.15.0 in /Users/shu/.virtualenvs/datatools/lib/python3.10/site-packages (from spacy<3.0.0,>=2.3.2->ginza==4.0.6) (1.23.3)\n",
      "Requirement already satisfied: cymem<2.1.0,>=2.0.2 in /Users/shu/.virtualenvs/datatools/lib/python3.10/site-packages (from spacy<3.0.0,>=2.3.2->ginza==4.0.6) (2.0.7)\n",
      "Requirement already satisfied: murmurhash<1.1.0,>=0.28.0 in /Users/shu/.virtualenvs/datatools/lib/python3.10/site-packages (from spacy<3.0.0,>=2.3.2->ginza==4.0.6) (1.0.9)\n",
      "Requirement already satisfied: wasabi<1.1.0,>=0.4.0 in /Users/shu/.virtualenvs/datatools/lib/python3.10/site-packages (from spacy<3.0.0,>=2.3.2->ginza==4.0.6) (0.10.1)\n",
      "Requirement already satisfied: tqdm<5.0.0,>=4.38.0 in /Users/shu/.virtualenvs/datatools/lib/python3.10/site-packages (from spacy<3.0.0,>=2.3.2->ginza==4.0.6) (4.64.1)\n",
      "Requirement already satisfied: preshed<3.1.0,>=3.0.2 in /Users/shu/.virtualenvs/datatools/lib/python3.10/site-packages (from spacy<3.0.0,>=2.3.2->ginza==4.0.6) (3.0.8)\n",
      "Requirement already satisfied: srsly<1.1.0,>=1.0.2 in /Users/shu/.virtualenvs/datatools/lib/python3.10/site-packages (from spacy<3.0.0,>=2.3.2->ginza==4.0.6) (1.0.6)\n",
      "Requirement already satisfied: charset-normalizer<3,>=2 in /Users/shu/.virtualenvs/datatools/lib/python3.10/site-packages (from requests<3.0.0,>=2.13.0->spacy<3.0.0,>=2.3.2->ginza==4.0.6) (2.1.1)\n",
      "Requirement already satisfied: urllib3<1.27,>=1.21.1 in /Users/shu/.virtualenvs/datatools/lib/python3.10/site-packages (from requests<3.0.0,>=2.13.0->spacy<3.0.0,>=2.3.2->ginza==4.0.6) (1.26.12)\n",
      "Requirement already satisfied: certifi>=2017.4.17 in /Users/shu/.virtualenvs/datatools/lib/python3.10/site-packages (from requests<3.0.0,>=2.13.0->spacy<3.0.0,>=2.3.2->ginza==4.0.6) (2022.9.24)\n",
      "Requirement already satisfied: idna<4,>=2.5 in /Users/shu/.virtualenvs/datatools/lib/python3.10/site-packages (from requests<3.0.0,>=2.13.0->spacy<3.0.0,>=2.3.2->ginza==4.0.6) (3.4)\n",
      "\n",
      "\u001b[1m[\u001b[0m\u001b[34;49mnotice\u001b[0m\u001b[1;39;49m]\u001b[0m\u001b[39;49m A new release of pip available: \u001b[0m\u001b[31;49m22.3\u001b[0m\u001b[39;49m -> \u001b[0m\u001b[32;49m22.3.1\u001b[0m\n",
      "\u001b[1m[\u001b[0m\u001b[34;49mnotice\u001b[0m\u001b[1;39;49m]\u001b[0m\u001b[39;49m To update, run: \u001b[0m\u001b[32;49mpip install --upgrade pip\u001b[0m\n",
      "Requirement already satisfied: sklearn in /Users/shu/.virtualenvs/datatools/lib/python3.10/site-packages (0.0.post1)\n",
      "Requirement already satisfied: pandas in /Users/shu/.virtualenvs/datatools/lib/python3.10/site-packages (1.5.0)\n",
      "Requirement already satisfied: pytz>=2020.1 in /Users/shu/.virtualenvs/datatools/lib/python3.10/site-packages (from pandas) (2022.4)\n",
      "Requirement already satisfied: python-dateutil>=2.8.1 in /Users/shu/.virtualenvs/datatools/lib/python3.10/site-packages (from pandas) (2.8.2)\n",
      "Requirement already satisfied: numpy>=1.21.0 in /Users/shu/.virtualenvs/datatools/lib/python3.10/site-packages (from pandas) (1.23.3)\n",
      "Requirement already satisfied: six>=1.5 in /Users/shu/.virtualenvs/datatools/lib/python3.10/site-packages (from python-dateutil>=2.8.1->pandas) (1.16.0)\n",
      "\n",
      "\u001b[1m[\u001b[0m\u001b[34;49mnotice\u001b[0m\u001b[1;39;49m]\u001b[0m\u001b[39;49m A new release of pip available: \u001b[0m\u001b[31;49m22.3\u001b[0m\u001b[39;49m -> \u001b[0m\u001b[32;49m22.3.1\u001b[0m\n",
      "\u001b[1m[\u001b[0m\u001b[34;49mnotice\u001b[0m\u001b[1;39;49m]\u001b[0m\u001b[39;49m To update, run: \u001b[0m\u001b[32;49mpip install --upgrade pip\u001b[0m\n"
     ]
    }
   ],
   "source": [
    "# ライブラリのインストール\n",
    "\n",
    "!pip install ginza==4.0.6 ja-ginza==4.0.0\n",
    "!pip install sklearn pandas"
   ]
  },
  {
   "cell_type": "code",
   "execution_count": 2,
   "id": "6e0bbf80",
   "metadata": {},
   "outputs": [
    {
     "name": "stdout",
     "output_type": "stream",
     "text": [
      "--2022-11-09 15:16:51--  https://www.aozora.gr.jp/cards/000148/files/794_ruby_4237.zip\n",
      "Resolving proxy.noc.titech.ac.jp (proxy.noc.titech.ac.jp)... 131.112.125.238\n",
      "Connecting to proxy.noc.titech.ac.jp (proxy.noc.titech.ac.jp)|131.112.125.238|:3128... connected.\n",
      "Proxy request sent, awaiting response... 200 OK\n",
      "Length: 158711 (155K) [application/zip]\n",
      "Saving to: ‘794_ruby_4237.zip’\n",
      "\n",
      "794_ruby_4237.zip   100%[===================>] 154.99K  --.-KB/s    in 0.01s   \n",
      "\n",
      "2022-11-09 15:16:51 (14.1 MB/s) - ‘794_ruby_4237.zip’ saved [158711/158711]\n",
      "\n",
      "Archive:  794_ruby_4237.zip\n",
      "  inflating: text/sanshiro.txt       \n"
     ]
    }
   ],
   "source": [
    "# ファイルをダウンロードする\n",
    "!wget https://www.aozora.gr.jp/cards/000148/files/794_ruby_4237.zip\n",
    "# textフォルダ作る\n",
    "!mkdir -p text\n",
    "# ファイルをtextフォルダに解凍\n",
    "!unzip -d text -o 794_ruby_4237.zip"
   ]
  },
  {
   "cell_type": "markdown",
   "id": "9fbda573",
   "metadata": {},
   "source": [
    "正規表現で青空文庫のルビ、注、アクセントの記号を取り除きます。\n",
    "\n",
    "同時に、文字コードをShift-JISからUTF-8にします。\n",
    "\n",
    "```\n",
    "\n",
    "-------------------------------------------------------\n",
    "【テキスト中に現れる記号について】\n",
    "\n",
    "《》：ルビ\n",
    "（例）頓狂《とんきょう》\n",
    "\n",
    "｜：ルビの付く文字列の始まりを特定する記号\n",
    "（例）福岡県｜京都郡《みやこぐん》\n",
    "\n",
    "［＃］：入力者注　主に外字の説明や、傍点の位置の指定\n",
    "　　　（数字は、JIS X 0213の面区点番号またはUnicode、底本のページと行数）\n",
    "（例）※［＃「魚＋師のつくり」、第4水準2-93-37］\n",
    "\n",
    "〔〕：アクセント分解された欧文をかこむ\n",
    "（例）〔ve'rite'《ヴェリテ》 vraie《ヴレイ》.〕\n",
    "アクセント分解についての詳細は下記URLを参照してください\n",
    "http://www.aozora.gr.jp/accent_separation.html\n",
    "-------------------------------------------------------\n",
    "\n",
    "```"
   ]
  },
  {
   "cell_type": "code",
   "execution_count": 18,
   "id": "b90a3983",
   "metadata": {},
   "outputs": [],
   "source": [
    "import re\n",
    "\n",
    "input_fn = \"text/sanshiro.txt\"\n",
    "output_fn = \"text/sanshiro.stripruby.txt\"\n",
    "\n",
    "with open(input_fn, encoding=\"shift_jis\") as fin, open(output_fn, mode=\"w\") as fout:\n",
    "    for line in fin:\n",
    "        fout.write(re.sub(r\"《[^》]+》|［[^］]+］|〔[^〕]+〕| [｜]\", \"\", line))"
   ]
  },
  {
   "cell_type": "markdown",
   "id": "46b27795",
   "metadata": {},
   "source": [
    "冒頭と末尾の説明を取り除きます（何行取り除くかは目視で確認）。"
   ]
  },
  {
   "cell_type": "code",
   "execution_count": 22,
   "id": "73645fe9",
   "metadata": {},
   "outputs": [],
   "source": [
    "!tail -n +22 text/sanshiro.stripruby.txt | head -n -14 > text/sanshiro.corpus.txt"
   ]
  },
  {
   "cell_type": "markdown",
   "id": "d81c7238",
   "metadata": {},
   "source": [
    "これで、テキストファイルを扱う準備ができました。"
   ]
  },
  {
   "cell_type": "markdown",
   "id": "f1a55698",
   "metadata": {},
   "source": [
    "### 形態素解析"
   ]
  },
  {
   "cell_type": "markdown",
   "id": "81f5c2b3",
   "metadata": {},
   "source": [
    "形態素解析は、文章を一つ一つの形態素に分ける技術です。形態素は、「言葉が意味を持つまとまりの単語の最小単位」です。\n",
    "\n",
    "spaCyで日本語の形態素解析モデル（`ja_ginza`）をロードして、形態素解析をしてみましょう。"
   ]
  },
  {
   "cell_type": "code",
   "execution_count": 1,
   "id": "8199f4ec",
   "metadata": {},
   "outputs": [
    {
     "name": "stdout",
     "output_type": "stream",
     "text": [
      "これ\n",
      "は\n",
      "文章\n",
      "です\n",
      "。\n"
     ]
    }
   ],
   "source": [
    "import spacy\n",
    "\n",
    "nlp = spacy.load(\"ja_ginza\")\n",
    "text = \"これは文章です。\"\n",
    "doc = nlp(text)\n",
    "for token in doc:\n",
    "    print(token)"
   ]
  },
  {
   "cell_type": "markdown",
   "id": "5ac1ba0e",
   "metadata": {},
   "source": [
    "形態素解析の結果には、語の原形や品詞の情報も含まれます。"
   ]
  },
  {
   "cell_type": "code",
   "execution_count": 36,
   "id": "35c51695",
   "metadata": {},
   "outputs": [
    {
     "name": "stdout",
     "output_type": "stream",
     "text": [
      "昨日\t昨日\tNOUN\t名詞-普通名詞-副詞可能\n",
      "の\tの\tADP\t助詞-格助詞\n",
      "天気\t天気\tNOUN\t名詞-普通名詞-一般\n",
      "は\tは\tADP\t助詞-係助詞\n",
      "晴れ\t晴れ\tNOUN\t名詞-普通名詞-一般\n",
      "でし\tです\tAUX\t助動詞\n",
      "た\tた\tAUX\t助動詞\n",
      "。\t。\tPUNCT\t補助記号-句点\n",
      "明日\t明日\tNOUN\t名詞-普通名詞-副詞可能\n",
      "も\tも\tADP\t助詞-係助詞\n",
      "晴れる\t晴れる\tVERB\t動詞-一般\n",
      "でしょう\tです\tAUX\t助動詞\n",
      "。\t。\tPUNCT\t補助記号-句点\n"
     ]
    }
   ],
   "source": [
    "text = \"昨日の天気は晴れでした。明日も晴れるでしょう。\"\n",
    "doc = nlp(text)\n",
    "for token in doc:\n",
    "    print(f\"{token}\\t{token.lemma_}\\t{token.pos_}\\t{token.tag_}\")"
   ]
  },
  {
   "cell_type": "code",
   "execution_count": 59,
   "id": "b5fdb5a2",
   "metadata": {},
   "outputs": [
    {
     "name": "stdout",
     "output_type": "stream",
     "text": [
      "うとうと\tうとうと\tADV\t副詞\n",
      "と\tと\tADP\t助詞-格助詞\n",
      "し\tする\tVERB\t動詞-非自立可能\n",
      "て\tて\tSCONJ\t助詞-接続助詞\n",
      "目\t目\tNOUN\t名詞-普通名詞-一般\n",
      "が\tが\tADP\t助詞-格助詞\n",
      "さめる\tさめる\tVERB\t動詞-一般\n",
      "と\tと\tADP\t助詞-格助詞\n",
      "女\t女\tNOUN\t名詞-普通名詞-一般\n",
      "は\tは\tADP\t助詞-係助詞\n",
      "いつ\tいつ\tPRON\t代名詞\n",
      "の\tの\tADP\t助詞-格助詞\n",
      "ま\tま\tNOUN\t名詞-普通名詞-助数詞可能\n",
      "に\tに\tADP\t助詞-格助詞\n",
      "か\tか\tADP\t助詞-副助詞\n",
      "、\t、\tPUNCT\t補助記号-読点\n",
      "隣\t隣\tNOUN\t名詞-普通名詞-一般\n",
      "の\tの\tADP\t助詞-格助詞\n",
      "じい\tじい\tNOUN\t名詞-普通名詞-一般\n",
      "さん\tさん\tNOUN\t接尾辞-名詞的-一般\n",
      "と\tと\tADP\t助詞-格助詞\n",
      "話\t話\tNOUN\t名詞-普通名詞-サ変可能\n",
      "を\tを\tADP\t助詞-格助詞\n",
      "始め\t始める\tVERB\t動詞-非自立可能\n",
      "て\tて\tSCONJ\t助詞-接続助詞\n",
      "いる\tいる\tAUX\t動詞-非自立可能\n",
      "。\t。\tPUNCT\t補助記号-句点\n",
      "この\tこの\tDET\t連体詞\n",
      "じい\tじい\tNOUN\t名詞-普通名詞-一般\n",
      "さん\tさん\tNOUN\t接尾辞-名詞的-一般\n",
      "は\tは\tADP\t助詞-係助詞\n",
      "たしか\tたしか\tADJ\t形状詞-一般\n",
      "に\tだ\tAUX\t助動詞\n",
      "前\t前\tNOUN\t名詞-普通名詞-副詞可能\n",
      "の\tの\tADP\t助詞-格助詞\n",
      "前\t前\tNOUN\t名詞-普通名詞-副詞可能\n",
      "の\tの\tADP\t助詞-格助詞\n",
      "駅\t駅\tNOUN\t名詞-普通名詞-一般\n",
      "から\tから\tADP\t助詞-格助詞\n",
      "乗っ\t乗る\tVERB\t動詞-一般\n",
      "た\tた\tAUX\t助動詞\n",
      "いなか者\tいなか者\tNOUN\t名詞-普通名詞-一般\n",
      "で\tだ\tAUX\t助動詞\n",
      "ある\tある\tAUX\t動詞-非自立可能\n",
      "。\t。\tPUNCT\t補助記号-句点\n",
      "発車\t発車\tNOUN\t名詞-普通名詞-サ変可能\n",
      "まぎわ\tまぎわ\tNOUN\t名詞-普通名詞-一般\n",
      "に\tに\tADP\t助詞-格助詞\n",
      "頓狂\t頓狂\tADJ\t形状詞-一般\n",
      "な\tだ\tAUX\t助動詞\n",
      "声\t声\tNOUN\t名詞-普通名詞-一般\n",
      "を\tを\tADP\t助詞-格助詞\n",
      "出し\t出す\tVERB\t動詞-非自立可能\n",
      "て\tて\tSCONJ\t助詞-接続助詞\n",
      "駆け込ん\t駆け込む\tVERB\t動詞-一般\n",
      "で\tで\tSCONJ\t助詞-接続助詞\n",
      "来\t来る\tAUX\t動詞-非自立可能\n",
      "て\tて\tSCONJ\t助詞-接続助詞\n",
      "、\t、\tPUNCT\t補助記号-読点\n",
      "いきなり\tいきなり\tADV\t副詞\n",
      "肌\t肌\tNOUN\t名詞-普通名詞-一般\n",
      "を\tを\tADP\t助詞-格助詞\n",
      "ぬい\tぬぐ\tVERB\t動詞-一般\n",
      "だ\tだ\tAUX\t助動詞\n",
      "と\tと\tADP\t助詞-格助詞\n",
      "思っ\t思う\tVERB\t動詞-一般\n",
      "たら\tた\tAUX\t助動詞\n",
      "背中\t背中\tNOUN\t名詞-普通名詞-一般\n",
      "に\tに\tADP\t助詞-格助詞\n",
      "お\tお\tNOUN\t接頭辞\n",
      "灸\t灸\tNOUN\t名詞-普通名詞-一般\n",
      "の\tの\tADP\t助詞-格助詞\n",
      "あと\tあと\tNOUN\t名詞-普通名詞-副詞可能\n",
      "が\tが\tADP\t助詞-格助詞\n",
      "いっぱい\tいっぱい\tADV\t副詞\n",
      "あっ\tある\tVERB\t動詞-非自立可能\n",
      "た\tた\tAUX\t助動詞\n",
      "の\tの\tSCONJ\t助詞-準体助詞\n",
      "で\tだ\tAUX\t助動詞\n",
      "、\t、\tPUNCT\t補助記号-読点\n",
      "三四郎\t三四郎\tPROPN\t名詞-固有名詞-人名-名\n",
      "の\tの\tADP\t助詞-格助詞\n",
      "記憶\t記憶\tNOUN\t名詞-普通名詞-サ変可能\n",
      "に\tに\tADP\t助詞-格助詞\n",
      "残っ\t残る\tVERB\t動詞-一般\n",
      "て\tて\tSCONJ\t助詞-接続助詞\n",
      "いる\tいる\tAUX\t動詞-非自立可能\n",
      "。\t。\tPUNCT\t補助記号-句点\n",
      "じい\tじい\tNOUN\t名詞-普通名詞-一般\n",
      "さん\tさん\tNOUN\t接尾辞-名詞的-一般\n",
      "が\tが\tADP\t助詞-格助詞\n",
      "汗\t汗\tNOUN\t名詞-普通名詞-一般\n",
      "を\tを\tADP\t助詞-格助詞\n",
      "ふい\tふく\tVERB\t動詞-一般\n",
      "て\tて\tSCONJ\t助詞-接続助詞\n",
      "、\t、\tPUNCT\t補助記号-読点\n",
      "肌\t肌\tNOUN\t名詞-普通名詞-一般\n",
      "を\tを\tADP\t助詞-格助詞\n",
      "入れ\t入れる\tVERB\t動詞-一般\n",
      "て\tて\tSCONJ\t助詞-接続助詞\n",
      "、\t、\tPUNCT\t補助記号-読点\n",
      "女\t女\tNOUN\t名詞-普通名詞-一般\n",
      "の\tの\tADP\t助詞-格助詞\n",
      "隣\t隣\tNOUN\t名詞-普通名詞-一般\n",
      "に\tに\tADP\t助詞-格助詞\n",
      "腰\t腰\tNOUN\t名詞-普通名詞-一般\n",
      "を\tを\tADP\t助詞-格助詞\n",
      "かけ\tかける\tVERB\t動詞-非自立可能\n",
      "た\tた\tAUX\t助動詞\n",
      "まで\tまで\tPART\t助詞-副助詞\n",
      "よく\tよく\tADV\t副詞\n",
      "注意\t注意\tVERB\t名詞-普通名詞-サ変可能\n",
      "し\tする\tAUX\t動詞-非自立可能\n",
      "て\tて\tSCONJ\t助詞-接続助詞\n",
      "見\t見る\tAUX\t動詞-非自立可能\n",
      "て\tて\tSCONJ\t助詞-接続助詞\n",
      "い\tいる\tAUX\t動詞-非自立可能\n",
      "た\tた\tAUX\t助動詞\n",
      "くらい\tくらい\tPART\t助詞-副助詞\n",
      "で\tだ\tAUX\t助動詞\n",
      "ある\tある\tAUX\t動詞-非自立可能\n",
      "。\t。\tPUNCT\t補助記号-句点\n"
     ]
    }
   ],
   "source": [
    "text = \"うとうととして目がさめると女はいつのまにか、隣のじいさんと話を始めている。このじいさんはたしかに前の前の駅から乗ったいなか者である。発車まぎわに頓狂な声を出して駆け込んで来て、いきなり肌をぬいだと思ったら背中にお灸のあとがいっぱいあったので、三四郎の記憶に残っている。じいさんが汗をふいて、肌を入れて、女の隣に腰をかけたまでよく注意して見ていたくらいである。\"\n",
    "doc = nlp(text)\n",
    "for token in doc:\n",
    "    print(f\"{token}\\t{token.lemma_}\\t{token.pos_}\\t{token.tag_}\")"
   ]
  },
  {
   "cell_type": "markdown",
   "id": "abeb0eee",
   "metadata": {},
   "source": [
    "それでは、『三四郎』に出現する単語の頻度を数えてみましょう。\n",
    "\n",
    "テキストファイルを読み込んで形態素解析を行います。"
   ]
  },
  {
   "cell_type": "code",
   "execution_count": 23,
   "id": "16bc7fb4",
   "metadata": {},
   "outputs": [],
   "source": [
    "input_fn = \"text/sanshiro.corpus.txt\"\n",
    "output_fn = \"text/sanshiro.wakati.txt\"\n",
    "\n",
    "with open(input_fn, \"r\") as fin, open(output_fn, \"w\") as fout:\n",
    "    for line in fin:\n",
    "        tokens = [token.text for token in nlp(line.rstrip())]\n",
    "        fout.write(' '.join(tokens) + \"\\n\")"
   ]
  },
  {
   "cell_type": "markdown",
   "id": "6fd5a14f",
   "metadata": {},
   "source": [
    "出力されたファイルを確認すると、分かち書きされていることが分かります。"
   ]
  },
  {
   "cell_type": "markdown",
   "id": "396e04dc",
   "metadata": {},
   "source": [
    "次に、使用頻度の高い単語を見てみましょう。"
   ]
  },
  {
   "cell_type": "code",
   "execution_count": 60,
   "id": "e1bcc22d",
   "metadata": {},
   "outputs": [
    {
     "name": "stdout",
     "output_type": "stream",
     "text": [
      " 1126 三四郎\n",
      "  614 言う\n",
      "  385 女\n",
      "  373 さん\n",
      "  351 与次郎\n",
      "  314 先生\n",
      "  310 美禰子\n",
      "  297 出る\n",
      "  270 見る\n",
      "  262 聞く\n"
     ]
    }
   ],
   "source": [
    "from collections import Counter\n",
    "\n",
    "# 分析対象とする品詞（内容語 - 名詞、動詞、形容詞、固有名詞）と不要語（ストップワード）を指定する\n",
    "include_pos = (\"NOUN\", \"VERB\", \"ADJ\", \"PROPN\")\n",
    "stopwords = (\"する\", \"ある\", \"ない\", \"いう\", \"もの\", \"こと\", \"よう\", \"なる\", \"ほう\", \"いる\", \"くる\")\n",
    "\n",
    "# ファイルの読み込み、テキストを一行ずつ解析\n",
    "all_tokens = []\n",
    "with open(input_fn, \"r\") as f:\n",
    "    for line in f:\n",
    "        tokens = [token for token in nlp(line)]\n",
    "        all_tokens.extend(tokens)\n",
    "        \n",
    "# 単語の頻度を数える\n",
    "counter = Counter(token.lemma_ for token in all_tokens if token.pos_ in include_pos and token.lemma_ not in stopwords)\n",
    "\n",
    "# 出現頻度top 10を出力する\n",
    "for word, count in counter.most_common(10):\n",
    "    print(f\"{count:>5} {word}\")"
   ]
  },
  {
   "cell_type": "markdown",
   "id": "933fe47f",
   "metadata": {},
   "source": [
    "更に、単語の共起を見てみます。共起とは、どの語とどの語が一緒に使われているかを調べる方法です。\n",
    "\n",
    "文章を文に分割し、同一文中に同時に出現する単語の組を数え上げることで分析します。"
   ]
  },
  {
   "cell_type": "code",
   "execution_count": 26,
   "id": "4730a40d",
   "metadata": {},
   "outputs": [],
   "source": [
    "import numpy as np\n",
    "from sklearn.feature_extraction.text import CountVectorizer"
   ]
  },
  {
   "cell_type": "code",
   "execution_count": 28,
   "id": "9a61f399",
   "metadata": {},
   "outputs": [],
   "source": [
    "def extract_words(sent, pos_tags, stopwords):\n",
    "    \"\"\"\n",
    "    分析対象の品詞であり、不要語ではない単語を抽出する\n",
    "    \"\"\"\n",
    "    words = [token.lemma_ for token in sent if token.pos_ in pos_tags and token.lemma_ not in stopwords]\n",
    "    return words"
   ]
  },
  {
   "cell_type": "code",
   "execution_count": 30,
   "id": "46b01375",
   "metadata": {},
   "outputs": [],
   "source": [
    "def count_cooccurrence(sents, token_length=\"{2,}\"):\n",
    "    \"\"\"\n",
    "    同じ文中に共起する単語を行列形式で列挙する\n",
    "    \"\"\"\n",
    "    token_pattern = f\"\\\\b\\\\w{token_length}\\\\b\"\n",
    "    count_model = CountVectorizer(token_pattern=token_pattern)\n",
    "    \n",
    "    X = count_model.fit_transform(sents)\n",
    "    words = count_model.get_feature_names_out()\n",
    "    word_counts = np.asarray(X.sum(axis=0).reshape(-1))\n",
    "    \n",
    "    X[X > 0] = 1 # 同じ共起が2以上出現しても1とする\n",
    "    Xc = (X.T * X) # 共起行列を求めるための掛け算をする、csr形式の疎行列\n",
    "    \n",
    "    return words, word_counts, Xc, X"
   ]
  },
  {
   "cell_type": "code",
   "execution_count": 31,
   "id": "6bdb3b6e",
   "metadata": {},
   "outputs": [],
   "source": [
    "def find_sentence_by_cooccurrence(X, idxs):\n",
    "    \"\"\"\n",
    "    指定された共起を含む文を見つける\n",
    "    \"\"\"\n",
    "    occur_flags = (X[:, idxs[0]] > 0)\n",
    "    for idx in idxs[1:]:\n",
    "        occur_flags = occur_flags.multiply(X[:, idx] > 0)\n",
    "    \n",
    "    return occur_flags.nonzero()[0]"
   ]
  },
  {
   "cell_type": "code",
   "execution_count": 61,
   "id": "52fe5cbc",
   "metadata": {},
   "outputs": [],
   "source": [
    "# 文章を解析し、共起を求める\n",
    "\n",
    "sents = []\n",
    "with open(input_fn, \"r\") as f:\n",
    "    for line in f:\n",
    "        doc = nlp(line)\n",
    "        tmp = [' '.join(extract_words(sent, include_pos, stopwords)) for sent in doc.sents]\n",
    "        sents.extend(tmp)\n",
    "\n",
    "words, _, Xc, X = count_cooccurrence(sents)"
   ]
  },
  {
   "cell_type": "code",
   "execution_count": 62,
   "id": "375abd6d",
   "metadata": {},
   "outputs": [
    {
     "name": "stdout",
     "output_type": "stream",
     "text": [
      "124 (さん, 野々宮)\n",
      "120 (先生, 広田)\n",
      " 96 (三四郎, 見る)\n",
      " 82 (三四郎, 言う)\n",
      " 72 (さん, 原口)\n",
      " 71 (三四郎, 美禰子)\n",
      " 68 (三四郎, 思う)\n",
      " 67 (三四郎, 与次郎)\n",
      " 60 (与次郎, 言う)\n",
      " 56 (さん, 言う)\n"
     ]
    }
   ],
   "source": [
    "# 共起ランキングを出力する\n",
    "# 共起行列Xcは疎行列なので、非ゼロ要素のみをカウンタに格納する\n",
    "counter = Counter()\n",
    "for i, j in zip(*Xc.nonzero()):\n",
    "    if i >= j:\n",
    "        continue\n",
    "    counter[(i, j)] += Xc[i, j]\n",
    "\n",
    "    # 共起の出現頻度top 10を出力する\n",
    "for (i, j), c in counter.most_common(10):\n",
    "    print(f\"{c:>3d} ({words[i]}, {words[j]})\")"
   ]
  },
  {
   "cell_type": "code",
   "execution_count": 63,
   "id": "249414d4",
   "metadata": {},
   "outputs": [],
   "source": [
    "# 指定した共起を含む文のリストを出力する\n",
    "sents_orig = []\n",
    "with open(input_fn, \"r\") as f:\n",
    "    for line in f:\n",
    "        doc = nlp(line)\n",
    "        tmp = list(doc.sents)\n",
    "        sents_orig.extend(tmp)\n",
    "        \n",
    "# すべての単語の通り番号を求める\n",
    "words_lookup = { word: index for index, word in enumerate(words) }"
   ]
  },
  {
   "cell_type": "code",
   "execution_count": 65,
   "id": "751636e0",
   "metadata": {},
   "outputs": [
    {
     "name": "stdout",
     "output_type": "stream",
     "text": [
      " 2107: 　美禰子が掃くあとを、三四郎が雑巾をかける。\n",
      " 2108: 三四郎が畳をたたくあいだに、美禰子が障子をはたく。\n",
      " 2110: 　三四郎がバケツの水を取り換えに台所へ行ったあとで、美禰子がはたきと箒を持って二階へ上がった。\n",
      "\n",
      " 2118: 薄暗い所で美禰子の顔と三四郎の顔が一尺ばかりの距離に来た。\n",
      "\n",
      " 2131: 　三四郎は黙って、美禰子の方へ近寄った。\n",
      " 2143: 美禰子は箒を両手で持ったまま、三四郎の姿を見て、\n",
      "\n",
      " 2189: 　三四郎は美禰子を捨てて二階を駆け降りた。\n",
      " 2222: これをどうするの」と美禰子が言った時、三四郎はしゃがみながら振り返った。\n",
      " 2229: 　美禰子と三四郎が戸口で本をそろえると、それを与次郎が受け取って部屋の中の書棚へ並べるという役割ができた。\n",
      "\n",
      " 2243: 美禰子は三四郎の肩をちょっと突っついた。\n",
      " 2250: 　三四郎と美禰子は顔を見合わせて笑った。\n",
      " 2349: 「口の悪い」と美禰子は三四郎を弁護するように言ったが、すぐあとから三四郎の方を向いて、\n",
      "\n",
      " 2390: その言い方がいかにも下劣らしいので、三四郎と美禰子は一度に笑い出した。\n",
      " 2804: 美禰子はもう三四郎より先にいる。\n",
      " 2812: 三四郎は群集を押し分けながら、三人を棄てて、美禰子のあとを追って行った。\n",
      "\n",
      " 2814: 「里見さん」と呼んだ時に、美禰子は青竹の手欄に手を突いて、心持ち首をもどして、三四郎を見た。\n",
      " 2818: 三四郎が美禰子の顔を見た時には、青竹のなかに何があるかほとんど気がつかなかった。\n",
      "\n",
      " 2822: その時三四郎は美禰子の二重瞼に不可思議なある意味を認めた。\n",
      " 2826: 三四郎は、美禰子の答を予期しつつある今の場合を忘れて、この眸とこの瞼の間にすべてを遺却した。\n",
      " 2900: 美禰子と三四郎の間は四尺ばかり離れている。\n",
      " 2956: この男が二人の前へ来た時、顔をぐるりと向け直して、正面から三四郎と美禰子をにらめつけた。\n",
      " 2975: 　美禰子は三四郎を見た。\n",
      " 3006: 　三四郎は美禰子の態度をもとのような、――二人の頭の上に広がっている、澄むとも濁るとも片づかない\n",
      " 3051: その勢で美禰子の両手が三四郎の両腕の上へ落ちた。\n",
      "\n",
      " 3337: 三四郎は美禰子の性格についてもう少し議論の歩を進めたかったのだが、与次郎のこの一言でまったくはぐらかされてしまった。\n",
      " 3551: 美禰子の顔でもっとも三四郎を驚かしたものは目つきと歯並である。\n",
      " 3601: 決勝点は美禰子とよし子がすわっている真正面で、しかも鼻の先だから、二人を見つめていた三四郎の視線のうちにはぜひともこれらの壮漢がはいってくる。\n",
      " 3719: 　美禰子と三四郎は声を出して笑った。\n",
      " 3799: 　三四郎はその時はじめて美禰子から野々宮のおっかさんが国へ帰ったということを聞いた。\n",
      " 3809: 　三四郎は頭のなかに、こういう疑いある未来を、描きながら、美禰子と応対をしている。\n",
      " 3843: ――三四郎は気がついて、きょうまで美禰子の自分に対する態度や言語を一々繰り返してみると、どれもこれもみんな悪い意味がつけられる。\n",
      " 4051: 三四郎は腹の中で美禰子の自分に対する素振をもう一ぺん考えてみた。\n",
      " 4077: 三四郎は頭の中にこの標準を置いて、美禰子のすべてを測ってみた。\n",
      " 4157: ことに美禰子が団扇をかざしている構図は非常な感動を三四郎に与えた。\n",
      " 4468: 三四郎はこのあいだから美禰子を疑っている。\n",
      " 4471: もし三四郎の安心のために解決が必要なら、それはただ美禰子に接触する機会を利用して、先方の様子から、いいかげんに最後の判決を自分に与えてしまうだけである。\n",
      " 4491: ――三四郎は美禰子のために己惚れしめられたんだと信じている。\n",
      "\n",
      " 4504: 取次ぎの下女に、「美禰子さんはお宅ですか」と言った時、三四郎は自分ながら気恥ずかしいような妙な心持ちがした。\n",
      " 4534: 　三四郎がなかば感覚を失った目を鏡の中に移すと、鏡の中に美禰子がいつのまにか立っている。\n",
      " 4537: 美禰子は鏡の中で三四郎を見た。\n",
      " 4538: 三四郎は鏡の中の美禰子を見た。\n",
      " 4566: 三四郎はこのあいだに美禰子の白い歯を見た。\n",
      "\n",
      " 4644: そのあいだ三四郎はしじゅう美禰子の事を考えている。\n",
      " 4758: 　美禰子は不思議そうな顔をして、三四郎を見た。\n",
      "\n",
      " 4776: 　美禰子も三四郎も等しく顔を向け直した。\n",
      " 4788: 三四郎が何か答えようとするうちに、美禰子が、\n",
      "\n",
      " 4838: 　美禰子は三四郎を見た。\n",
      " 4883: 　美禰子の意味は、大波のくずれるごとく一度に三四郎の胸を浸した。\n",
      "\n",
      " 5231: 美禰子から金を借りたあくる日もう一ぺん訪問して余分をすぐに返すべきところを、ひとまず見合わせた代りに、二日ばかり待って、三四郎は丁寧な礼状を美禰子に送った。\n",
      "\n",
      " 5237: 三四郎はこの手紙をポストに入れる時、時を移さぬ美禰子の返事を予期していた。\n",
      " 5373: 　三四郎は美禰子からもれて、よし子に伝わって、それが野々宮さんに知れているんだと判じた。\n",
      " 5574: もしだれか来て、ついでに美禰子をよそから見ろと注意したら、三四郎は驚いたに違いない。\n",
      " 5575: 三四郎は美禰子をよそから見ることができないような目になっている。\n",
      " 5633: 三四郎はこの時ようやく美禰子の方を見た。\n",
      " 5650: 三四郎から見ると、原口さんは、美禰子を写しているのではない。\n",
      " 5653: 三四郎には、この二人の美禰子の間に、時計の音に触れない、静かな長い時間が含まれているように思われた。\n",
      " 5657: 三四郎はそこまでついて行って、気がついて、ふと美禰子を見た。\n",
      " 5722: 　三四郎は美禰子を見た。\n",
      " 5723: 美禰子も三四郎を見て笑った。\n",
      " 5727: 　三四郎はこの機会を利用して、丸テーブルの側を離れて、美禰子の傍へ近寄った。\n",
      " 5856: 三四郎は画家の話に耳を傾けながら、目だけはついに美禰子を離れなかった。\n",
      " 5885: 三四郎も留められたが、わざと断って、美禰子といっしょに表へ出た。\n",
      " 5895: 三四郎が美禰子を知ってから、美禰子はかつて、長い言葉を使ったことがない。\n",
      " 5952: 三四郎は絵の道に暗いから、あんな大きな額が、どのくらいな速度で仕上げられるものか、ほとんど想像のほかにあったが、美禰子から注意されてみると、あまり早くできすぎているように思われる。\n",
      "\n",
      " 5957: 　三四郎は突然として、はじめて池の周囲で美禰子に会った暑い昔を思い出した。\n",
      "\n",
      " 5967: この車が三四郎の目にはいった時から、車の上の若い紳士は美禰子の方を見つめているらしく思われた。\n",
      " 5974: 「そう、ありがとう」と美禰子も笑って、男の顔を見返したが、その目をすぐ三四郎の方へ向けた。\n",
      "\n",
      " 6739: 三四郎はしばらく我慢していたが、とうとう焦れったくなって、与次郎に、美禰子に関するすべての事実を隠さずに話してくれと請求した。\n",
      " 6930: 三四郎はともかくもして、美禰子の出てくるのを待つつもりである。\n",
      "\n",
      " 6976: 　美禰子はちょっと三四郎の顔を見たが、そのまま逆らわずに、紙包みを受け取った。\n",
      " 7011: 三四郎と美禰子はかようにして別れた。\n"
     ]
    }
   ],
   "source": [
    "# 共起語を指定する\n",
    "lookup_words = [\"三四郎\", \"美禰子\"]\n",
    "\n",
    "# 指定した共起語のインデックスを求める\n",
    "idxs = list(map(lambda x: words_lookup[x], lookup_words))\n",
    "\n",
    "# 指定した共起を含む文のリストを出力する\n",
    "for i in find_sentence_by_cooccurrence(X, idxs):\n",
    "    print(f\"{i:>5d}: {sents_orig[i]}\")"
   ]
  },
  {
   "cell_type": "markdown",
   "id": "3cae73d3",
   "metadata": {},
   "source": [
    "### 係り受け解析"
   ]
  },
  {
   "cell_type": "markdown",
   "id": "752ef5ca",
   "metadata": {},
   "source": [
    "単語間の関係には、共起の他に係り受けがあります。係り受けとは単語の修飾関係を指します。"
   ]
  },
  {
   "cell_type": "code",
   "execution_count": 68,
   "id": "88593697",
   "metadata": {},
   "outputs": [],
   "source": [
    "import pandas as pd\n",
    "\n",
    "# pandasの設定\n",
    "\n",
    "pd.set_option(\"display.unicode.east_asian_width\", True)\n",
    "pd.set_option(\"display.max_columns\", None)\n",
    "pd.set_option(\"display.width\", None)"
   ]
  },
  {
   "cell_type": "code",
   "execution_count": 69,
   "id": "0f8f2091",
   "metadata": {},
   "outputs": [],
   "source": [
    "# 入力文の指定と解析\n",
    "\n",
    "text = \"昨日の天気は雨でした。晴れてほしかった。\"\n",
    "doc = nlp(text)"
   ]
  },
  {
   "cell_type": "code",
   "execution_count": 70,
   "id": "9543f75d",
   "metadata": {},
   "outputs": [
    {
     "name": "stdout",
     "output_type": "stream",
     "text": [
      "    text lemma_  pos_                   tag_  dep_               children\n",
      "    昨日   昨日  NOUN 名詞-普通名詞-副詞可能  nmod                   [の]\n",
      "      の     の   ADP            助詞-格助詞  case                     []\n",
      "    天気   天気  NOUN     名詞-普通名詞-一般 nsubj             [昨日, は]\n",
      "      は     は   ADP            助詞-係助詞  case                     []\n",
      "      雨     雨  NOUN     名詞-普通名詞-一般  ROOT   [天気, でし, た, 。]\n",
      "    でし   です   AUX                 助動詞   cop                     []\n",
      "      た     た   AUX                 助動詞   aux                     []\n",
      "      。     。 PUNCT          補助記号-句点 punct                     []\n",
      "    晴れ 晴れる  VERB              動詞-一般  ROOT [て, ほしかっ, た, 。]\n",
      "      て     て SCONJ          助詞-接続助詞  mark                     []\n",
      "ほしかっ ほしい   ADJ      形容詞-非自立可能   aux                     []\n",
      "      た     た   AUX                 助動詞   aux                     []\n",
      "      。     。 PUNCT          補助記号-句点 punct                     []\n"
     ]
    }
   ],
   "source": [
    "# 解析結果をpandasのDataFrameに変換\n",
    "\n",
    "df = pd.DataFrame({\n",
    "    \"text\": token.text,\n",
    "    \"lemma_\": token.lemma_,\n",
    "    \"pos_\": token.pos_,\n",
    "    \"tag_\": token.tag_,\n",
    "    \"dep_\": token.dep_,\n",
    "    \"children\": list(token.children)\n",
    "} for token in doc)\n",
    "\n",
    "print(df.to_string(index=False))"
   ]
  },
  {
   "cell_type": "code",
   "execution_count": 75,
   "id": "fbcaf8c2",
   "metadata": {},
   "outputs": [
    {
     "data": {
      "text/html": [
       "<span class=\"tex2jax_ignore\"><svg xmlns=\"http://www.w3.org/2000/svg\" xmlns:xlink=\"http://www.w3.org/1999/xlink\" xml:lang=\"ja\" id=\"d9fadc8d5df241ed9454077f51266731-0\" class=\"displacy\" width=\"1975\" height=\"399.5\" direction=\"ltr\" style=\"max-width: none; height: 399.5px; color: #000000; background: #ffffff; font-family: Arial; direction: ltr\">\n",
       "<text class=\"displacy-token\" fill=\"currentColor\" text-anchor=\"middle\" y=\"309.5\">\n",
       "    <tspan class=\"displacy-word\" fill=\"currentColor\" x=\"50\">昨日</tspan>\n",
       "    <tspan class=\"displacy-tag\" dy=\"2em\" fill=\"currentColor\" x=\"50\">NOUN</tspan>\n",
       "</text>\n",
       "\n",
       "<text class=\"displacy-token\" fill=\"currentColor\" text-anchor=\"middle\" y=\"309.5\">\n",
       "    <tspan class=\"displacy-word\" fill=\"currentColor\" x=\"225\">の</tspan>\n",
       "    <tspan class=\"displacy-tag\" dy=\"2em\" fill=\"currentColor\" x=\"225\">ADP</tspan>\n",
       "</text>\n",
       "\n",
       "<text class=\"displacy-token\" fill=\"currentColor\" text-anchor=\"middle\" y=\"309.5\">\n",
       "    <tspan class=\"displacy-word\" fill=\"currentColor\" x=\"400\">天気</tspan>\n",
       "    <tspan class=\"displacy-tag\" dy=\"2em\" fill=\"currentColor\" x=\"400\">NOUN</tspan>\n",
       "</text>\n",
       "\n",
       "<text class=\"displacy-token\" fill=\"currentColor\" text-anchor=\"middle\" y=\"309.5\">\n",
       "    <tspan class=\"displacy-word\" fill=\"currentColor\" x=\"575\">は</tspan>\n",
       "    <tspan class=\"displacy-tag\" dy=\"2em\" fill=\"currentColor\" x=\"575\">ADP</tspan>\n",
       "</text>\n",
       "\n",
       "<text class=\"displacy-token\" fill=\"currentColor\" text-anchor=\"middle\" y=\"309.5\">\n",
       "    <tspan class=\"displacy-word\" fill=\"currentColor\" x=\"750\">雨</tspan>\n",
       "    <tspan class=\"displacy-tag\" dy=\"2em\" fill=\"currentColor\" x=\"750\">NOUN</tspan>\n",
       "</text>\n",
       "\n",
       "<text class=\"displacy-token\" fill=\"currentColor\" text-anchor=\"middle\" y=\"309.5\">\n",
       "    <tspan class=\"displacy-word\" fill=\"currentColor\" x=\"925\">でし</tspan>\n",
       "    <tspan class=\"displacy-tag\" dy=\"2em\" fill=\"currentColor\" x=\"925\">AUX</tspan>\n",
       "</text>\n",
       "\n",
       "<text class=\"displacy-token\" fill=\"currentColor\" text-anchor=\"middle\" y=\"309.5\">\n",
       "    <tspan class=\"displacy-word\" fill=\"currentColor\" x=\"1100\">た。</tspan>\n",
       "    <tspan class=\"displacy-tag\" dy=\"2em\" fill=\"currentColor\" x=\"1100\">AUX</tspan>\n",
       "</text>\n",
       "\n",
       "<text class=\"displacy-token\" fill=\"currentColor\" text-anchor=\"middle\" y=\"309.5\">\n",
       "    <tspan class=\"displacy-word\" fill=\"currentColor\" x=\"1275\">晴れ</tspan>\n",
       "    <tspan class=\"displacy-tag\" dy=\"2em\" fill=\"currentColor\" x=\"1275\">VERB</tspan>\n",
       "</text>\n",
       "\n",
       "<text class=\"displacy-token\" fill=\"currentColor\" text-anchor=\"middle\" y=\"309.5\">\n",
       "    <tspan class=\"displacy-word\" fill=\"currentColor\" x=\"1450\">て</tspan>\n",
       "    <tspan class=\"displacy-tag\" dy=\"2em\" fill=\"currentColor\" x=\"1450\">SCONJ</tspan>\n",
       "</text>\n",
       "\n",
       "<text class=\"displacy-token\" fill=\"currentColor\" text-anchor=\"middle\" y=\"309.5\">\n",
       "    <tspan class=\"displacy-word\" fill=\"currentColor\" x=\"1625\">ほしかっ</tspan>\n",
       "    <tspan class=\"displacy-tag\" dy=\"2em\" fill=\"currentColor\" x=\"1625\">ADJ</tspan>\n",
       "</text>\n",
       "\n",
       "<text class=\"displacy-token\" fill=\"currentColor\" text-anchor=\"middle\" y=\"309.5\">\n",
       "    <tspan class=\"displacy-word\" fill=\"currentColor\" x=\"1800\">た。</tspan>\n",
       "    <tspan class=\"displacy-tag\" dy=\"2em\" fill=\"currentColor\" x=\"1800\">AUX</tspan>\n",
       "</text>\n",
       "\n",
       "<g class=\"displacy-arrow\">\n",
       "    <path class=\"displacy-arc\" id=\"arrow-d9fadc8d5df241ed9454077f51266731-0-0\" stroke-width=\"2px\" d=\"M70,264.5 C70,89.5 395.0,89.5 395.0,264.5\" fill=\"none\" stroke=\"currentColor\"/>\n",
       "    <text dy=\"1.25em\" style=\"font-size: 0.8em; letter-spacing: 1px\">\n",
       "        <textPath xlink:href=\"#arrow-d9fadc8d5df241ed9454077f51266731-0-0\" class=\"displacy-label\" startOffset=\"50%\" side=\"left\" fill=\"currentColor\" text-anchor=\"middle\">nmod</textPath>\n",
       "    </text>\n",
       "    <path class=\"displacy-arrowhead\" d=\"M70,266.5 L62,254.5 78,254.5\" fill=\"currentColor\"/>\n",
       "</g>\n",
       "\n",
       "<g class=\"displacy-arrow\">\n",
       "    <path class=\"displacy-arc\" id=\"arrow-d9fadc8d5df241ed9454077f51266731-0-1\" stroke-width=\"2px\" d=\"M70,264.5 C70,177.0 215.0,177.0 215.0,264.5\" fill=\"none\" stroke=\"currentColor\"/>\n",
       "    <text dy=\"1.25em\" style=\"font-size: 0.8em; letter-spacing: 1px\">\n",
       "        <textPath xlink:href=\"#arrow-d9fadc8d5df241ed9454077f51266731-0-1\" class=\"displacy-label\" startOffset=\"50%\" side=\"left\" fill=\"currentColor\" text-anchor=\"middle\">case</textPath>\n",
       "    </text>\n",
       "    <path class=\"displacy-arrowhead\" d=\"M215.0,266.5 L223.0,254.5 207.0,254.5\" fill=\"currentColor\"/>\n",
       "</g>\n",
       "\n",
       "<g class=\"displacy-arrow\">\n",
       "    <path class=\"displacy-arc\" id=\"arrow-d9fadc8d5df241ed9454077f51266731-0-2\" stroke-width=\"2px\" d=\"M420,264.5 C420,89.5 745.0,89.5 745.0,264.5\" fill=\"none\" stroke=\"currentColor\"/>\n",
       "    <text dy=\"1.25em\" style=\"font-size: 0.8em; letter-spacing: 1px\">\n",
       "        <textPath xlink:href=\"#arrow-d9fadc8d5df241ed9454077f51266731-0-2\" class=\"displacy-label\" startOffset=\"50%\" side=\"left\" fill=\"currentColor\" text-anchor=\"middle\">nsubj</textPath>\n",
       "    </text>\n",
       "    <path class=\"displacy-arrowhead\" d=\"M420,266.5 L412,254.5 428,254.5\" fill=\"currentColor\"/>\n",
       "</g>\n",
       "\n",
       "<g class=\"displacy-arrow\">\n",
       "    <path class=\"displacy-arc\" id=\"arrow-d9fadc8d5df241ed9454077f51266731-0-3\" stroke-width=\"2px\" d=\"M420,264.5 C420,177.0 565.0,177.0 565.0,264.5\" fill=\"none\" stroke=\"currentColor\"/>\n",
       "    <text dy=\"1.25em\" style=\"font-size: 0.8em; letter-spacing: 1px\">\n",
       "        <textPath xlink:href=\"#arrow-d9fadc8d5df241ed9454077f51266731-0-3\" class=\"displacy-label\" startOffset=\"50%\" side=\"left\" fill=\"currentColor\" text-anchor=\"middle\">case</textPath>\n",
       "    </text>\n",
       "    <path class=\"displacy-arrowhead\" d=\"M565.0,266.5 L573.0,254.5 557.0,254.5\" fill=\"currentColor\"/>\n",
       "</g>\n",
       "\n",
       "<g class=\"displacy-arrow\">\n",
       "    <path class=\"displacy-arc\" id=\"arrow-d9fadc8d5df241ed9454077f51266731-0-4\" stroke-width=\"2px\" d=\"M770,264.5 C770,177.0 915.0,177.0 915.0,264.5\" fill=\"none\" stroke=\"currentColor\"/>\n",
       "    <text dy=\"1.25em\" style=\"font-size: 0.8em; letter-spacing: 1px\">\n",
       "        <textPath xlink:href=\"#arrow-d9fadc8d5df241ed9454077f51266731-0-4\" class=\"displacy-label\" startOffset=\"50%\" side=\"left\" fill=\"currentColor\" text-anchor=\"middle\">cop</textPath>\n",
       "    </text>\n",
       "    <path class=\"displacy-arrowhead\" d=\"M915.0,266.5 L923.0,254.5 907.0,254.5\" fill=\"currentColor\"/>\n",
       "</g>\n",
       "\n",
       "<g class=\"displacy-arrow\">\n",
       "    <path class=\"displacy-arc\" id=\"arrow-d9fadc8d5df241ed9454077f51266731-0-5\" stroke-width=\"2px\" d=\"M770,264.5 C770,89.5 1095.0,89.5 1095.0,264.5\" fill=\"none\" stroke=\"currentColor\"/>\n",
       "    <text dy=\"1.25em\" style=\"font-size: 0.8em; letter-spacing: 1px\">\n",
       "        <textPath xlink:href=\"#arrow-d9fadc8d5df241ed9454077f51266731-0-5\" class=\"displacy-label\" startOffset=\"50%\" side=\"left\" fill=\"currentColor\" text-anchor=\"middle\">aux</textPath>\n",
       "    </text>\n",
       "    <path class=\"displacy-arrowhead\" d=\"M1095.0,266.5 L1103.0,254.5 1087.0,254.5\" fill=\"currentColor\"/>\n",
       "</g>\n",
       "\n",
       "<g class=\"displacy-arrow\">\n",
       "    <path class=\"displacy-arc\" id=\"arrow-d9fadc8d5df241ed9454077f51266731-0-6\" stroke-width=\"2px\" d=\"M1295,264.5 C1295,177.0 1440.0,177.0 1440.0,264.5\" fill=\"none\" stroke=\"currentColor\"/>\n",
       "    <text dy=\"1.25em\" style=\"font-size: 0.8em; letter-spacing: 1px\">\n",
       "        <textPath xlink:href=\"#arrow-d9fadc8d5df241ed9454077f51266731-0-6\" class=\"displacy-label\" startOffset=\"50%\" side=\"left\" fill=\"currentColor\" text-anchor=\"middle\">mark</textPath>\n",
       "    </text>\n",
       "    <path class=\"displacy-arrowhead\" d=\"M1440.0,266.5 L1448.0,254.5 1432.0,254.5\" fill=\"currentColor\"/>\n",
       "</g>\n",
       "\n",
       "<g class=\"displacy-arrow\">\n",
       "    <path class=\"displacy-arc\" id=\"arrow-d9fadc8d5df241ed9454077f51266731-0-7\" stroke-width=\"2px\" d=\"M1295,264.5 C1295,89.5 1620.0,89.5 1620.0,264.5\" fill=\"none\" stroke=\"currentColor\"/>\n",
       "    <text dy=\"1.25em\" style=\"font-size: 0.8em; letter-spacing: 1px\">\n",
       "        <textPath xlink:href=\"#arrow-d9fadc8d5df241ed9454077f51266731-0-7\" class=\"displacy-label\" startOffset=\"50%\" side=\"left\" fill=\"currentColor\" text-anchor=\"middle\">aux</textPath>\n",
       "    </text>\n",
       "    <path class=\"displacy-arrowhead\" d=\"M1620.0,266.5 L1628.0,254.5 1612.0,254.5\" fill=\"currentColor\"/>\n",
       "</g>\n",
       "\n",
       "<g class=\"displacy-arrow\">\n",
       "    <path class=\"displacy-arc\" id=\"arrow-d9fadc8d5df241ed9454077f51266731-0-8\" stroke-width=\"2px\" d=\"M1295,264.5 C1295,2.0 1800.0,2.0 1800.0,264.5\" fill=\"none\" stroke=\"currentColor\"/>\n",
       "    <text dy=\"1.25em\" style=\"font-size: 0.8em; letter-spacing: 1px\">\n",
       "        <textPath xlink:href=\"#arrow-d9fadc8d5df241ed9454077f51266731-0-8\" class=\"displacy-label\" startOffset=\"50%\" side=\"left\" fill=\"currentColor\" text-anchor=\"middle\">aux</textPath>\n",
       "    </text>\n",
       "    <path class=\"displacy-arrowhead\" d=\"M1800.0,266.5 L1808.0,254.5 1792.0,254.5\" fill=\"currentColor\"/>\n",
       "</g>\n",
       "</svg></span>"
      ],
      "text/plain": [
       "<IPython.core.display.HTML object>"
      ]
     },
     "metadata": {},
     "output_type": "display_data"
    }
   ],
   "source": [
    "# 係り受け関係を可視化する\n",
    "\n",
    "spacy.displacy.render(doc, style=\"dep\")"
   ]
  },
  {
   "cell_type": "markdown",
   "id": "db4eea2c",
   "metadata": {},
   "source": [
    "### 英語の分析"
   ]
  },
  {
   "cell_type": "code",
   "execution_count": 8,
   "id": "a1e1dc8a",
   "metadata": {},
   "outputs": [
    {
     "name": "stdout",
     "output_type": "stream",
     "text": [
      "Collecting en_core_web_sm==2.3.1\n",
      "  Using cached en_core_web_sm-2.3.1-py3-none-any.whl\n",
      "Requirement already satisfied: spacy<2.4.0,>=2.3.0 in /Users/shu/.virtualenvs/datatools/lib/python3.10/site-packages (from en_core_web_sm==2.3.1) (2.3.8)\n",
      "Requirement already satisfied: wasabi<1.1.0,>=0.4.0 in /Users/shu/.virtualenvs/datatools/lib/python3.10/site-packages (from spacy<2.4.0,>=2.3.0->en_core_web_sm==2.3.1) (0.10.1)\n",
      "Requirement already satisfied: tqdm<5.0.0,>=4.38.0 in /Users/shu/.virtualenvs/datatools/lib/python3.10/site-packages (from spacy<2.4.0,>=2.3.0->en_core_web_sm==2.3.1) (4.64.1)\n",
      "Requirement already satisfied: cymem<2.1.0,>=2.0.2 in /Users/shu/.virtualenvs/datatools/lib/python3.10/site-packages (from spacy<2.4.0,>=2.3.0->en_core_web_sm==2.3.1) (2.0.7)\n",
      "Requirement already satisfied: srsly<1.1.0,>=1.0.2 in /Users/shu/.virtualenvs/datatools/lib/python3.10/site-packages (from spacy<2.4.0,>=2.3.0->en_core_web_sm==2.3.1) (1.0.6)\n",
      "Requirement already satisfied: numpy>=1.15.0 in /Users/shu/.virtualenvs/datatools/lib/python3.10/site-packages (from spacy<2.4.0,>=2.3.0->en_core_web_sm==2.3.1) (1.23.3)\n",
      "Requirement already satisfied: plac<1.2.0,>=0.9.6 in /Users/shu/.virtualenvs/datatools/lib/python3.10/site-packages (from spacy<2.4.0,>=2.3.0->en_core_web_sm==2.3.1) (1.1.3)\n",
      "Requirement already satisfied: catalogue<1.1.0,>=0.0.7 in /Users/shu/.virtualenvs/datatools/lib/python3.10/site-packages (from spacy<2.4.0,>=2.3.0->en_core_web_sm==2.3.1) (1.0.2)\n",
      "Requirement already satisfied: requests<3.0.0,>=2.13.0 in /Users/shu/.virtualenvs/datatools/lib/python3.10/site-packages (from spacy<2.4.0,>=2.3.0->en_core_web_sm==2.3.1) (2.28.1)\n",
      "Requirement already satisfied: murmurhash<1.1.0,>=0.28.0 in /Users/shu/.virtualenvs/datatools/lib/python3.10/site-packages (from spacy<2.4.0,>=2.3.0->en_core_web_sm==2.3.1) (1.0.9)\n",
      "Requirement already satisfied: setuptools in /Users/shu/.virtualenvs/datatools/lib/python3.10/site-packages (from spacy<2.4.0,>=2.3.0->en_core_web_sm==2.3.1) (65.3.0)\n",
      "Requirement already satisfied: preshed<3.1.0,>=3.0.2 in /Users/shu/.virtualenvs/datatools/lib/python3.10/site-packages (from spacy<2.4.0,>=2.3.0->en_core_web_sm==2.3.1) (3.0.8)\n",
      "Requirement already satisfied: thinc<7.5.0,>=7.4.1 in /Users/shu/.virtualenvs/datatools/lib/python3.10/site-packages (from spacy<2.4.0,>=2.3.0->en_core_web_sm==2.3.1) (7.4.6)\n",
      "Requirement already satisfied: blis<0.8.0,>=0.4.0 in /Users/shu/.virtualenvs/datatools/lib/python3.10/site-packages (from spacy<2.4.0,>=2.3.0->en_core_web_sm==2.3.1) (0.7.9)\n",
      "Requirement already satisfied: charset-normalizer<3,>=2 in /Users/shu/.virtualenvs/datatools/lib/python3.10/site-packages (from requests<3.0.0,>=2.13.0->spacy<2.4.0,>=2.3.0->en_core_web_sm==2.3.1) (2.1.1)\n",
      "Requirement already satisfied: urllib3<1.27,>=1.21.1 in /Users/shu/.virtualenvs/datatools/lib/python3.10/site-packages (from requests<3.0.0,>=2.13.0->spacy<2.4.0,>=2.3.0->en_core_web_sm==2.3.1) (1.26.12)\n",
      "Requirement already satisfied: idna<4,>=2.5 in /Users/shu/.virtualenvs/datatools/lib/python3.10/site-packages (from requests<3.0.0,>=2.13.0->spacy<2.4.0,>=2.3.0->en_core_web_sm==2.3.1) (3.4)\n",
      "Requirement already satisfied: certifi>=2017.4.17 in /Users/shu/.virtualenvs/datatools/lib/python3.10/site-packages (from requests<3.0.0,>=2.13.0->spacy<2.4.0,>=2.3.0->en_core_web_sm==2.3.1) (2022.9.24)\n",
      "\n",
      "\u001b[1m[\u001b[0m\u001b[34;49mnotice\u001b[0m\u001b[1;39;49m]\u001b[0m\u001b[39;49m A new release of pip available: \u001b[0m\u001b[31;49m22.3\u001b[0m\u001b[39;49m -> \u001b[0m\u001b[32;49m22.3.1\u001b[0m\n",
      "\u001b[1m[\u001b[0m\u001b[34;49mnotice\u001b[0m\u001b[1;39;49m]\u001b[0m\u001b[39;49m To update, run: \u001b[0m\u001b[32;49mpip install --upgrade pip\u001b[0m\n",
      "\u001b[38;5;2m✔ Download and installation successful\u001b[0m\n",
      "You can now load the model via spacy.load('en_core_web_sm')\n"
     ]
    }
   ],
   "source": [
    "!python -m spacy download en_core_web_sm"
   ]
  },
  {
   "cell_type": "code",
   "execution_count": 4,
   "id": "420f5197",
   "metadata": {},
   "outputs": [
    {
     "name": "stdout",
     "output_type": "stream",
     "text": [
      "This\n",
      "is\n",
      "a\n",
      "sentence\n",
      ".\n"
     ]
    }
   ],
   "source": [
    "# 英語のモデルをロードする\n",
    "nlp = spacy.load('en_core_web_sm')\n",
    "text = \"This is a sentence.\"\n",
    "doc = nlp(text)\n",
    "for token in doc:\n",
    "    print(token)"
   ]
  },
  {
   "cell_type": "markdown",
   "id": "83332c67",
   "metadata": {},
   "source": [
    "## テキストデータの可視化"
   ]
  },
  {
   "cell_type": "markdown",
   "id": "b152e15c",
   "metadata": {},
   "source": [
    "### ワードクラウド"
   ]
  },
  {
   "cell_type": "markdown",
   "id": "52b9e8fb",
   "metadata": {},
   "source": [
    "形態素解析で得られた頻出単語の頻出度合いを文字の大きさで可視化する手法が、ワードクラウドです。頻度の高い単語を大きく表示することで、テキスト全体の傾向を素早く理解することができます。"
   ]
  },
  {
   "cell_type": "code",
   "execution_count": 6,
   "id": "04f22e4e",
   "metadata": {},
   "outputs": [
    {
     "name": "stdout",
     "output_type": "stream",
     "text": [
      "Collecting wordcloud\n",
      "  Downloading wordcloud-1.8.2.2.tar.gz (220 kB)\n",
      "\u001b[2K     \u001b[38;2;114;156;31m━━━━━━━━━━━━━━━━━━━━━━━━━━━━━━━━━━━━━━━\u001b[0m \u001b[32m220.8/220.8 kB\u001b[0m \u001b[31m3.2 MB/s\u001b[0m eta \u001b[36m0:00:00\u001b[0m[31m6.0 MB/s\u001b[0m eta \u001b[36m0:00:01\u001b[0m\n",
      "\u001b[?25h  Preparing metadata (setup.py) ... \u001b[?25ldone\n",
      "\u001b[?25hRequirement already satisfied: numpy>=1.6.1 in /Users/shu/.virtualenvs/datatools/lib/python3.10/site-packages (from wordcloud) (1.23.3)\n",
      "Requirement already satisfied: pillow in /Users/shu/.virtualenvs/datatools/lib/python3.10/site-packages (from wordcloud) (9.2.0)\n",
      "Requirement already satisfied: matplotlib in /Users/shu/.virtualenvs/datatools/lib/python3.10/site-packages (from wordcloud) (3.6.1)\n",
      "Requirement already satisfied: contourpy>=1.0.1 in /Users/shu/.virtualenvs/datatools/lib/python3.10/site-packages (from matplotlib->wordcloud) (1.0.5)\n",
      "Requirement already satisfied: cycler>=0.10 in /Users/shu/.virtualenvs/datatools/lib/python3.10/site-packages (from matplotlib->wordcloud) (0.11.0)\n",
      "Requirement already satisfied: python-dateutil>=2.7 in /Users/shu/.virtualenvs/datatools/lib/python3.10/site-packages (from matplotlib->wordcloud) (2.8.2)\n",
      "Requirement already satisfied: pyparsing>=2.2.1 in /Users/shu/.virtualenvs/datatools/lib/python3.10/site-packages (from matplotlib->wordcloud) (3.0.9)\n",
      "Requirement already satisfied: fonttools>=4.22.0 in /Users/shu/.virtualenvs/datatools/lib/python3.10/site-packages (from matplotlib->wordcloud) (4.37.4)\n",
      "Requirement already satisfied: kiwisolver>=1.0.1 in /Users/shu/.virtualenvs/datatools/lib/python3.10/site-packages (from matplotlib->wordcloud) (1.4.4)\n",
      "Requirement already satisfied: packaging>=20.0 in /Users/shu/.virtualenvs/datatools/lib/python3.10/site-packages (from matplotlib->wordcloud) (21.3)\n",
      "Requirement already satisfied: six>=1.5 in /Users/shu/.virtualenvs/datatools/lib/python3.10/site-packages (from python-dateutil>=2.7->matplotlib->wordcloud) (1.16.0)\n",
      "Building wheels for collected packages: wordcloud\n",
      "  Building wheel for wordcloud (setup.py) ... \u001b[?25ldone\n",
      "\u001b[?25h  Created wheel for wordcloud: filename=wordcloud-1.8.2.2-cp310-cp310-macosx_12_0_arm64.whl size=154662 sha256=20341a3051038db3399deea9c17c7eb3734a78204365bf99c45131514badce28\n",
      "  Stored in directory: /Users/shu/Library/Caches/pip/wheels/9b/fe/91/c3a2166a21f3f9515fa4660b498a9f69223847a8323f58556b\n",
      "Successfully built wordcloud\n",
      "Installing collected packages: wordcloud\n",
      "Successfully installed wordcloud-1.8.2.2\n",
      "\n",
      "\u001b[1m[\u001b[0m\u001b[34;49mnotice\u001b[0m\u001b[1;39;49m]\u001b[0m\u001b[39;49m A new release of pip available: \u001b[0m\u001b[31;49m22.3\u001b[0m\u001b[39;49m -> \u001b[0m\u001b[32;49m22.3.1\u001b[0m\n",
      "\u001b[1m[\u001b[0m\u001b[34;49mnotice\u001b[0m\u001b[1;39;49m]\u001b[0m\u001b[39;49m To update, run: \u001b[0m\u001b[32;49mpip install --upgrade pip\u001b[0m\n"
     ]
    }
   ],
   "source": [
    "!pip install wordcloud"
   ]
  },
  {
   "cell_type": "code",
   "execution_count": 24,
   "id": "e9aeaa26",
   "metadata": {},
   "outputs": [],
   "source": [
    "import matplotlib.pyplot as plt\n",
    "from wordcloud import WordCloud\n",
    "\n",
    "# 分析対象とする品詞と不要語を指定する\n",
    "include_pos = (\"NOUN\", \"VERB\", \"ADJ\", \"PROPN\")\n",
    "stopwords = (\"する\", \"ある\", \"ない\", \"いう\", \"もの\", \"こと\", \"よう\", \"なる\", \"ほう\", \"いる\", \"くる\")\n",
    "\n",
    "# 解析器の初期化\n",
    "nlp = spacy.load(\"ja_ginza\")\n",
    "\n",
    "# ファイルの読み込みと形態素解析\n",
    "input_fn = \"text/sanshiro.corpus.txt\"\n",
    "words = []\n",
    "with open(input_fn, \"r\") as f:\n",
    "    for line in f:\n",
    "        doc = nlp(line)\n",
    "        tmp = [token.lemma_ for token in doc if token.pos_ in include_pos and token.lemma_ not in stopwords]\n",
    "        words.extend(tmp)"
   ]
  },
  {
   "cell_type": "code",
   "execution_count": 25,
   "id": "d98a1286",
   "metadata": {},
   "outputs": [
    {
     "data": {
      "image/png": "[encoded data removed]",
      "text/plain": [
       "<Figure size 800x400 with 1 Axes>"
      ]
     },
     "metadata": {},
     "output_type": "display_data"
    }
   ],
   "source": [
    "# ワードクラウドの表示設定と作成\n",
    "wordcloud = WordCloud(\n",
    "    background_color=\"white\", max_font_size=100\n",
    ").generate(' '.join(words))\n",
    "\n",
    "# プロット\n",
    "plt.figure(figsize=(8, 4))\n",
    "plt.imshow(wordcloud, interpolation=\"bilinear\")\n",
    "plt.axis(\"off\")\n",
    "plt.tight_layout(pad=0)\n",
    "plt.show()"
   ]
  },
  {
   "cell_type": "markdown",
   "id": "58d2909c",
   "metadata": {},
   "source": [
    "### 共起ネットワーク"
   ]
  },
  {
   "cell_type": "markdown",
   "id": "28da92e0",
   "metadata": {},
   "source": [
    "### 共起マトリックス"
   ]
  }
 ],
 "metadata": {
  "kernelspec": {
   "display_name": "Python 3 (ipykernel)",
   "language": "python",
   "name": "python3"
  },
  "language_info": {
   "codemirror_mode": {
    "name": "ipython",
    "version": 3
   },
   "file_extension": ".py",
   "mimetype": "text/x-python",
   "name": "python",
   "nbconvert_exporter": "python",
   "pygments_lexer": "ipython3",
   "version": "3.10.0"
  }
 },
 "nbformat": 4,
 "nbformat_minor": 5
}
