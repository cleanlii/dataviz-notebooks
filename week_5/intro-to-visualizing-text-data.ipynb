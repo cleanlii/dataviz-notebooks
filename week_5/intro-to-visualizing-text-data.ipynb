{
 "cells": [
  {
   "cell_type": "markdown",
   "id": "523005b4",
   "metadata": {},
   "source": [
    "# テキストデータの可視化\n",
    "\n",
    "[![Open In Colab](https://colab.research.google.com/assets/colab-badge.svg)](https://colab.research.google.com/github/shinchu/dataviz-notebooks/blob/main/week_5/intro-to-visualizing-text-data.ipynb)"
   ]
  },
  {
   "cell_type": "markdown",
   "id": "4748ec8f",
   "metadata": {},
   "source": [
    "今回は、[青空文庫](https://www.aozora.gr.jp/)に収録されている、夏目漱石の[『三四郎』](https://www.aozora.gr.jp/cards/000148/card794.html)という作品を使って、テキストデータの可視化を練習します。"
   ]
  },
  {
   "cell_type": "markdown",
   "id": "7bb744af",
   "metadata": {},
   "source": [
    "## 基礎的な解析"
   ]
  },
  {
   "cell_type": "code",
   "execution_count": null,
   "id": "944becfc",
   "metadata": {},
   "outputs": [],
   "source": [
    "# ライブラリのインストール\n",
    "\n",
    "!pip install ginza==4.0.6 ja-ginza==4.0.0\n",
    "!pip install sklearn pandas"
   ]
  },
  {
   "cell_type": "markdown",
   "id": "f1a55698",
   "metadata": {},
   "source": [
    "### 形態素解析"
   ]
  },
  {
   "cell_type": "markdown",
   "id": "3cae73d3",
   "metadata": {},
   "source": [
    "### 係り受け解析"
   ]
  },
  {
   "cell_type": "markdown",
   "id": "7c50bc9b",
   "metadata": {},
   "source": [
    "### 分類"
   ]
  },
  {
   "cell_type": "markdown",
   "id": "31a763cb",
   "metadata": {},
   "source": [
    "### クラスタリング"
   ]
  },
  {
   "cell_type": "markdown",
   "id": "83332c67",
   "metadata": {},
   "source": [
    "## 可視化"
   ]
  }
 ],
 "metadata": {
  "kernelspec": {
   "display_name": "Python 3 (ipykernel)",
   "language": "python",
   "name": "python3"
  },
  "language_info": {
   "codemirror_mode": {
    "name": "ipython",
    "version": 3
   },
   "file_extension": ".py",
   "mimetype": "text/x-python",
   "name": "python",
   "nbconvert_exporter": "python",
   "pygments_lexer": "ipython3",
   "version": "3.10.0"
  }
 },
 "nbformat": 4,
 "nbformat_minor": 5
}
