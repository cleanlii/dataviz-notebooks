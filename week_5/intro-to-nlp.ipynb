{
 "cells": [
  {
   "cell_type": "markdown",
   "id": "6ec2cdd5",
   "metadata": {},
   "source": [
    "# 自然言語処理入門\n",
    "\n",
    "[![Open In Colab](https://colab.research.google.com/assets/colab-badge.svg)](https://colab.research.google.com/github/shinchu/dataviz-notebooks/blob/main/week_5/intro-to-nlp.ipynb)"
   ]
  },
  {
   "cell_type": "markdown",
   "id": "6601ec32",
   "metadata": {},
   "source": [
    "テキストデータの処理と分析の基礎である自然言語処理を概観しましょう。\n",
    "\n",
    "ここでは、簡単な例から自然言語処理の考え方を学びます。"
   ]
  },
  {
   "cell_type": "markdown",
   "id": "2066d40e",
   "metadata": {},
   "source": [
    "## 自然言語処理とは"
   ]
  },
  {
   "cell_type": "markdown",
   "id": "88193a7f",
   "metadata": {},
   "source": [
    "日本語や英語など、私たちが普段使っている言葉を自然言語（Natural Language）と言います。自然言語処理（Natural Language Processing）とは、自然言語を処理する分野です。\n",
    "\n",
    "自然言語処理の目標は、人の話す言葉をコンピュータに理解させ、私たちにとって役に立つことをコンピュータに行わせることです。"
   ]
  },
  {
   "cell_type": "markdown",
   "id": "82428cfe",
   "metadata": {},
   "source": [
    "私たちの言葉は「文字」によって表現することができます。そして、言葉の意味は「単語」（正確には形態素）によって構成されます。そのため、自然言語をコンピュータに理解させるためには、「単語の意味」を理解させることが重要です。"
   ]
  },
  {
   "cell_type": "markdown",
   "id": "787d4c5d",
   "metadata": {},
   "source": [
    "ここでは、統計情報から単語の意味を表現する手法を学びます。"
   ]
  },
  {
   "cell_type": "markdown",
   "id": "f6ad6247",
   "metadata": {},
   "source": [
    "## カウントベースの手法"
   ]
  },
  {
   "cell_type": "markdown",
   "id": "33bfaab9",
   "metadata": {},
   "source": [
    "自然言語処理の研究や応用のために目的をもって収集されたテキストデータを「コーパス」と呼びます。WikipediaやGoogle Newsなどのテキストデータや、シェイクスピアや夏目漱石などの作品群もコーパスです。\n",
    "\n",
    "コーパスはテキストデータであり、そこに含まれる文章は人によって書かれたものです。これはつまり、コーパスには自然言語に対する人の知識が含まれているということです。文章の書き方、単語の選び方、単語の意味などがコーパスには含まれています。\n",
    "\n",
    "カウントベースの手法の目標は、人の知識が詰まったコーパスから、自動的に、効率よく、そのエッセンスを抽出することです。"
   ]
  },
  {
   "cell_type": "markdown",
   "id": "a28dd205",
   "metadata": {},
   "source": [
    "## 簡単なコーパスの前処理"
   ]
  },
  {
   "cell_type": "markdown",
   "id": "8b75ab17",
   "metadata": {},
   "source": [
    "テキストデータを単語に分割し、分割した単語を単語IDのリストへ変換することで、データの前処理を行いましょう。"
   ]
  },
  {
   "cell_type": "code",
   "execution_count": 3,
   "id": "527deca5",
   "metadata": {},
   "outputs": [],
   "source": [
    "text = \"You say goodbye and I say hello.\""
   ]
  },
  {
   "cell_type": "code",
   "execution_count": 5,
   "id": "f048a955",
   "metadata": {},
   "outputs": [
    {
     "data": {
      "text/plain": [
       "'you say goodbye and i say hello.'"
      ]
     },
     "execution_count": 5,
     "metadata": {},
     "output_type": "execute_result"
    }
   ],
   "source": [
    "# 小文字に変換\n",
    "text = text.lower()\n",
    "text"
   ]
  },
  {
   "cell_type": "code",
   "execution_count": 6,
   "id": "d6a638cf",
   "metadata": {},
   "outputs": [
    {
     "data": {
      "text/plain": [
       "'you say goodbye and i say hello .'"
      ]
     },
     "execution_count": 6,
     "metadata": {},
     "output_type": "execute_result"
    }
   ],
   "source": [
    "# 句点の前にスペースを挿入\n",
    "text = text.replace(\".\", \" .\")\n",
    "text"
   ]
  },
  {
   "cell_type": "code",
   "execution_count": 7,
   "id": "2e857600",
   "metadata": {},
   "outputs": [
    {
     "data": {
      "text/plain": [
       "['you', 'say', 'goodbye', 'and', 'i', 'say', 'hello', '.']"
      ]
     },
     "execution_count": 7,
     "metadata": {},
     "output_type": "execute_result"
    }
   ],
   "source": [
    "# 文を単語に分割する\n",
    "words = text.split(' ')\n",
    "words"
   ]
  },
  {
   "cell_type": "code",
   "execution_count": 9,
   "id": "bb3eb175",
   "metadata": {},
   "outputs": [],
   "source": [
    "# 単語のIDと単語の対応表を作る\n",
    "\n",
    "word_to_id = {}\n",
    "id_to_word = {}\n",
    "\n",
    "for word in words:\n",
    "    if word not in word_to_id:\n",
    "        new_id = len(word_to_id)\n",
    "        word_to_id[word] = new_id\n",
    "        id_to_word[new_id] = word"
   ]
  },
  {
   "cell_type": "code",
   "execution_count": 10,
   "id": "9c89bbe2",
   "metadata": {},
   "outputs": [
    {
     "data": {
      "text/plain": [
       "{'you': 0, 'say': 1, 'goodbye': 2, 'and': 3, 'i': 4, 'hello': 5, '.': 6}"
      ]
     },
     "execution_count": 10,
     "metadata": {},
     "output_type": "execute_result"
    }
   ],
   "source": [
    "word_to_id"
   ]
  },
  {
   "cell_type": "code",
   "execution_count": 11,
   "id": "29090d95",
   "metadata": {},
   "outputs": [
    {
     "data": {
      "text/plain": [
       "{0: 'you', 1: 'say', 2: 'goodbye', 3: 'and', 4: 'i', 5: 'hello', 6: '.'}"
      ]
     },
     "execution_count": 11,
     "metadata": {},
     "output_type": "execute_result"
    }
   ],
   "source": [
    "id_to_word"
   ]
  },
  {
   "cell_type": "markdown",
   "id": "ff8d2a13",
   "metadata": {},
   "source": [
    "この2つの辞書を使えば、単語から単語IDの検索と、単語IDから単語の検索ができます。"
   ]
  },
  {
   "cell_type": "code",
   "execution_count": 12,
   "id": "876bd884",
   "metadata": {},
   "outputs": [
    {
     "data": {
      "text/plain": [
       "'goodbye'"
      ]
     },
     "execution_count": 12,
     "metadata": {},
     "output_type": "execute_result"
    }
   ],
   "source": [
    "id_to_word[2]"
   ]
  },
  {
   "cell_type": "code",
   "execution_count": 13,
   "id": "8df6d215",
   "metadata": {},
   "outputs": [
    {
     "data": {
      "text/plain": [
       "4"
      ]
     },
     "execution_count": 13,
     "metadata": {},
     "output_type": "execute_result"
    }
   ],
   "source": [
    "word_to_id[\"i\"]"
   ]
  },
  {
   "cell_type": "markdown",
   "id": "03cf38f4",
   "metadata": {},
   "source": [
    "最後に、単語のリストを単語IDのリストに変換し、NumPy配列に変換します。"
   ]
  },
  {
   "cell_type": "code",
   "execution_count": 14,
   "id": "146a1d52",
   "metadata": {},
   "outputs": [
    {
     "data": {
      "text/plain": [
       "array([0, 1, 2, 3, 4, 1, 5, 6])"
      ]
     },
     "execution_count": 14,
     "metadata": {},
     "output_type": "execute_result"
    }
   ],
   "source": [
    "import numpy as np\n",
    "\n",
    "corpus = [word_to_id[w] for w in words]\n",
    "corpus = np.array(corpus)\n",
    "corpus"
   ]
  },
  {
   "cell_type": "markdown",
   "id": "72ed646a",
   "metadata": {},
   "source": [
    "これでコーパスの前処理は終了です。"
   ]
  },
  {
   "cell_type": "markdown",
   "id": "16dd7f53",
   "metadata": {},
   "source": [
    "## 単語の分散表現\n",
    "\n",
    "\n",
    "次に、コーパスを使って単語の意味を抽出しましょう。具体的には、単語をベクトルで表すことを目指します。これは、自然言語処理の分野では、単語の分散表現と呼ばれます。"
   ]
  },
  {
   "cell_type": "markdown",
   "id": "41437b8d",
   "metadata": {},
   "source": [
    "単語の分散表現に関する手法は、「単語の意味は、周囲の単語によって形成される」というアイデアに基づいています。これは、分布仮説と呼ばれるものです。"
   ]
  },
  {
   "cell_type": "markdown",
   "id": "9a14e5f7",
   "metadata": {},
   "source": [
    "分布仮説では、単語自体には意味がなく、その単語の「コンテキスト（文脈）」によって、単語の意味が形成されると言われています。\n",
    "\n",
    "たしかに、意味的に同じ単語は、同じような文脈で多く出現します。\n",
    "\n",
    "例えば、\n",
    "\n",
    "* I drink beer.\n",
    "* We drink wine.\n",
    "\n",
    "のようにdrinkの近くには飲み物があらわれやすいでしょう。\n",
    "\n",
    "\n",
    "* I guzzle beer.\n",
    "* We guzzle wine.\n",
    "\n",
    "のような文章では、guzzleという単語がdrinkと同じような文脈で使われていることが分かります。そして、guzzleとdrinkが近い意味の単語だということが導けます。"
   ]
  },
  {
   "cell_type": "markdown",
   "id": "6e818d28",
   "metadata": {},
   "source": [
    "## 共起行列"
   ]
  },
  {
   "cell_type": "markdown",
   "id": "4ebded83",
   "metadata": {},
   "source": [
    "分布仮説に基づいて、単語をベクトルで表す方法を考えます。\n",
    "\n",
    "素直な方法は、周囲の単語を数えることです。"
   ]
  },
  {
   "cell_type": "markdown",
   "id": "5fc101a2",
   "metadata": {},
   "source": [
    "さきほど用意したコーパスに含まれるそれぞれの単語について、そのコンテキスト（目当ての単語の周囲）に含まれる単語の頻度を数えていきます。"
   ]
  },
  {
   "cell_type": "code",
   "execution_count": 18,
   "id": "f6b1e1dc",
   "metadata": {},
   "outputs": [
    {
     "data": {
      "text/plain": [
       "array([0, 1, 2, 3, 4, 1, 5, 6])"
      ]
     },
     "execution_count": 18,
     "metadata": {},
     "output_type": "execute_result"
    }
   ],
   "source": [
    "corpus"
   ]
  },
  {
   "cell_type": "code",
   "execution_count": 19,
   "id": "f9d2f87b",
   "metadata": {},
   "outputs": [],
   "source": [
    "C = np.array([\n",
    "    [0, 1, 0, 0, 0, 0, 0],\n",
    "    [1, 0, 1, 0, 1, 1, 0],\n",
    "    [0, 1, 0, 1, 0, 0, 0],\n",
    "    [0, 0, 1, 0, 1, 0, 0],\n",
    "    [0, 1, 0, 1, 0, 0, 0],\n",
    "    [0, 1, 0, 0, 0, 0, 1],\n",
    "    [0, 0, 0, 0, 0, 1, 0],\n",
    "])"
   ]
  },
  {
   "cell_type": "code",
   "execution_count": 20,
   "id": "b93fc90a",
   "metadata": {},
   "outputs": [
    {
     "name": "stdout",
     "output_type": "stream",
     "text": [
      "[0 1 0 0 0 0 0]\n"
     ]
    }
   ],
   "source": [
    "print(C[0])"
   ]
  }
 ],
 "metadata": {
  "kernelspec": {
   "display_name": "Python 3 (ipykernel)",
   "language": "python",
   "name": "python3"
  },
  "language_info": {
   "codemirror_mode": {
    "name": "ipython",
    "version": 3
   },
   "file_extension": ".py",
   "mimetype": "text/x-python",
   "name": "python",
   "nbconvert_exporter": "python",
   "pygments_lexer": "ipython3",
   "version": "3.10.0"
  }
 },
 "nbformat": 4,
 "nbformat_minor": 5
}
