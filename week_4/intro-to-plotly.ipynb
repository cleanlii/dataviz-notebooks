{
 "cells": [
  {
   "cell_type": "markdown",
   "id": "230121a4",
   "metadata": {},
   "source": [
    "# Introduction to Visualizaiton Libraries\n",
    "\n",
    "[![Open In Colab](https://colab.research.google.com/assets/colab-badge.svg)](https://colab.research.google.com/github/shinchu/dataviz-notebooks/blob/main/week_3/intro-to-plotly.ipynb)"
   ]
  },
  {
   "cell_type": "markdown",
   "id": "bc4cf729",
   "metadata": {},
   "source": [
    "## Pythonの主要な可視化ライブラリ\n",
    "\n",
    "* [matplotlib](https://matplotlib.org/): 最も広く使われている。かなり細かいところまで調整できるので、論文に載せる図はこれで作ることが多い。\n",
    "* [seaborn](https://seaborn.pydata.org/): matplotlibのラッパー。matplotlibのデザインをデフォルトでいい感じにしてくれる。細かい調整は内部のmatplotlibにアクセスして行う。\n",
    "* [plotly](https://plotly.com/python/): インタラクティブな図を作ることができる。さっと使う分にはとても便利。\n",
    "* [altair](https://altair-viz.github.io/): 宣言型統計可視化ライブラリ。データと視覚記号の関係を宣言することで図を作ることができる。\n",
    "* ...\n",
    "\n",
    "※ 宣言型（declarative）: 何をするか（what）を書く\n",
    "\n",
    "※ 命令型（imperetive）: どうするか（how）を書く"
   ]
  },
  {
   "cell_type": "markdown",
   "id": "08a6d628",
   "metadata": {},
   "source": [
    "本講義では、matplotlibとaltairを主に扱います。手軽にインタラクティブな図を作れるplotlyも少し紹介します。"
   ]
  },
  {
   "cell_type": "markdown",
   "id": "014757df",
   "metadata": {},
   "source": [
    "## Plotly"
   ]
  },
  {
   "cell_type": "code",
   "execution_count": null,
   "id": "1f36dc65",
   "metadata": {},
   "outputs": [],
   "source": [
    "!pip install plotly"
   ]
  },
  {
   "cell_type": "code",
   "execution_count": null,
   "id": "5951ae5d",
   "metadata": {},
   "outputs": [],
   "source": []
  }
 ],
 "metadata": {
  "kernelspec": {
   "display_name": "Python 3 (ipykernel)",
   "language": "python",
   "name": "python3"
  },
  "language_info": {
   "codemirror_mode": {
    "name": "ipython",
    "version": 3
   },
   "file_extension": ".py",
   "mimetype": "text/x-python",
   "name": "python",
   "nbconvert_exporter": "python",
   "pygments_lexer": "ipython3",
   "version": "3.10.0"
  }
 },
 "nbformat": 4,
 "nbformat_minor": 5
}
