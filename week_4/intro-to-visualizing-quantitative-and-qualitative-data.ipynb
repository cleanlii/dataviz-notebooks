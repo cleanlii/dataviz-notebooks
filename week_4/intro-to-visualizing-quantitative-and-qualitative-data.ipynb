{
 "cells": [
  {
   "cell_type": "markdown",
   "id": "a92879f3",
   "metadata": {},
   "source": [
    "# 量的データと質的データの可視化\n",
<<<<<<< Updated upstream
    "\n"
=======
    "\n",
    "[![Open In Colab](https://colab.research.google.com/assets/colab-badge.svg)](https://colab.research.google.com/github/shinchu/dataviz-notebooks/blob/main/week_4/intro-to-visualizing-quantitative-and-qualitative-data.ipynb)"
>>>>>>> Stashed changes
   ]
  },
  {
   "cell_type": "markdown",
   "id": "44dc45d7",
   "metadata": {},
   "source": [
    "今回は、文化庁の[メディア芸術データベース・ラボ（MADB Lab）](https://mediag.bunka.go.jp/madb_lab/)で公開されている四大少年誌（週刊少年サンデー、週刊少年ジャンプ、週刊少年チャンピオン、週刊少年マガジン）のデータを使って、量的データと質的データの可視化を練習します。\n",
    "\n",
    "まず、「四大少年誌それぞれの掲載作品のジャンルと著者にはどのような特徴があるのか？」という大きな問いを立て、可視化手法を学びながらデータを見て、具体的な問いを決めていきましょう。\n",
    "\n",
<<<<<<< Updated upstream
    "[マンガと学ぶデータビジュアライゼーション](https://kakeami.github.io/viz-madb/index.html)の内容を参考にしています。"
=======
    "[マンガと学ぶデータビジュアライゼーション](https://kakeami.github.io/viz-madb/index.html)の内容を全面的に参考にしています。"
>>>>>>> Stashed changes
   ]
  },
  {
   "cell_type": "markdown",
   "id": "1a7aa910",
   "metadata": {},
   "source": [
    "ここではPlotlyというライブラリを使います。MatplotlibとAltairの中間のような書き方ができるライブラリですが、Altairほど明示的にデータと視覚記号、データ変数と視覚変数の対応関係をとりません。\n",
    "\n",
    "書き方は難しくないので、以下のコードを読んで把握しておきましょう。\n",
    "\n",
    "今日の演習では、以下の中から好きな図を2つ選んで、Altairで再現してもらいます。"
   ]
  },
  {
   "cell_type": "markdown",
   "id": "2f0144b1",
   "metadata": {},
   "source": [
    "## ライブラリの読み込み"
   ]
  },
  {
   "cell_type": "code",
<<<<<<< Updated upstream
   "execution_count": 59,
=======
   "execution_count": 115,
   "id": "12faae47",
   "metadata": {},
   "outputs": [
    {
     "name": "stdout",
     "output_type": "stream",
     "text": [
      "Requirement already satisfied: plotly in /Users/shu/.virtualenvs/datatools/lib/python3.10/site-packages (5.10.0)\r\n",
      "Requirement already satisfied: tenacity>=6.2.0 in /Users/shu/.virtualenvs/datatools/lib/python3.10/site-packages (from plotly) (8.1.0)\r\n"
     ]
    }
   ],
   "source": [
    "!pip install plotly"
   ]
  },
  {
   "cell_type": "code",
   "execution_count": 116,
>>>>>>> Stashed changes
   "id": "018f7d95",
   "metadata": {},
   "outputs": [],
   "source": [
    "import pandas as pd\n",
    "import numpy as np\n",
    "\n",
<<<<<<< Updated upstream
    "import altair as alt\n",
    "import plotly.express as px"
=======
    "import plotly.express as px\n",
    "import plotly.figure_factory as ff"
>>>>>>> Stashed changes
   ]
  },
  {
   "cell_type": "code",
<<<<<<< Updated upstream
   "execution_count": 60,
=======
   "execution_count": 117,
>>>>>>> Stashed changes
   "id": "476bdae1",
   "metadata": {},
   "outputs": [],
   "source": [
    "import itertools\n",
    "import warnings\n",
    "warnings.filterwarnings('ignore')"
   ]
  },
  {
   "cell_type": "markdown",
   "id": "80181144",
   "metadata": {},
   "source": [
    "## 準備関数"
   ]
  },
  {
   "cell_type": "code",
<<<<<<< Updated upstream
   "execution_count": 61,
=======
   "execution_count": null,
   "id": "467e2472",
   "metadata": {},
   "outputs": [],
   "source": [
    "# weekdayを曜日に変換\n",
    "WD2STR = {\n",
    "    0: 'Mon.',\n",
    "    1: 'Tue.',\n",
    "    2: 'Wed.',\n",
    "    3: 'Thu.',\n",
    "    4: 'Fri.',\n",
    "    5: 'Sat.',\n",
    "    6: 'Sun.',}"
   ]
  },
  {
   "cell_type": "code",
   "execution_count": null,
   "id": "bf7aae51",
   "metadata": {},
   "outputs": [],
   "source": [
    "def show_fig(fig):\n",
    "    \"\"\"Jupyter Bookでも表示可能なようRendererを指定\"\"\"\n",
    "    fig.update_layout(margin=dict(t=50, l=25, r=25, b=25))\n",
    "    fig.show()"
   ]
  },
  {
   "cell_type": "code",
   "execution_count": null,
>>>>>>> Stashed changes
   "id": "c7ffca46",
   "metadata": {},
   "outputs": [],
   "source": [
    "def add_years_to_df(df, unit_years=10):\n",
    "    \"\"\"unit_years単位で区切ったyears列を追加\"\"\"\n",
    "    df_new = df.copy()\n",
    "    df_new['years'] = \\\n",
    "        pd.to_datetime(df['datePublished']).dt.year \\\n",
    "        // unit_years * unit_years\n",
    "    df_new['years'] = df_new['years'].astype(str)\n",
    "    return df_new"
   ]
  },
  {
   "cell_type": "code",
<<<<<<< Updated upstream
   "execution_count": 62,
=======
   "execution_count": null,
   "id": "c7bbb929",
   "metadata": {},
   "outputs": [],
   "source": [
    "def add_weekday_to_df(df):\n",
    "    \"\"\"曜日情報をdfに追加\"\"\"\n",
    "    df_new = df.copy()\n",
    "    df_new['weekday'] = \\\n",
    "        pd.to_datetime(df_new['datePublished']).dt.weekday\n",
    "    df_new['weekday_str'] = df_new['weekday'].apply(\n",
    "        lambda x: WD2STR[x])\n",
    "    return df_new"
   ]
  },
  {
   "cell_type": "code",
   "execution_count": null,
   "id": "96463c85",
   "metadata": {},
   "outputs": [],
   "source": [
    "def add_mcid_to_df(df):\n",
    "    \"\"\"mcnameのindexをdfに追加\"\"\"\n",
    "    df_new = df.copy()\n",
    "    mcname2mcid = {\n",
    "        x: i for i, x in enumerate(df['mcname'].unique())}\n",
    "    df_new['mcid'] = df_new['mcname'].apply(\n",
    "        lambda x: mcname2mcid[x])\n",
    "    return df_new"
   ]
  },
  {
   "cell_type": "code",
   "execution_count": null,
>>>>>>> Stashed changes
   "id": "fe78c1d1",
   "metadata": {},
   "outputs": [],
   "source": [
    "def resample_df_by_cname_and_years(df):\n",
    "    \"\"\"cnameとyearsのすべての組み合わせが存在するように0埋め\n",
    "    この処理を実施しないと作図時にX軸方向の順序が変わってしまう\"\"\"\n",
    "    df_new = df.copy()\n",
    "    yearss = df['years'].unique()\n",
    "    cnames = df['cname'].unique()\n",
    "    for cname, years in itertools.product(cnames, yearss):\n",
    "        df_tmp = df_new[\n",
    "            (df_new['cname'] == cname)&\\\n",
    "            (df_new['years'] == years)]\n",
    "        if df_tmp.shape[0] == 0:\n",
    "            s = pd.Series(\n",
    "                {'cname': cname,\n",
    "                 'years': years,\n",
    "                 'weeks': 0,},\n",
    "                index=df_tmp.columns)\n",
    "            df_new = df_new.append(\n",
    "                s, ignore_index=True)\n",
    "    return df_new"
   ]
  },
  {
   "cell_type": "code",
<<<<<<< Updated upstream
   "execution_count": 63,
=======
   "execution_count": null,
>>>>>>> Stashed changes
   "id": "f708ba0d",
   "metadata": {},
   "outputs": [],
   "source": [
    "def resample_df_by_creator_and_years(df):\n",
    "    \"\"\"creatorとyearsのすべての組み合わせが存在するように0埋め\n",
    "    この処理を実施しないと作図時にX軸方向の順序が変わってしまう\"\"\"\n",
    "    df_new = df.copy()\n",
    "    yearss = df['years'].unique()\n",
    "    creators = df['creator'].unique()\n",
    "    for creator, years in itertools.product(creators, yearss):\n",
    "        df_tmp = df_new[\n",
    "            (df_new['creator'] == creator)&\\\n",
    "            (df_new['years'] == years)]\n",
    "        if df_tmp.shape[0] == 0:\n",
    "            s = pd.Series(\n",
    "                {'creator': creator,\n",
    "                 'years': years,\n",
    "                 'weeks': 0,},\n",
    "                index=df_tmp.columns)\n",
    "            df_new = df_new.append(\n",
    "                s, ignore_index=True)\n",
    "    return df_new"
   ]
  },
  {
   "cell_type": "markdown",
   "id": "860c6585",
   "metadata": {},
   "source": [
    "## データの用意\n",
    "\n",
    "四大少年誌の`1970-07-27`から`2017-07-06`までの全ての掲載作品のデータを使います。\n",
    "\n",
    "すでに前処理がされているデータがあるので、ありがたく使わせていただきます。"
   ]
  },
  {
   "cell_type": "code",
<<<<<<< Updated upstream
   "execution_count": 64,
=======
   "execution_count": null,
>>>>>>> Stashed changes
   "id": "636aad5d",
   "metadata": {},
   "outputs": [],
   "source": [
    "file = \"https://raw.githubusercontent.com/shinchu/dataviz-notebooks/main/data/week_4/episodes.csv\""
   ]
  },
  {
   "cell_type": "code",
   "execution_count": null,
   "id": "e68fa0c8",
   "metadata": {},
   "outputs": [],
   "source": [
    "df = pd.read_csv(file)"
   ]
  },
  {
   "cell_type": "code",
   "execution_count": null,
   "id": "b8a15294",
   "metadata": {},
   "outputs": [],
   "source": [
    "df.shape"
   ]
  },
  {
   "cell_type": "markdown",
   "id": "947c9925",
   "metadata": {},
   "source": [
    "各週の掲載作品を一行ずつ格納しているため、合計で約18万行程度になります。"
   ]
  },
  {
   "cell_type": "code",
   "execution_count": null,
   "id": "377d9456",
   "metadata": {},
   "outputs": [],
   "source": [
    "df.columns"
   ]
  },
  {
   "cell_type": "markdown",
   "id": "1617c9de",
   "metadata": {},
   "source": [
    "- `mcname`: 雑誌名（**M**gazine **C**ollection **NAME**）\n",
    "- `miid`：雑誌巻号ID（**M**agazine **I**tem **ID**）\n",
    "- `miname`: 雑誌巻号名（**M**agazine **I**tem **NAME**）\n",
    "- `cid`: マンガ作品ID（**C**omic **ID**）\n",
    "- `cname`: マンガ作品名（**C**omic **NAME**）\n",
    "- `epname`: 各話タイトル（**EP**isode **NAME**）\n",
    "- `creator`: 作者名\n",
    "- `pageStart`: 開始ページ\n",
    "- `pageEnd`: 終了ページ\n",
    "- `numberOfPages`: 雑誌の合計ページ数\n",
    "- `datePublished`: 雑誌の発行日\n",
    "- `price`: 雑誌の価格\n",
    "- `publisher`: 雑誌の出版社\n",
    "- `editor`: 雑誌の編集者（編集長）\n",
    "- `pages`: 各話のページ数（`pageEnd` - `pageStart` + 1）\n",
    "- `pageEndMax`: 雑誌に掲載されているマンガ作品のうち，`pageEnd`の最大値\n",
    "- `pageStartPosition`: 各話の`pageStart`の相対的な位置（`pageStart` / `pageEndMax`）"
   ]
  },
  {
   "cell_type": "code",
<<<<<<< Updated upstream
   "execution_count": 13,
   "id": "1095370b",
   "metadata": {},
   "outputs": [
    {
     "data": {
      "text/html": [
       "<div>\n",
       "<style scoped>\n",
       "    .dataframe tbody tr th:only-of-type {\n",
       "        vertical-align: middle;\n",
       "    }\n",
       "\n",
       "    .dataframe tbody tr th {\n",
       "        vertical-align: top;\n",
       "    }\n",
       "\n",
       "    .dataframe thead th {\n",
       "        text-align: right;\n",
       "    }\n",
       "</style>\n",
       "<table border=\"1\" class=\"dataframe\">\n",
       "  <thead>\n",
       "    <tr style=\"text-align: right;\">\n",
       "      <th></th>\n",
       "      <th>mcname</th>\n",
       "      <th>miid</th>\n",
       "      <th>miname</th>\n",
       "      <th>cid</th>\n",
       "      <th>cname</th>\n",
       "      <th>epname</th>\n",
       "      <th>creator</th>\n",
       "      <th>pageStart</th>\n",
       "      <th>pageEnd</th>\n",
       "      <th>numberOfPages</th>\n",
       "      <th>datePublished</th>\n",
       "      <th>price</th>\n",
       "      <th>publisher</th>\n",
       "      <th>editor</th>\n",
       "      <th>pages</th>\n",
       "      <th>pageEndMax</th>\n",
       "      <th>pageStartPosition</th>\n",
       "    </tr>\n",
       "  </thead>\n",
       "  <tbody>\n",
       "    <tr>\n",
       "      <th>0</th>\n",
       "      <td>週刊少年ジャンプ</td>\n",
       "      <td>M616363</td>\n",
       "      <td>週刊少年ジャンプ 1970年 表示号数31</td>\n",
       "      <td>C88180</td>\n",
       "      <td>男一匹ガキ大将</td>\n",
       "      <td>土佐の源蔵の巻</td>\n",
       "      <td>本宮ひろ志</td>\n",
       "      <td>7.0</td>\n",
       "      <td>37.0</td>\n",
       "      <td>280.0</td>\n",
       "      <td>1970-07-27</td>\n",
       "      <td>80.0</td>\n",
       "      <td>集英社</td>\n",
       "      <td>長野規</td>\n",
       "      <td>31.0</td>\n",
       "      <td>275.0</td>\n",
       "      <td>0.025455</td>\n",
       "    </tr>\n",
       "    <tr>\n",
       "      <th>1</th>\n",
       "      <td>週刊少年チャンピオン</td>\n",
       "      <td>M558279</td>\n",
       "      <td>週刊少年チャンピオン 1970年 表示号数14</td>\n",
       "      <td>C94272</td>\n",
       "      <td>朝日の恋人</td>\n",
       "      <td>NaN</td>\n",
       "      <td>かざま鋭二</td>\n",
       "      <td>15.0</td>\n",
       "      <td>43.0</td>\n",
       "      <td>292.0</td>\n",
       "      <td>1970-07-27</td>\n",
       "      <td>80.0</td>\n",
       "      <td>秋田書店　∥　アキタショテン</td>\n",
       "      <td>成田清美</td>\n",
       "      <td>29.0</td>\n",
       "      <td>290.0</td>\n",
       "      <td>0.051724</td>\n",
       "    </tr>\n",
       "    <tr>\n",
       "      <th>2</th>\n",
       "      <td>週刊少年ジャンプ</td>\n",
       "      <td>M616363</td>\n",
       "      <td>週刊少年ジャンプ 1970年 表示号数31</td>\n",
       "      <td>C87448</td>\n",
       "      <td>ど根性ガエル</td>\n",
       "      <td>男はつらいよの巻</td>\n",
       "      <td>吉沢やすみ</td>\n",
       "      <td>39.0</td>\n",
       "      <td>53.0</td>\n",
       "      <td>280.0</td>\n",
       "      <td>1970-07-27</td>\n",
       "      <td>80.0</td>\n",
       "      <td>集英社</td>\n",
       "      <td>長野規</td>\n",
       "      <td>15.0</td>\n",
       "      <td>275.0</td>\n",
       "      <td>0.141818</td>\n",
       "    </tr>\n",
       "    <tr>\n",
       "      <th>3</th>\n",
       "      <td>週刊少年チャンピオン</td>\n",
       "      <td>M558279</td>\n",
       "      <td>週刊少年チャンピオン 1970年 表示号数14</td>\n",
       "      <td>C94289</td>\n",
       "      <td>あばしり一家</td>\n",
       "      <td>アバシリ吉三の美人地獄編</td>\n",
       "      <td>永井豪</td>\n",
       "      <td>48.0</td>\n",
       "      <td>66.0</td>\n",
       "      <td>292.0</td>\n",
       "      <td>1970-07-27</td>\n",
       "      <td>80.0</td>\n",
       "      <td>秋田書店　∥　アキタショテン</td>\n",
       "      <td>成田清美</td>\n",
       "      <td>19.0</td>\n",
       "      <td>290.0</td>\n",
       "      <td>0.165517</td>\n",
       "    </tr>\n",
       "    <tr>\n",
       "      <th>4</th>\n",
       "      <td>週刊少年ジャンプ</td>\n",
       "      <td>M616363</td>\n",
       "      <td>週刊少年ジャンプ 1970年 表示号数31</td>\n",
       "      <td>C88021</td>\n",
       "      <td>あらし!三匹</td>\n",
       "      <td>ミヒル登場の巻</td>\n",
       "      <td>池沢さとし</td>\n",
       "      <td>56.0</td>\n",
       "      <td>70.0</td>\n",
       "      <td>280.0</td>\n",
       "      <td>1970-07-27</td>\n",
       "      <td>80.0</td>\n",
       "      <td>集英社</td>\n",
       "      <td>長野規</td>\n",
       "      <td>15.0</td>\n",
       "      <td>275.0</td>\n",
       "      <td>0.203636</td>\n",
       "    </tr>\n",
       "  </tbody>\n",
       "</table>\n",
       "</div>"
      ],
      "text/plain": [
       "       mcname     miid                   miname     cid    cname  \\\n",
       "0    週刊少年ジャンプ  M616363    週刊少年ジャンプ 1970年 表示号数31  C88180  男一匹ガキ大将   \n",
       "1  週刊少年チャンピオン  M558279  週刊少年チャンピオン 1970年 表示号数14  C94272    朝日の恋人   \n",
       "2    週刊少年ジャンプ  M616363    週刊少年ジャンプ 1970年 表示号数31  C87448   ど根性ガエル   \n",
       "3  週刊少年チャンピオン  M558279  週刊少年チャンピオン 1970年 表示号数14  C94289   あばしり一家   \n",
       "4    週刊少年ジャンプ  M616363    週刊少年ジャンプ 1970年 表示号数31  C88021   あらし!三匹   \n",
       "\n",
       "         epname creator  pageStart  pageEnd  numberOfPages datePublished  \\\n",
       "0       土佐の源蔵の巻   本宮ひろ志        7.0     37.0          280.0    1970-07-27   \n",
       "1           NaN   かざま鋭二       15.0     43.0          292.0    1970-07-27   \n",
       "2      男はつらいよの巻   吉沢やすみ       39.0     53.0          280.0    1970-07-27   \n",
       "3  アバシリ吉三の美人地獄編     永井豪       48.0     66.0          292.0    1970-07-27   \n",
       "4       ミヒル登場の巻   池沢さとし       56.0     70.0          280.0    1970-07-27   \n",
       "\n",
       "   price       publisher editor  pages  pageEndMax  pageStartPosition  \n",
       "0   80.0             集英社    長野規   31.0       275.0           0.025455  \n",
       "1   80.0  秋田書店　∥　アキタショテン   成田清美   29.0       290.0           0.051724  \n",
       "2   80.0             集英社    長野規   15.0       275.0           0.141818  \n",
       "3   80.0  秋田書店　∥　アキタショテン   成田清美   19.0       290.0           0.165517  \n",
       "4   80.0             集英社    長野規   15.0       275.0           0.203636  "
      ]
     },
     "execution_count": 13,
     "metadata": {},
     "output_type": "execute_result"
    }
   ],
=======
   "execution_count": null,
   "id": "1095370b",
   "metadata": {},
   "outputs": [],
>>>>>>> Stashed changes
   "source": [
    "df.head()"
   ]
  },
  {
   "cell_type": "code",
<<<<<<< Updated upstream
   "execution_count": 14,
   "id": "5601cb80",
   "metadata": {},
   "outputs": [
    {
     "data": {
      "text/html": [
       "<div>\n",
       "<style scoped>\n",
       "    .dataframe tbody tr th:only-of-type {\n",
       "        vertical-align: middle;\n",
       "    }\n",
       "\n",
       "    .dataframe tbody tr th {\n",
       "        vertical-align: top;\n",
       "    }\n",
       "\n",
       "    .dataframe thead th {\n",
       "        text-align: right;\n",
       "    }\n",
       "</style>\n",
       "<table border=\"1\" class=\"dataframe\">\n",
       "  <thead>\n",
       "    <tr style=\"text-align: right;\">\n",
       "      <th></th>\n",
       "      <th>pageStart</th>\n",
       "      <th>pageEnd</th>\n",
       "      <th>numberOfPages</th>\n",
       "      <th>price</th>\n",
       "      <th>pages</th>\n",
       "      <th>pageEndMax</th>\n",
       "      <th>pageStartPosition</th>\n",
       "    </tr>\n",
       "  </thead>\n",
       "  <tbody>\n",
       "    <tr>\n",
       "      <th>count</th>\n",
       "      <td>179931.000000</td>\n",
       "      <td>179931.000000</td>\n",
       "      <td>179624.000000</td>\n",
       "      <td>179893.000000</td>\n",
       "      <td>179931.000000</td>\n",
       "      <td>179931.000000</td>\n",
       "      <td>179931.000000</td>\n",
       "    </tr>\n",
       "    <tr>\n",
       "      <th>mean</th>\n",
       "      <td>210.845105</td>\n",
       "      <td>228.371240</td>\n",
       "      <td>417.376325</td>\n",
       "      <td>203.871740</td>\n",
       "      <td>18.526135</td>\n",
       "      <td>408.249379</td>\n",
       "      <td>0.514837</td>\n",
       "    </tr>\n",
       "    <tr>\n",
       "      <th>std</th>\n",
       "      <td>123.860878</td>\n",
       "      <td>122.038708</td>\n",
       "      <td>67.418723</td>\n",
       "      <td>41.955489</td>\n",
       "      <td>7.712730</td>\n",
       "      <td>69.804101</td>\n",
       "      <td>0.283146</td>\n",
       "    </tr>\n",
       "    <tr>\n",
       "      <th>min</th>\n",
       "      <td>1.000000</td>\n",
       "      <td>1.000000</td>\n",
       "      <td>36.000000</td>\n",
       "      <td>80.000000</td>\n",
       "      <td>1.000000</td>\n",
       "      <td>200.000000</td>\n",
       "      <td>0.002045</td>\n",
       "    </tr>\n",
       "    <tr>\n",
       "      <th>25%</th>\n",
       "      <td>107.000000</td>\n",
       "      <td>126.000000</td>\n",
       "      <td>356.000000</td>\n",
       "      <td>180.000000</td>\n",
       "      <td>17.000000</td>\n",
       "      <td>346.000000</td>\n",
       "      <td>0.274840</td>\n",
       "    </tr>\n",
       "    <tr>\n",
       "      <th>50%</th>\n",
       "      <td>205.000000</td>\n",
       "      <td>222.000000</td>\n",
       "      <td>437.000000</td>\n",
       "      <td>210.000000</td>\n",
       "      <td>19.000000</td>\n",
       "      <td>433.000000</td>\n",
       "      <td>0.520588</td>\n",
       "    </tr>\n",
       "    <tr>\n",
       "      <th>75%</th>\n",
       "      <td>305.000000</td>\n",
       "      <td>322.000000</td>\n",
       "      <td>464.000000</td>\n",
       "      <td>236.000000</td>\n",
       "      <td>20.000000</td>\n",
       "      <td>457.000000</td>\n",
       "      <td>0.759626</td>\n",
       "    </tr>\n",
       "    <tr>\n",
       "      <th>max</th>\n",
       "      <td>581.000000</td>\n",
       "      <td>600.000000</td>\n",
       "      <td>600.000000</td>\n",
       "      <td>371.000000</td>\n",
       "      <td>487.000000</td>\n",
       "      <td>600.000000</td>\n",
       "      <td>1.000000</td>\n",
       "    </tr>\n",
       "  </tbody>\n",
       "</table>\n",
       "</div>"
      ],
      "text/plain": [
       "           pageStart        pageEnd  numberOfPages          price  \\\n",
       "count  179931.000000  179931.000000  179624.000000  179893.000000   \n",
       "mean      210.845105     228.371240     417.376325     203.871740   \n",
       "std       123.860878     122.038708      67.418723      41.955489   \n",
       "min         1.000000       1.000000      36.000000      80.000000   \n",
       "25%       107.000000     126.000000     356.000000     180.000000   \n",
       "50%       205.000000     222.000000     437.000000     210.000000   \n",
       "75%       305.000000     322.000000     464.000000     236.000000   \n",
       "max       581.000000     600.000000     600.000000     371.000000   \n",
       "\n",
       "               pages     pageEndMax  pageStartPosition  \n",
       "count  179931.000000  179931.000000      179931.000000  \n",
       "mean       18.526135     408.249379           0.514837  \n",
       "std         7.712730      69.804101           0.283146  \n",
       "min         1.000000     200.000000           0.002045  \n",
       "25%        17.000000     346.000000           0.274840  \n",
       "50%        19.000000     433.000000           0.520588  \n",
       "75%        20.000000     457.000000           0.759626  \n",
       "max       487.000000     600.000000           1.000000  "
      ]
     },
     "execution_count": 14,
     "metadata": {},
     "output_type": "execute_result"
    }
   ],
=======
   "execution_count": null,
   "id": "5601cb80",
   "metadata": {},
   "outputs": [],
>>>>>>> Stashed changes
   "source": [
    "df.describe()"
   ]
  },
  {
   "cell_type": "markdown",
   "id": "fecac2e1",
   "metadata": {},
   "source": [
    "欠損値を確認してみます。\n",
    "\n",
    "特に`epname`と`publisher`の欠測が多いことがわかります．"
   ]
  },
  {
   "cell_type": "code",
<<<<<<< Updated upstream
   "execution_count": 15,
   "id": "4e058698",
   "metadata": {},
   "outputs": [
    {
     "data": {
      "text/html": [
       "<div>\n",
       "<style scoped>\n",
       "    .dataframe tbody tr th:only-of-type {\n",
       "        vertical-align: middle;\n",
       "    }\n",
       "\n",
       "    .dataframe tbody tr th {\n",
       "        vertical-align: top;\n",
       "    }\n",
       "\n",
       "    .dataframe thead th {\n",
       "        text-align: right;\n",
       "    }\n",
       "</style>\n",
       "<table border=\"1\" class=\"dataframe\">\n",
       "  <thead>\n",
       "    <tr style=\"text-align: right;\">\n",
       "      <th></th>\n",
       "      <th>index</th>\n",
       "      <th>0</th>\n",
       "    </tr>\n",
       "  </thead>\n",
       "  <tbody>\n",
       "    <tr>\n",
       "      <th>0</th>\n",
       "      <td>mcname</td>\n",
       "      <td>0</td>\n",
       "    </tr>\n",
       "    <tr>\n",
       "      <th>1</th>\n",
       "      <td>miid</td>\n",
       "      <td>0</td>\n",
       "    </tr>\n",
       "    <tr>\n",
       "      <th>2</th>\n",
       "      <td>miname</td>\n",
       "      <td>0</td>\n",
       "    </tr>\n",
       "    <tr>\n",
       "      <th>3</th>\n",
       "      <td>cid</td>\n",
       "      <td>9</td>\n",
       "    </tr>\n",
       "    <tr>\n",
       "      <th>4</th>\n",
       "      <td>cname</td>\n",
       "      <td>9</td>\n",
       "    </tr>\n",
       "    <tr>\n",
       "      <th>5</th>\n",
       "      <td>epname</td>\n",
       "      <td>26807</td>\n",
       "    </tr>\n",
       "    <tr>\n",
       "      <th>6</th>\n",
       "      <td>creator</td>\n",
       "      <td>441</td>\n",
       "    </tr>\n",
       "    <tr>\n",
       "      <th>7</th>\n",
       "      <td>pageStart</td>\n",
       "      <td>0</td>\n",
       "    </tr>\n",
       "    <tr>\n",
       "      <th>8</th>\n",
       "      <td>pageEnd</td>\n",
       "      <td>0</td>\n",
       "    </tr>\n",
       "    <tr>\n",
       "      <th>9</th>\n",
       "      <td>numberOfPages</td>\n",
       "      <td>307</td>\n",
       "    </tr>\n",
       "    <tr>\n",
       "      <th>10</th>\n",
       "      <td>datePublished</td>\n",
       "      <td>0</td>\n",
       "    </tr>\n",
       "    <tr>\n",
       "      <th>11</th>\n",
       "      <td>price</td>\n",
       "      <td>38</td>\n",
       "    </tr>\n",
       "    <tr>\n",
       "      <th>12</th>\n",
       "      <td>publisher</td>\n",
       "      <td>24658</td>\n",
       "    </tr>\n",
       "    <tr>\n",
       "      <th>13</th>\n",
       "      <td>editor</td>\n",
       "      <td>2092</td>\n",
       "    </tr>\n",
       "    <tr>\n",
       "      <th>14</th>\n",
       "      <td>pages</td>\n",
       "      <td>0</td>\n",
       "    </tr>\n",
       "    <tr>\n",
       "      <th>15</th>\n",
       "      <td>pageEndMax</td>\n",
       "      <td>0</td>\n",
       "    </tr>\n",
       "    <tr>\n",
       "      <th>16</th>\n",
       "      <td>pageStartPosition</td>\n",
       "      <td>0</td>\n",
       "    </tr>\n",
       "  </tbody>\n",
       "</table>\n",
       "</div>"
      ],
      "text/plain": [
       "                index      0\n",
       "0              mcname      0\n",
       "1                miid      0\n",
       "2              miname      0\n",
       "3                 cid      9\n",
       "4               cname      9\n",
       "5              epname  26807\n",
       "6             creator    441\n",
       "7           pageStart      0\n",
       "8             pageEnd      0\n",
       "9       numberOfPages    307\n",
       "10      datePublished      0\n",
       "11              price     38\n",
       "12          publisher  24658\n",
       "13             editor   2092\n",
       "14              pages      0\n",
       "15         pageEndMax      0\n",
       "16  pageStartPosition      0"
      ]
     },
     "execution_count": 15,
     "metadata": {},
     "output_type": "execute_result"
    }
   ],
=======
   "execution_count": null,
   "id": "4e058698",
   "metadata": {},
   "outputs": [],
>>>>>>> Stashed changes
   "source": [
    "df.isna().sum().reset_index()"
   ]
  },
  {
   "cell_type": "markdown",
   "id": "3d5abc15",
   "metadata": {},
   "source": [
    "## 量を見る"
   ]
  },
  {
   "cell_type": "markdown",
   "id": "b34e8c7d",
   "metadata": {},
   "source": [
<<<<<<< Updated upstream
    "### 棒グラフ\n",
    "\n",
    "棒グラフ（Bar Chart） は、主に質的変数を対象にして、棒の長さで数量を表すグラフです。棒を縦方向に並べることもありますし、横方向に並べることもあります。質的変数の量を見る最も一般的な方法の一つです。"
=======
    "### 棒グラフ"
>>>>>>> Stashed changes
   ]
  },
  {
   "cell_type": "markdown",
   "id": "e4035870",
   "metadata": {},
   "source": [
    "#### 作品別の掲載週数（上位20作品）"
   ]
  },
  {
   "cell_type": "code",
<<<<<<< Updated upstream
   "execution_count": 36,
=======
   "execution_count": null,
>>>>>>> Stashed changes
   "id": "504f4b10",
   "metadata": {},
   "outputs": [],
   "source": [
    "# 作品ごとの週数を数える\n",
    "df_plot = df.value_counts(\"cname\").reset_index(name=\"weeks\").head(20)"
   ]
  },
  {
<<<<<<< Updated upstream
   "cell_type": "markdown",
   "id": "c5965716",
   "metadata": {},
   "source": [
    "Altairで再現する"
   ]
  },
  {
   "cell_type": "code",
   "execution_count": 58,
   "id": "d2d7e1f1",
   "metadata": {},
   "outputs": [
    {
     "data": {
      "text/html": [
       "\n",
       "<div id=\"altair-viz-0d963adc298c4e0c9df238184b2bf3be\"></div>\n",
       "<script type=\"text/javascript\">\n",
       "  var VEGA_DEBUG = (typeof VEGA_DEBUG == \"undefined\") ? {} : VEGA_DEBUG;\n",
       "  (function(spec, embedOpt){\n",
       "    let outputDiv = document.currentScript.previousElementSibling;\n",
       "    if (outputDiv.id !== \"altair-viz-0d963adc298c4e0c9df238184b2bf3be\") {\n",
       "      outputDiv = document.getElementById(\"altair-viz-0d963adc298c4e0c9df238184b2bf3be\");\n",
       "    }\n",
       "    const paths = {\n",
       "      \"vega\": \"https://cdn.jsdelivr.net/npm//vega@5?noext\",\n",
       "      \"vega-lib\": \"https://cdn.jsdelivr.net/npm//vega-lib?noext\",\n",
       "      \"vega-lite\": \"https://cdn.jsdelivr.net/npm//vega-lite@4.17.0?noext\",\n",
       "      \"vega-embed\": \"https://cdn.jsdelivr.net/npm//vega-embed@6?noext\",\n",
       "    };\n",
       "\n",
       "    function maybeLoadScript(lib, version) {\n",
       "      var key = `${lib.replace(\"-\", \"\")}_version`;\n",
       "      return (VEGA_DEBUG[key] == version) ?\n",
       "        Promise.resolve(paths[lib]) :\n",
       "        new Promise(function(resolve, reject) {\n",
       "          var s = document.createElement('script');\n",
       "          document.getElementsByTagName(\"head\")[0].appendChild(s);\n",
       "          s.async = true;\n",
       "          s.onload = () => {\n",
       "            VEGA_DEBUG[key] = version;\n",
       "            return resolve(paths[lib]);\n",
       "          };\n",
       "          s.onerror = () => reject(`Error loading script: ${paths[lib]}`);\n",
       "          s.src = paths[lib];\n",
       "        });\n",
       "    }\n",
       "\n",
       "    function showError(err) {\n",
       "      outputDiv.innerHTML = `<div class=\"error\" style=\"color:red;\">${err}</div>`;\n",
       "      throw err;\n",
       "    }\n",
       "\n",
       "    function displayChart(vegaEmbed) {\n",
       "      vegaEmbed(outputDiv, spec, embedOpt)\n",
       "        .catch(err => showError(`Javascript Error: ${err.message}<br>This usually means there's a typo in your chart specification. See the javascript console for the full traceback.`));\n",
       "    }\n",
       "\n",
       "    if(typeof define === \"function\" && define.amd) {\n",
       "      requirejs.config({paths});\n",
       "      require([\"vega-embed\"], displayChart, err => showError(`Error loading script: ${err.message}`));\n",
       "    } else {\n",
       "      maybeLoadScript(\"vega\", \"5\")\n",
       "        .then(() => maybeLoadScript(\"vega-lite\", \"4.17.0\"))\n",
       "        .then(() => maybeLoadScript(\"vega-embed\", \"6\"))\n",
       "        .catch(showError)\n",
       "        .then(() => displayChart(vegaEmbed));\n",
       "    }\n",
       "  })({\"config\": {\"view\": {\"continuousWidth\": 400, \"continuousHeight\": 300}, \"axis\": {\"labelFontSize\": 14, \"titleFontSize\": 16}, \"title\": {\"fontSize\": 16}}, \"data\": {\"name\": \"data-7d236d89580ffe68f1cb2163acd871f9\"}, \"mark\": \"bar\", \"encoding\": {\"tooltip\": [{\"field\": \"weeks\", \"type\": \"quantitative\"}], \"x\": {\"field\": \"cname\", \"sort\": \"-y\", \"title\": \"\\u4f5c\\u54c1\\u540d\", \"type\": \"nominal\"}, \"y\": {\"field\": \"weeks\", \"title\": \"\\u63b2\\u8f09\\u9031\\u6570\", \"type\": \"quantitative\"}}, \"title\": \"\\u4f5c\\u54c1\\u3054\\u3068\\u306e\\u63b2\\u8f09\\u9031\\u6570\", \"$schema\": \"https://vega.github.io/schema/vega-lite/v4.17.0.json\", \"datasets\": {\"data-7d236d89580ffe68f1cb2163acd871f9\": [{\"cname\": \"\\u3053\\u3061\\u3089\\u845b\\u98fe\\u533a\\u4e80\\u6709\\u516c\\u5712\\u524d\\u6d3e\\u51fa\\u6240\", \"weeks\": 1968}, {\"cname\": \"\\u306f\\u3058\\u3081\\u306e\\u4e00\\u6b69\", \"weeks\": 1184}, {\"cname\": \"\\u540d\\u63a2\\u5075\\u30b3\\u30ca\\u30f3\", \"weeks\": 1009}, {\"cname\": \"ONE PIECE\", \"weeks\": 890}, {\"cname\": \"MAJOR\", \"weeks\": 748}, {\"cname\": \"NARUTO-\\u30ca\\u30eb\\u30c8-\", \"weeks\": 722}, {\"cname\": \"BLEACH\", \"weeks\": 715}, {\"cname\": \"\\u9280\\u9b42\", \"weeks\": 652}, {\"cname\": \"\\u30c9\\u30ab\\u30d9\\u30f3\", \"weeks\": 635}, {\"cname\": \"\\u30b8\\u30e7\\u30b8\\u30e7\\u306e\\u5947\\u5999\\u306a\\u5192\\u967a\", \"weeks\": 594}, {\"cname\": \"\\u30c0\\u30e1\\u304a\\u3084\\u3058\", \"weeks\": 585}, {\"cname\": \"\\u53f2\\u4e0a\\u6700\\u5f37\\u306e\\u5f1f\\u5b50\\u30b1\\u30f3\\u30a4\\u30c1\", \"weeks\": 582}, {\"cname\": \"\\u3042\\u3072\\u308b\\u306e\\u7a7a\", \"weeks\": 571}, {\"cname\": \"\\u30cf\\u30e4\\u30c6\\u306e\\u3054\\u3068\\u304f!\", \"weeks\": 566}, {\"cname\": \"\\u72ac\\u591c\\u53c9\", \"weeks\": 558}, {\"cname\": \"\\u30b3\\u30fc\\u30bf\\u30ed\\u30fc\\u307e\\u304b\\u308a\\u3068\\u304a\\u308b!\", \"weeks\": 558}, {\"cname\": \"FAIRY TAIL\", \"weeks\": 546}, {\"cname\": \"DRAGON\\u3000BALL\", \"weeks\": 519}, {\"cname\": \"\\u91d1\\u7530\\u4e00\\u5c11\\u5e74\\u306e\\u4e8b\\u4ef6\\u7c3f\", \"weeks\": 513}, {\"cname\": \"\\u30a8\\u30ea\\u30a2\\u306e\\u9a0e\\u58eb\", \"weeks\": 503}]}}, {\"mode\": \"vega-lite\"});\n",
       "</script>"
      ],
      "text/plain": [
       "alt.Chart(...)"
      ]
     },
     "execution_count": 58,
     "metadata": {},
     "output_type": "execute_result"
    }
   ],
   "source": [
    "alt.Chart(df_plot).mark_bar().encode(\n",
    "    alt.X(\"cname:N\", sort=\"-y\", title=\"作品名\"),\n",
    "    alt.Y(\"weeks:Q\", title=\"掲載週数\"),\n",
    "    alt.Tooltip([\"weeks\"])\n",
    ").properties(\n",
    "    title=\"作品ごとの掲載週数\"\n",
    ").configure_axis(\n",
    "    labelFontSize=14,\n",
    "    titleFontSize=16\n",
    ").configure_title(\n",
    "    fontSize=16\n",
    ")"
=======
   "cell_type": "code",
   "execution_count": null,
   "id": "d2d7e1f1",
   "metadata": {},
   "outputs": [],
   "source": [
    "fig = px.bar(df_plot, x='cname', y='weeks', \n",
    "             title='作品別の掲載週数')\n",
    "fig.update_xaxes(title='作品名')\n",
    "fig.update_yaxes(title='掲載週数')\n",
    "show_fig(fig)"
>>>>>>> Stashed changes
   ]
  },
  {
   "cell_type": "markdown",
   "id": "16ae0925",
   "metadata": {},
   "source": [
    "#### 作品別・年代別の掲載週数（上位20作品）"
   ]
  },
  {
   "cell_type": "code",
<<<<<<< Updated upstream
   "execution_count": 55,
=======
   "execution_count": null,
>>>>>>> Stashed changes
   "id": "4f954433",
   "metadata": {},
   "outputs": [],
   "source": [
    "# dfに10年区切りの年代情報を追加\n",
    "df = add_years_to_df(df)"
   ]
  },
  {
   "cell_type": "code",
   "execution_count": null,
   "id": "f0e6ad81",
   "metadata": {},
   "outputs": [],
   "source": [
<<<<<<< Updated upstream
    "df_plot = df.groupby()"
=======
    "# プロット用に集計\n",
    "df_plot = df.groupby('cname')['years'].value_counts().\\\n",
    "    reset_index(name='weeks')\n",
    "# 連載週数上位10作品を抽出\n",
    "cnames = list(df.value_counts('cname').head(20).index)\n",
    "df_plot = df_plot[df_plot['cname'].isin(cnames)].\\\n",
    "    reset_index(drop=True)\n",
    "# cname，yearsでアップサンプリング\n",
    "df_plot = resample_df_by_cname_and_years(df_plot)"
   ]
  },
  {
   "cell_type": "code",
   "execution_count": null,
   "id": "aef23ae0",
   "metadata": {},
   "outputs": [],
   "source": [
    "# 合計連載週数で降順ソート\n",
    "df_plot['order'] = df_plot['cname'].apply(\n",
    "    lambda x: cnames.index(x))\n",
    "df_plot = df_plot.sort_values(\n",
    "    ['order', 'years'], ignore_index=True)"
   ]
  },
  {
   "cell_type": "code",
   "execution_count": null,
   "id": "8c6fc807",
   "metadata": {},
   "outputs": [],
   "source": [
    "# 作図\n",
    "fig = px.bar(\n",
    "    df_plot, x='cname', y='weeks', color='years',\n",
    "    color_discrete_sequence= px.colors.diverging.Portland,\n",
    "    barmode='group', \n",
    "    title='作品別・年代別の合計掲載週数（集合棒グラフ）')\n",
    "fig.update_xaxes(title='作品名')\n",
    "fig.update_yaxes(title='合計連載週数')\n",
    "show_fig(fig)"
   ]
  },
  {
   "cell_type": "code",
   "execution_count": null,
   "id": "b3e1685c",
   "metadata": {},
   "outputs": [],
   "source": [
    "# 作図\n",
    "fig = px.bar(\n",
    "    df_plot, x='cname', y='weeks', color='years',\n",
    "    color_discrete_sequence= px.colors.diverging.Portland,\n",
    "    barmode='stack', \n",
    "    title='作品別・年代別の合計連載週数（積上げ棒グラフ）')\n",
    "fig.update_xaxes(title='作品名')\n",
    "fig.update_yaxes(title='合計連載週数')\n",
    "show_fig(fig)"
   ]
  },
  {
   "cell_type": "markdown",
   "id": "e84138f8",
   "metadata": {},
   "source": [
    "### ヒートマップ"
   ]
  },
  {
   "cell_type": "markdown",
   "id": "2020871f",
   "metadata": {},
   "source": [
    "#### 作品別・年代別の掲載週数（上位20作品）"
   ]
  },
  {
   "cell_type": "code",
   "execution_count": null,
   "id": "1bf63198",
   "metadata": {},
   "outputs": [],
   "source": [
    "# 1年単位で区切ったyearsを追加\n",
    "df = add_years_to_df(df, 1)"
   ]
  },
  {
   "cell_type": "code",
   "execution_count": null,
   "id": "39c2a2d5",
   "metadata": {},
   "outputs": [],
   "source": [
    "# プロット用に集計\n",
    "df_plot = \\\n",
    "    df.groupby('cname')['years'].value_counts().\\\n",
    "    reset_index(name='weeks')\n",
    "# 連載週刊上位10作品を抽出\n",
    "cnames = list(df.value_counts('cname').head(20).index)\n",
    "df_plot = df_plot[df_plot['cname'].isin(cnames)].\\\n",
    "    reset_index(drop=True)\n",
    "# 作図用に空白期間を0埋め\n",
    "df_plot = \\\n",
    "    resample_df_by_cname_and_years(df_plot)"
   ]
  },
  {
   "cell_type": "code",
   "execution_count": null,
   "id": "d3db8e82",
   "metadata": {},
   "outputs": [],
   "source": [
    "# プロット用に集計\n",
    "df_plot = \\\n",
    "    df.groupby('cname')['years'].value_counts().\\\n",
    "    reset_index(name='weeks')\n",
    "# 連載週刊上位10作品を抽出\n",
    "cnames = list(df.value_counts('cname').head(20).index)\n",
    "df_plot = df_plot[df_plot['cname'].isin(cnames)].\\\n",
    "    reset_index(drop=True)\n",
    "# 作図用に空白期間を0埋め\n",
    "df_plot = \\\n",
    "    resample_df_by_cname_and_years(df_plot)"
   ]
  },
  {
   "cell_type": "code",
   "execution_count": null,
   "id": "3d2d2fad",
   "metadata": {},
   "outputs": [],
   "source": [
    "fig = px.density_heatmap(\n",
    "    df_plot, x='years', y='cname', z='weeks',\n",
    "    title='作品別・年代別の合計掲載週数', height=500)\n",
    "fig.update_xaxes(title='掲載年')\n",
    "fig.update_yaxes(title='作品名')\n",
    "show_fig(fig)"
   ]
  },
  {
   "cell_type": "markdown",
   "id": "9b781aae",
   "metadata": {},
   "source": [
    "#### 作家別・年代別の合計掲載週数（上位20名）"
   ]
  },
  {
   "cell_type": "code",
   "execution_count": null,
   "id": "e08632a8",
   "metadata": {},
   "outputs": [],
   "source": [
    "# 10年単位で区切ったyearsを追加\n",
    "df = add_years_to_df(df, 1)"
   ]
  },
  {
   "cell_type": "code",
   "execution_count": null,
   "id": "a71a5aca",
   "metadata": {},
   "outputs": [],
   "source": [
    "# プロット用に集計\n",
    "df_plot = \\\n",
    "    df.groupby('creator')['years'].value_counts().\\\n",
    "    reset_index(name='weeks')\n",
    "# 連載週刊上位10作品を抽出\n",
    "creators = list(df.value_counts('creator').head(20).index)\n",
    "df_plot = df_plot[df_plot['creator'].isin(creators)].\\\n",
    "    reset_index(drop=True)\n",
    "# 作図用に空白期間を0埋め\n",
    "df_plot = \\\n",
    "    resample_df_by_creator_and_years(df_plot)"
   ]
  },
  {
   "cell_type": "code",
   "execution_count": null,
   "id": "69da5c4a",
   "metadata": {},
   "outputs": [],
   "source": [
    "# 合計連載週数で降順ソート\n",
    "df_plot['order'] = df_plot['creator'].apply(\n",
    "    lambda x: creators.index(x))\n",
    "df_plot = df_plot.sort_values(\n",
    "    ['order', 'years'], ignore_index=True)"
   ]
  },
  {
   "cell_type": "code",
   "execution_count": null,
   "id": "acd6e984",
   "metadata": {},
   "outputs": [],
   "source": [
    "fig = px.density_heatmap(\n",
    "    df_plot, x='years', y='creator', z='weeks',\n",
    "    title='作家別・年代別の合計掲載週数', height=500)\n",
    "fig.update_xaxes(title='掲載年')\n",
    "fig.update_yaxes(title='作家名')\n",
    "show_fig(fig)"
>>>>>>> Stashed changes
   ]
  },
  {
   "cell_type": "markdown",
   "id": "8af3fd8e",
   "metadata": {},
   "source": [
    "## 分布を見る"
   ]
  },
  {
   "cell_type": "markdown",
<<<<<<< Updated upstream
=======
   "id": "d6f9e374",
   "metadata": {},
   "source": [
    "### ヒストグラム"
   ]
  },
  {
   "cell_type": "code",
   "execution_count": null,
   "id": "83bd0a99",
   "metadata": {},
   "outputs": [],
   "source": [
    "# 平均掲載位置を算出する際の最小連載数\n",
    "MIN_WEEKS = 5"
   ]
  },
  {
   "cell_type": "markdown",
   "id": "9bd7bfe7",
   "metadata": {},
   "source": [
    "#### 掲載位置の分布\n",
    "\n",
    "`MIN_WEEKS`以上連載したマンガ作品の平均掲載位置の分布を見てみます。"
   ]
  },
  {
   "cell_type": "code",
   "execution_count": null,
   "id": "0792d1d1",
   "metadata": {},
   "outputs": [],
   "source": [
    "df_plot = \\\n",
    "    df.groupby(['mcname', 'cname', 'creator'])['pageStartPosition']\\\n",
    "    .agg(['count', 'mean']).reset_index()\n",
    "df_plot = df_plot[df_plot['count'] >= MIN_WEEKS]\\\n",
    "    .reset_index(drop=True)"
   ]
  },
  {
   "cell_type": "code",
   "execution_count": null,
   "id": "e4cb4c99",
   "metadata": {},
   "outputs": [],
   "source": [
    "fig = px.histogram(\n",
    "    df_plot, x='mean', title='作品ごとの掲載位置')\n",
    "fig.update_xaxes(title='平均掲載位置')\n",
    "fig.update_yaxes(title='作品数')\n",
    "show_fig(fig)"
   ]
  },
  {
   "cell_type": "code",
   "execution_count": null,
   "id": "22e563db",
   "metadata": {},
   "outputs": [],
   "source": [
    "fig = px.histogram(\n",
    "    df_plot, x='mean', cumulative=True,\n",
    "    title='作品ごとの掲載位置')\n",
    "fig.update_xaxes(title='平均掲載位置')\n",
    "fig.update_yaxes(title='累積作品数')\n",
    "show_fig(fig)"
   ]
  },
  {
   "cell_type": "code",
   "execution_count": null,
   "id": "37556e3e",
   "metadata": {},
   "outputs": [],
   "source": [
    "df_plot.sort_values('mean').reset_index(drop=True).head(10)"
   ]
  },
  {
   "cell_type": "markdown",
   "id": "4fc10779",
   "metadata": {},
   "source": [
    "#### 長期連載作品の掲載位置の分布"
   ]
  },
  {
   "cell_type": "code",
   "execution_count": null,
   "id": "2d6e297c",
   "metadata": {},
   "outputs": [],
   "source": [
    "df_tmp = \\\n",
    "    df_plot.sort_values(['count'], ascending=False, ignore_index=True)\\\n",
    "    .head(10)\n",
    "df_tmp"
   ]
  },
  {
   "cell_type": "code",
   "execution_count": null,
   "id": "47c5766a",
   "metadata": {},
   "outputs": [],
   "source": [
    "cnames = df_tmp.sort_values('mean')['cname'].values\n",
    "for cname in cnames:\n",
    "    df_c = df[df['cname']==cname].reset_index(drop=True)\n",
    "    pos = df_c['pageStartPosition'].mean()\n",
    "    n = df_c.shape[0]\n",
    "    fig = px.histogram(\n",
    "        df_c, x='pageStartPosition', nbins=20,\n",
    "        title=f'{cname}の掲載位置（全{n}話，平均{pos:.3f}）')\n",
    "    fig.update_xaxes(title='掲載位置')\n",
    "    fig.update_yaxes(title='話数')\n",
    "    show_fig(fig)"
   ]
  },
  {
   "cell_type": "markdown",
   "id": "f319ef72",
   "metadata": {},
   "source": [
    "### 密度プロット"
   ]
  },
  {
   "cell_type": "markdown",
   "id": "1749f63d",
   "metadata": {},
   "source": [
    "#### 長期連載作品の掲載位置の分布"
   ]
  },
  {
   "cell_type": "code",
   "execution_count": null,
   "id": "480d376a",
   "metadata": {},
   "outputs": [],
   "source": [
    "df_tmp = \\\n",
    "    df.groupby('cname')['pageStartPosition']\\\n",
    "    .agg(['count', 'mean']).reset_index()\n",
    "df_tmp = \\\n",
    "    df_tmp.sort_values('count', ascending=False, ignore_index=True)\\\n",
    "    .head(10)\n",
    "cname2position = df_tmp.groupby('cname')['mean'].first().to_dict()"
   ]
  },
  {
   "cell_type": "code",
   "execution_count": null,
   "id": "b77f0b2a",
   "metadata": {},
   "outputs": [],
   "source": [
    "df_plot = df[df['cname'].isin(list(cname2position.keys()))]\\\n",
    "    .reset_index(drop=True)\n",
    "df_plot['position'] = df_plot['cname'].apply(\n",
    "    lambda x: cname2position[x])\n",
    "df_plot = df_plot.sort_values('position', ignore_index=True)"
   ]
  },
  {
   "cell_type": "code",
   "execution_count": null,
   "id": "d9ac1b21",
   "metadata": {},
   "outputs": [],
   "source": [
    "cnames = df_tmp.sort_values('mean')['cname'].values\n",
    "data = [\n",
    "    df[df['cname']==cname].reset_index(drop=True)\\\n",
    "    ['pageStartPosition'] for cname in cnames]"
   ]
  },
  {
   "cell_type": "code",
   "execution_count": null,
   "id": "f730323c",
   "metadata": {},
   "outputs": [],
   "source": [
    "fig = ff.create_distplot(\n",
    "    data, cnames, show_hist=False,\n",
    "    colors= px.colors.sequential.Plasma_r)\n",
    "fig.update_xaxes(title='掲載位置')\n",
    "fig.update_yaxes(title='確率密度')\n",
    "fig.update_layout(\n",
    "    hovermode='x unified', height=600,\n",
    "    title_text='長期連載作品の掲載位置')\n",
    "show_fig(fig)"
   ]
  },
  {
   "cell_type": "markdown",
   "id": "9f8e62e6",
   "metadata": {},
   "source": [
    "### 箱ひげ図"
   ]
  },
  {
   "cell_type": "markdown",
   "id": "56195e7e",
   "metadata": {},
   "source": [
    "#### 長期連載作品の掲載位置の分布"
   ]
  },
  {
   "cell_type": "code",
   "execution_count": null,
   "id": "addd16d7",
   "metadata": {},
   "outputs": [],
   "source": [
    "df_tmp = \\\n",
    "    df.groupby('cname')['pageStartPosition']\\\n",
    "    .agg(['count', 'mean']).reset_index()\n",
    "df_tmp = \\\n",
    "    df_tmp.sort_values('count', ascending=False, ignore_index=True)\\\n",
    "    .head(10)\n",
    "cname2position = df_tmp.groupby('cname')['mean'].first().to_dict()"
   ]
  },
  {
   "cell_type": "code",
   "execution_count": null,
   "id": "40dac875",
   "metadata": {},
   "outputs": [],
   "source": [
    "df_plot = df[df['cname'].isin(list(cname2position.keys()))]\\\n",
    "    .reset_index(drop=True)\n",
    "df_plot['position'] = df_plot['cname'].apply(\n",
    "    lambda x: cname2position[x])\n",
    "df_plot = df_plot.sort_values('position', ignore_index=True)"
   ]
  },
  {
   "cell_type": "code",
   "execution_count": null,
   "id": "d71623b6",
   "metadata": {},
   "outputs": [],
   "source": [
    "fig = px.box(\n",
    "    df_plot, x='cname', y='pageStartPosition',\n",
    "    title='長期連載作品の掲載位置')\n",
    "fig.update_xaxes(title='作品名')\n",
    "fig.update_yaxes(title='掲載位置')\n",
    "show_fig(fig)"
   ]
  },
  {
   "cell_type": "markdown",
   "id": "3d5102ce",
   "metadata": {},
   "source": [
    "### バイオリンプロット"
   ]
  },
  {
   "cell_type": "markdown",
   "id": "e2ffe664",
   "metadata": {},
   "source": [
    "#### 長期連載作品の掲載位置の分布"
   ]
  },
  {
   "cell_type": "code",
   "execution_count": null,
   "id": "45e91f9e",
   "metadata": {},
   "outputs": [],
   "source": [
    "df_tmp = \\\n",
    "    df.groupby('cname')['pageStartPosition']\\\n",
    "    .agg(['count', 'mean']).reset_index()\n",
    "df_tmp = \\\n",
    "    df_tmp.sort_values('count', ascending=False, ignore_index=True)\\\n",
    "    .head(10)\n",
    "cname2position = df_tmp.groupby('cname')['mean'].first().to_dict()"
   ]
  },
  {
   "cell_type": "code",
   "execution_count": null,
   "id": "dd44f8b3",
   "metadata": {},
   "outputs": [],
   "source": [
    "df_plot = df[df['cname'].isin(list(cname2position.keys()))]\\\n",
    "    .reset_index(drop=True)\n",
    "df_plot['position'] = df_plot['cname'].apply(\n",
    "    lambda x: cname2position[x])\n",
    "df_plot = df_plot.sort_values('position', ignore_index=True)"
   ]
  },
  {
   "cell_type": "code",
   "execution_count": null,
   "id": "13e70d91",
   "metadata": {},
   "outputs": [],
   "source": [
    "fig = px.violin(\n",
    "    df_plot, x='cname', y='pageStartPosition', points=False,\n",
    "    title='長期連載作品の掲載位置')\n",
    "fig.update_traces(scalemode='count', meanline_visible=True, width=1)\n",
    "fig.update_layout(violinmode='overlay', violingap=0)\n",
    "fig.update_xaxes(title='作品名')\n",
    "fig.update_yaxes(title='掲載位置')\n",
    "show_fig(fig)"
   ]
  },
  {
   "cell_type": "markdown",
   "id": "0cd59ba9",
   "metadata": {},
   "source": [
    "### リッジラインプロット"
   ]
  },
  {
   "cell_type": "markdown",
   "id": "961cca4c",
   "metadata": {},
   "source": [
    "Plotlyでは直接リッジラインプロットを描く関数がないため、バイオリンプロットを応用します。Altairではリッジラインプロットを作れます。ぜひ試してみてください。"
   ]
  },
  {
   "cell_type": "markdown",
   "id": "388034ca",
   "metadata": {},
   "source": [
    "#### 長期連載作品の話数毎の掲載位置の分布"
   ]
  },
  {
   "cell_type": "code",
   "execution_count": null,
   "id": "edaf4665",
   "metadata": {},
   "outputs": [],
   "source": [
    "df_tmp = \\\n",
    "    df.groupby('cname')['pageStartPosition']\\\n",
    "    .agg(['count', 'mean']).reset_index()\n",
    "df_tmp = \\\n",
    "    df_tmp.sort_values('count', ascending=False, ignore_index=True)\\\n",
    "    .head(10)\n",
    "cname2position = df_tmp.groupby('cname')['mean'].first().to_dict()"
   ]
  },
  {
   "cell_type": "code",
   "execution_count": null,
   "id": "75b93902",
   "metadata": {},
   "outputs": [],
   "source": [
    "df_plot = df[df['cname'].isin(list(cname2position.keys()))]\\\n",
    "    .reset_index(drop=True)\n",
    "df_plot['position'] = df_plot['cname'].apply(\n",
    "    lambda x: cname2position[x])\n",
    "df_plot = df_plot.sort_values('position', ignore_index=True)"
   ]
  },
  {
   "cell_type": "code",
   "execution_count": null,
   "id": "351a3c4e",
   "metadata": {},
   "outputs": [],
   "source": [
    "# 話数の区切り\n",
    "UNIT_EP = 100"
   ]
  },
  {
   "cell_type": "code",
   "execution_count": null,
   "id": "f3346e55",
   "metadata": {},
   "outputs": [],
   "source": [
    "cnames = df_plot['cname'].unique()\n",
    "for cname in cnames:\n",
    "    df_c = df_plot[df_plot['cname']==cname].reset_index(drop=True)\n",
    "    df_c['eprange'] = (df_c.index + 1) // UNIT_EP * UNIT_EP\n",
    "    df_c = df_c.sort_values('eprange', ascending=False, ignore_index=False)\n",
    "    df_c['eprange'] = df_c['eprange'].apply(\n",
    "        lambda x: f'{x}話以降')\n",
    "    fig = px.violin(\n",
    "        df_c, y='eprange', x='pageStartPosition',\n",
    "        title=f'{cname}の掲載位置', orientation='h',\n",
    "        points=False)\n",
    "    fig.update_traces(\n",
    "        side='positive', scalemode='count', width=4)\n",
    "    fig.update_layout(xaxis_showgrid=False, xaxis_zeroline=False)\n",
    "    fig.update_xaxes(title='掲載位置')\n",
    "    fig.update_yaxes(title='話数')\n",
    "    show_fig(fig)"
   ]
  },
  {
   "cell_type": "markdown",
>>>>>>> Stashed changes
   "id": "e43330dd",
   "metadata": {},
   "source": [
    "## 比率を見る"
   ]
  },
  {
   "cell_type": "markdown",
<<<<<<< Updated upstream
=======
   "id": "5747bcdd",
   "metadata": {},
   "source": [
    "### 円グラフ"
   ]
  },
  {
   "cell_type": "markdown",
   "id": "af07d019",
   "metadata": {},
   "source": [
    "#### 雑誌別の合計作品数"
   ]
  },
  {
   "cell_type": "code",
   "execution_count": null,
   "id": "e53207cf",
   "metadata": {},
   "outputs": [],
   "source": [
    "df_plot = \\\n",
    "    df.groupby('mcname')['cname'].nunique().reset_index()\n",
    "df_plot = \\\n",
    "    df_plot.sort_values(\n",
    "    'cname', ascending=False, ignore_index=True)\n",
    "fig = px.pie(\n",
    "    df_plot, values='cname', names='mcname',\n",
    "    color_discrete_sequence= px.colors.diverging.Portland,\n",
    "    title='雑誌別の合計作品数')\n",
    "show_fig(fig)"
   ]
  },
  {
   "cell_type": "markdown",
   "id": "fc62b05d",
   "metadata": {},
   "source": [
    "### 積み上げ棒グラフ"
   ]
  },
  {
   "cell_type": "markdown",
   "id": "afbcf1f0",
   "metadata": {},
   "source": [
    "#### 雑誌別・年代別の合計作品数"
   ]
  },
  {
   "cell_type": "code",
   "execution_count": null,
   "id": "77808f12",
   "metadata": {},
   "outputs": [],
   "source": [
    "col_count = 'cname'"
   ]
  },
  {
   "cell_type": "code",
   "execution_count": null,
   "id": "1eb1ab18",
   "metadata": {},
   "outputs": [],
   "source": [
    "# 10年単位で区切ったyearsを追加\n",
    "df = add_years_to_df(df, 10)\n",
    "# mcname, yearsで集計\n",
    "df_plot = \\\n",
    "    df.groupby(['mcname', 'years'])[col_count].\\\n",
    "    nunique().reset_index()\n",
    "# years単位で集計してdf_plotにカラムを追加\n",
    "df_tmp = df_plot.groupby('years')[col_count].sum().reset_index(\n",
    "    name='years_total')\n",
    "df_plot = pd.merge(df_plot, df_tmp, how='left', on='years')\n",
    "# years合計あたりの比率を計算\n",
    "df_plot['ratio'] = df_plot[col_count] / df_plot['years_total']\n",
    "df_plot['text'] = df_plot['ratio'].apply(\n",
    "    lambda x: f'{x:.2}')"
   ]
  },
  {
   "cell_type": "code",
   "execution_count": null,
   "id": "13e10c41",
   "metadata": {},
   "outputs": [],
   "source": [
    "fig = px.bar(\n",
    "    df_plot, y='years', x='ratio', color='mcname', text='text',\n",
    "    color_discrete_sequence= px.colors.diverging.Portland,\n",
    "    barmode='stack', title='雑誌別・年代別の合計作品数')\n",
    "fig.update_xaxes(title='期間')\n",
    "fig.update_yaxes(title='比率')\n",
    "show_fig(fig)"
   ]
  },
  {
   "cell_type": "code",
   "execution_count": null,
   "id": "a08d4677",
   "metadata": {},
   "outputs": [],
   "source": [
    "fig = px.bar(\n",
    "    df_plot, y='mcname', x='ratio', color='years', text='text',\n",
    "    color_discrete_sequence= px.colors.diverging.Portland,\n",
    "    barmode='group', title='雑誌別・年代別の合計作品数')\n",
    "fig.update_xaxes(title='期間')\n",
    "fig.update_yaxes(title='比率')\n",
    "show_fig(fig)"
   ]
  },
  {
   "cell_type": "markdown",
   "id": "b7a653a5",
   "metadata": {},
   "source": [
    "### パラレルセットグラフ（サンキーチャート）\n",
    "\n",
    "パラレルセットグラフは多変数の内訳を見るのに便利ですが、Altairでは作れないようです。\n",
    "\n",
    "一方で、Plotlyでは簡単に作れます。"
   ]
  },
  {
   "cell_type": "markdown",
   "id": "b3a30a3b",
   "metadata": {},
   "source": [
    "#### 雑誌別・年代別・曜日別の雑誌巻号数"
   ]
  },
  {
   "cell_type": "code",
   "execution_count": null,
   "id": "6f2c59d3",
   "metadata": {},
   "outputs": [],
   "source": [
    "# 10年単位で区切ったyearsを追加\n",
    "df_plot = df[~df['miname'].duplicated()].reset_index(drop=True)\n",
    "df_plot = add_years_to_df(df_plot, 10)\n",
    "df_plot = add_weekday_to_df(df_plot)\n",
    "df_plot = add_mcid_to_df(df_plot)\n",
    "df_plot = df_plot.sort_values(\n",
    "    ['weekday', 'years', 'mcname'], ignore_index=True)"
   ]
  },
  {
   "cell_type": "code",
   "execution_count": null,
   "id": "d5e6fa3c",
   "metadata": {},
   "outputs": [],
   "source": [
    "fig = px.parallel_categories(\n",
    "    df_plot, dimensions=['mcname', 'years', 'weekday_str'],\n",
    "    color='mcid', \n",
    "    labels={\n",
    "        'years': '年代', 'mcname': '雑誌名', \n",
    "        'weekday_str': '発売曜日'},\n",
    "    title='雑誌別・年代別・曜日別の雑誌巻号数')\n",
    "fig.update_coloraxes(showscale=False)\n",
    "show_fig(fig)"
   ]
  },
  {
   "cell_type": "markdown",
>>>>>>> Stashed changes
   "id": "a76e78ac",
   "metadata": {},
   "source": [
    "## 変数の関係を見る"
   ]
  },
  {
<<<<<<< Updated upstream
   "cell_type": "code",
   "execution_count": null,
   "id": "d550d80e",
   "metadata": {},
   "outputs": [],
   "source": []
=======
   "cell_type": "markdown",
   "id": "64658f36",
   "metadata": {},
   "source": [
    "### 散布図"
   ]
  },
  {
   "cell_type": "markdown",
   "id": "9923c468",
   "metadata": {},
   "source": [
    "#### 雑誌別・作品別の平均掲載位置と連載週数"
   ]
  },
  {
   "cell_type": "code",
   "execution_count": null,
   "id": "5ac818bd",
   "metadata": {},
   "outputs": [],
   "source": [
    "df_plot = \\\n",
    "    df.groupby(['mcname', 'cname'])['pageStartPosition'].\\\n",
    "    agg(['count', 'mean']).reset_index()\n",
    "df_plot.columns = ['mcname', 'cname', 'weeks', 'position']\n",
    "df_plot = \\\n",
    "    df_plot[df_plot['weeks'] >= MIN_WEEKS].reset_index(drop=True)"
   ]
  },
  {
   "cell_type": "code",
   "execution_count": null,
   "id": "0cd109e9",
   "metadata": {},
   "outputs": [],
   "source": [
    "fig = px.scatter(\n",
    "    df_plot, x='position', y='weeks', color='mcname', \n",
    "    opacity=0.7,\n",
    "    hover_data=['cname'], \n",
    "    color_discrete_sequence= px.colors.diverging.Portland,\n",
    "    title='雑誌別・作品別の平均掲載位置と連載週数')\n",
    "fig.update_traces(\n",
    "    marker={'size': 10, 'line_width':1})\n",
    "fig.update_xaxes(title='平均掲載位置')\n",
    "fig.update_yaxes(title='連載週数')\n",
    "show_fig(fig)"
   ]
  },
  {
   "cell_type": "markdown",
   "id": "08ce4c02",
   "metadata": {},
   "source": [
    "### 二次元ヒストグラム\n",
    "\n",
    "二次元のヒストグラム（ヒートマップの一種）は、散布図のドットが重複して確認しずらい時に使えます。"
   ]
  },
  {
   "cell_type": "markdown",
   "id": "462176da",
   "metadata": {},
   "source": [
    "#### 作品別の平均掲載位置と連載週数"
   ]
  },
  {
   "cell_type": "code",
   "execution_count": null,
   "id": "f2a08311",
   "metadata": {},
   "outputs": [],
   "source": [
    "df_plot = \\\n",
    "    df.groupby('cname')['pageStartPosition'].\\\n",
    "    agg(['count', 'mean']).reset_index()\n",
    "df_plot.columns = ['cname', 'weeks', 'position']\n",
    "df_plot = \\\n",
    "    df_plot[df_plot['weeks'] >= MIN_WEEKS].reset_index(drop=True)"
   ]
  },
  {
   "cell_type": "code",
   "execution_count": null,
   "id": "7bdb777a",
   "metadata": {},
   "outputs": [],
   "source": [
    "fig = px.density_heatmap(\n",
    "    df_plot, x='position', y='weeks',\n",
    "    title='作品別の平均掲載位置と掲載週数')\n",
    "fig.update_xaxes(title='平均掲載位置')\n",
    "fig.update_yaxes(title='掲載週数')\n",
    "show_fig(fig)"
   ]
  },
  {
   "cell_type": "code",
   "execution_count": null,
   "id": "bdcf1b97",
   "metadata": {},
   "outputs": [],
   "source": [
    "# 表示範囲を変更\n",
    "fig.update_yaxes(range=[0, 200])\n",
    "show_fig(fig)"
   ]
  },
  {
   "cell_type": "markdown",
   "id": "d64c85dd",
   "metadata": {},
   "source": [
    "### 並行座標プロット"
   ]
  },
  {
   "cell_type": "markdown",
   "id": "d02e0d9e",
   "metadata": {},
   "source": [
    "並行座標プロットはパラレルセットグラフと似ていますが、量的変数を対象としているところが異なります。\n",
    "\n",
    "パラレルセットグラフと同様、3つ以上の変数を扱う時に強みを発揮します。"
   ]
  },
  {
   "cell_type": "markdown",
   "id": "4a4065a2",
   "metadata": {},
   "source": [
    "#### 作品別の平均掲載位置と連載週数と平均ページ数"
   ]
  },
  {
   "cell_type": "code",
   "execution_count": null,
   "id": "6adadc2a",
   "metadata": {},
   "outputs": [],
   "source": [
    "df_plot = \\\n",
    "    df.groupby(['mcname', 'cname'])\\\n",
    "    [['pages', 'pageStartPosition']].\\\n",
    "    agg(['count', 'mean']).reset_index()\n",
    "df_plot.columns = [\n",
    "    'mcname', 'cname', 'weeks', 'pages',\n",
    "    '_weeks', 'position']\n",
    "df_plot = \\\n",
    "    df_plot[df_plot['weeks'] >= MIN_WEEKS].reset_index(drop=True)"
   ]
  },
  {
   "cell_type": "code",
   "execution_count": null,
   "id": "4f3e36b3",
   "metadata": {},
   "outputs": [],
   "source": [
    "fig = px.parallel_coordinates(\n",
    "    df_plot, dimensions=['position', 'pages', 'weeks'],\n",
    "    color='position',\n",
    "    labels={\n",
    "        'position': '掲載位置', 'weeks': '掲載週数',\n",
    "        'pages': 'ページ数'})\n",
    "show_fig(fig)"
   ]
  },
  {
   "cell_type": "markdown",
   "id": "5d78fa95",
   "metadata": {},
   "source": [
    "### コレログラム"
   ]
  },
  {
   "cell_type": "markdown",
   "id": "2da800d7",
   "metadata": {},
   "source": [
    "コレログラムは、複数の量的変数の相関係数を見るヒートマップです。"
   ]
  },
  {
   "cell_type": "markdown",
   "id": "035e1c64",
   "metadata": {},
   "source": [
    "#### 作品別の平均掲載位置と掲載週数"
   ]
  },
  {
   "cell_type": "code",
   "execution_count": null,
   "id": "3a37c281",
   "metadata": {},
   "outputs": [],
   "source": [
    "df_plot = \\\n",
    "    df.groupby(['cname'])\\\n",
    "    [['pages', 'pageStartPosition']].\\\n",
    "    agg(['count', 'mean']).reset_index()\n",
    "df_plot.columns = [\n",
    "    '作品名', '掲載週数', '平均ページ数',\n",
    "    '_weeks', '平均掲載位置']\n",
    "df_plot = \\\n",
    "    df_plot[df_plot['掲載週数'] >= MIN_WEEKS].\\\n",
    "    reset_index(drop=True)\n",
    "df_plot = df_plot.drop(columns=['_weeks'])\n",
    "df_corr = df_plot.corr().iloc[::-1]"
   ]
  },
  {
   "cell_type": "code",
   "execution_count": null,
   "id": "1e44c41b",
   "metadata": {},
   "outputs": [],
   "source": [
    "# 作図対象の相関係数\n",
    "df_corr"
   ]
  },
  {
   "cell_type": "code",
   "execution_count": null,
   "id": "2f42ef0d",
   "metadata": {},
   "outputs": [],
   "source": [
    "fig = ff.create_annotated_heatmap(\n",
    "    df_corr.values,\n",
    "    x=list(df_corr.index.values),\n",
    "    y=list(df_corr.columns.values),\n",
    "    annotation_text=df_corr.values,\n",
    "    #colorscale='BlueRed_r'\n",
    ")\n",
    "show_fig(fig)"
   ]
  },
  {
   "cell_type": "markdown",
   "id": "ae9d2743",
   "metadata": {},
   "source": [
    "### 折れ線グラフ"
   ]
  },
  {
   "cell_type": "markdown",
   "id": "3226303a",
   "metadata": {},
   "source": [
    "#### 雑誌別の年毎のエピソード数の推移"
   ]
  },
  {
   "cell_type": "code",
   "execution_count": null,
   "id": "6d0333fc",
   "metadata": {},
   "outputs": [],
   "source": [
    "# 1年単位で区切ったyearsを追加\n",
    "df = add_years_to_df(df, 1)"
   ]
  },
  {
   "cell_type": "code",
   "execution_count": null,
   "id": "c047213a",
   "metadata": {},
   "outputs": [],
   "source": [
    "df_plot = df.groupby([\"years\", \"mcname\"])[\"cname\"].count().reset_index(name=\"count\")"
   ]
  },
  {
   "cell_type": "code",
   "execution_count": null,
   "id": "ed3abba9",
   "metadata": {},
   "outputs": [],
   "source": [
    "fig = px.line(df_plot, x=\"years\", y=\"count\", color=\"mcname\",\n",
    "              labels={\n",
    "                  \"years\": \"年\",\n",
    "                  \"count\": \"エピソード数\",\n",
    "                  \"mcname\": \"雑誌名\"\n",
    "              },\n",
    "              title=\"エピソード数の推移\")\n",
    "show_fig(fig)"
   ]
>>>>>>> Stashed changes
  }
 ],
 "metadata": {
  "kernelspec": {
   "display_name": "Python 3 (ipykernel)",
   "language": "python",
   "name": "python3"
  },
  "language_info": {
   "codemirror_mode": {
    "name": "ipython",
    "version": 3
   },
   "file_extension": ".py",
   "mimetype": "text/x-python",
   "name": "python",
   "nbconvert_exporter": "python",
   "pygments_lexer": "ipython3",
   "version": "3.10.0"
  }
 },
 "nbformat": 4,
 "nbformat_minor": 5
}
